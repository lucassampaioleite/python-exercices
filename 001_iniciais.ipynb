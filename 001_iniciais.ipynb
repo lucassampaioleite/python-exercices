{
 "cells": [
  {
   "attachments": {},
   "cell_type": "markdown",
   "metadata": {},
   "source": [
    "### Exercícios iniciais de lógica de programação com a linguagem Python."
   ]
  },
  {
   "attachments": {},
   "cell_type": "markdown",
   "metadata": {},
   "source": [
    "**1. Faça um programa que mostre a mensagem \"Hello World!\" na tela.**"
   ]
  },
  {
   "cell_type": "code",
   "execution_count": 1,
   "metadata": {},
   "outputs": [
    {
     "name": "stdout",
     "output_type": "stream",
     "text": [
      "Hello World!\n"
     ]
    }
   ],
   "source": [
    "print('Hello World!')"
   ]
  },
  {
   "attachments": {},
   "cell_type": "markdown",
   "metadata": {},
   "source": [
    "**2. Faça um Programa que solicite dois números e imprima a sua soma.**"
   ]
  },
  {
   "cell_type": "code",
   "execution_count": 4,
   "metadata": {},
   "outputs": [
    {
     "name": "stdout",
     "output_type": "stream",
     "text": [
      "A soma entre 5 e 6 é 11\n"
     ]
    }
   ],
   "source": [
    "number1 = int(input('Entre com um número: '))\n",
    "number2 = int(input('Enter com outro número: '))\n",
    "sum = number1 + number2\n",
    "print('A soma entre', number1, 'e', number2, 'é', sum)"
   ]
  },
  {
   "attachments": {},
   "cell_type": "markdown",
   "metadata": {},
   "source": [
    "**3. Faça um Programa que dado o número de horas trabalhadas e o valor da hora, calcule e mostre o total do salário no referido mês.**"
   ]
  },
  {
   "cell_type": "code",
   "execution_count": 6,
   "metadata": {},
   "outputs": [
    {
     "name": "stdout",
     "output_type": "stream",
     "text": [
      "O salário é R$ 20000.0\n"
     ]
    }
   ],
   "source": [
    "worked_hours = float(input('Entre com o número de horas trabalhadas: '))\n",
    "hour_rate = float(input('Entre com o valor da hora trabalhada: '))\n",
    "print('O salário é R$', worked_hours * hour_rate)"
   ]
  },
  {
   "attachments": {},
   "cell_type": "markdown",
   "metadata": {},
   "source": [
    "**4. Você estudou muito pra sua prova de lógica de programação e conseguiu terminar a prova em 1 hora e 34 minutos. Faça um programa que calcula e exibe o tempo de prova decorrido, em minutos e em segundos.**"
   ]
  },
  {
   "cell_type": "code",
   "execution_count": 7,
   "metadata": {},
   "outputs": [
    {
     "name": "stdout",
     "output_type": "stream",
     "text": [
      "Tempo de prova em minutos:  94\n",
      "Tempo de prova em segundos:  5640\n"
     ]
    }
   ],
   "source": [
    "hour = 1 \n",
    "minutes = 34\n",
    "\n",
    "exam_in_minutes = hour * 60 + minutes\n",
    "exam_in_seconds = exam_in_minutes * 60\n",
    "\n",
    "print('Tempo de prova:', exam_in_minutes, 'minutos.')\n",
    "print('Tempo de prova:', exam_in_seconds, 'segundos.')"
   ]
  },
  {
   "cell_type": "code",
   "execution_count": 2,
   "metadata": {},
   "outputs": [
    {
     "name": "stdout",
     "output_type": "stream",
     "text": [
      "Tempo de prova: 94 minutos.\n",
      "Tempo de prova: 5640 segundos.\n"
     ]
    }
   ],
   "source": [
    "hour = 1 \n",
    "minutes = 34\n",
    "CONST_CONVERSION = 60\n",
    "\n",
    "print('Tempo de prova:', hour * CONST_CONVERSION + minutes, 'minutos.')\n",
    "print('Tempo de prova:', (hour * CONST_CONVERSION + minutes) * CONST_CONVERSION, 'segundos.')"
   ]
  },
  {
   "attachments": {},
   "cell_type": "markdown",
   "metadata": {},
   "source": [
    "**5. Faça um programa que converta metros para centímetros.**"
   ]
  },
  {
   "cell_type": "code",
   "execution_count": 11,
   "metadata": {},
   "outputs": [
    {
     "name": "stdout",
     "output_type": "stream",
     "text": [
      "2.0 metros é equivalente a  200.0 centímetros.\n"
     ]
    }
   ],
   "source": [
    "meters = float(input('Digite um valor em metros: '))\n",
    "\n",
    "centimeters = meters * 100\n",
    "\n",
    "print(meters, 'metros é equivalente a ', centimeters, 'centímetros.')"
   ]
  },
  {
   "attachments": {},
   "cell_type": "markdown",
   "metadata": {},
   "source": [
    "**6. Faça um programa que armazene 4 notas bimestrais, calcule e imprima a média.**"
   ]
  },
  {
   "cell_type": "code",
   "execution_count": 2,
   "metadata": {},
   "outputs": [
    {
     "name": "stdout",
     "output_type": "stream",
     "text": [
      "A média das notas dos quatro bimestres é: 8.25\n"
     ]
    }
   ],
   "source": [
    "grade1 = float(input('Digite a nota do primeiro bimestre: '))\n",
    "grade2 = float(input('Digite a nota do segundo bimestre: '))\n",
    "grade3 = float(input('Digite a nota do terceiro bimestre:: '))\n",
    "grade4 = float(input('Digite a nota do quarto bimestre:: '))\n",
    "\n",
    "average = (grade1 + grade2 + grade3 + grade4 )/4\n",
    "\n",
    "print('A média das notas dos quatro bimestres é:', average)"
   ]
  },
  {
   "attachments": {},
   "cell_type": "markdown",
   "metadata": {},
   "source": [
    "**7. Faça um programa que calcule a área de um círculo de raio 5 cm.**"
   ]
  },
  {
   "cell_type": "code",
   "execution_count": 12,
   "metadata": {},
   "outputs": [
    {
     "name": "stdout",
     "output_type": "stream",
     "text": [
      "A área de círculo de raio 5 é: 78.5 cm²\n"
     ]
    }
   ],
   "source": [
    "PI = 3.14\n",
    "radius = 5 \n",
    "area = PI * radius ** 2\n",
    "\n",
    "print('A área de círculo de raio', radius, 'é:', area, 'cm²')"
   ]
  },
  {
   "cell_type": "code",
   "execution_count": 13,
   "metadata": {},
   "outputs": [
    {
     "name": "stdout",
     "output_type": "stream",
     "text": [
      "A área de círculo de raio 5 é: 78.53981633974483 cm²\n"
     ]
    }
   ],
   "source": [
    "import math\n",
    "\n",
    "radius = 5 \n",
    "area = math.pi * radius ** 2\n",
    "\n",
    "print('A área de círculo de raio', radius, 'é:', area, 'cm²')"
   ]
  },
  {
   "attachments": {},
   "cell_type": "markdown",
   "metadata": {},
   "source": [
    "**8. Faça um programa que calcule a área de um quadrado, em seguida mostre o dobro desta área para o usuário.**"
   ]
  },
  {
   "cell_type": "code",
   "execution_count": null,
   "metadata": {},
   "outputs": [],
   "source": [
    "side = float(input('Digite o valor do lado do quadrado: '))\n",
    "\n",
    "area = side ** 2\n",
    "double_area = 2 * area\n",
    "\n",
    "print('A área do quadrado é: ', area)\n",
    "print('O dobro da área do quadrado é: ', double_area)"
   ]
  },
  {
   "attachments": {},
   "cell_type": "markdown",
   "metadata": {},
   "source": [
    "**9. As idades das pessoas de um determinado grupo são 10, 12, 15 e 17 anos. Calcule e exiba a média de idade do grupo e a variação percentual da média das idades caso uma pessoa de 16 anos se junte ao grupo.**"
   ]
  },
  {
   "cell_type": "code",
   "execution_count": 16,
   "metadata": {},
   "outputs": [
    {
     "name": "stdout",
     "output_type": "stream",
     "text": [
      "Média de idades do grupo antes da inserção: 13.5\n",
      "Média de idades do grupo após a inserção: 14.0\n",
      "Variação percentual da média: 3.7037037037037095 %\n"
     ]
    }
   ],
   "source": [
    "age1,age2,age3,age4 = 10,12,15,17\n",
    "avg = (age1 + age2 + age3 + age4) / 4\n",
    "\n",
    "new_age=16\n",
    "new_avg = (age1 + age2 + age3 + age4 + new_age) / 5\n",
    "variation = ((100 * new_avg) / avg - 100);\n",
    "\n",
    "print('Média de idades do grupo antes da inserção:', avg)\n",
    "print('Média de idades do grupo após a inserção:', new_avg)\n",
    "print('Variação percentual da média:',variation, \"%\")"
   ]
  },
  {
   "attachments": {},
   "cell_type": "markdown",
   "metadata": {},
   "source": [
    "**10. Faça um Programa que dada a temperatura em graus Fahrenheit, transforme e mostre a temperatura em graus Celsius.**"
   ]
  },
  {
   "cell_type": "code",
   "execution_count": 1,
   "metadata": {},
   "outputs": [
    {
     "name": "stdout",
     "output_type": "stream",
     "text": [
      "A temperatura digitada em Celsius é:  0.0 °C\n"
     ]
    }
   ],
   "source": [
    "fahrenheit = float(input('Digite uma temperatura em graus Fahrenheit: '))\n",
    "\n",
    "celsius = (fahrenheit - 32) * 5 / 9\n",
    "\n",
    "print('A temperatura digitada em Celsius é: ', celsius, '°C')"
   ]
  }
 ],
 "metadata": {
  "kernelspec": {
   "display_name": "Python 3",
   "language": "python",
   "name": "python3"
  },
  "language_info": {
   "codemirror_mode": {
    "name": "ipython",
    "version": 3
   },
   "file_extension": ".py",
   "mimetype": "text/x-python",
   "name": "python",
   "nbconvert_exporter": "python",
   "pygments_lexer": "ipython3",
   "version": "3.10.6"
  },
  "orig_nbformat": 4
 },
 "nbformat": 4,
 "nbformat_minor": 2
}
