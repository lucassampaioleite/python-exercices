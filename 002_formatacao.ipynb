{
 "cells": [
  {
   "attachments": {},
   "cell_type": "markdown",
   "metadata": {},
   "source": [
    "### Exercícios iniciais de lógica de programação envolvendo formatação de saída."
   ]
  },
  {
   "attachments": {},
   "cell_type": "markdown",
   "metadata": {},
   "source": [
    "**1. Crie um programa em Python que solicite ao usuário e receba o valor do lado para calcular a área de um quadrado. Use diferentes formas de formatação de saída.**"
   ]
  },
  {
   "cell_type": "code",
   "execution_count": 2,
   "metadata": {},
   "outputs": [
    {
     "name": "stdout",
     "output_type": "stream",
     "text": [
      "A área do quadrado é: 4.0 cm²\n",
      "A área do quadrado é: 4.0 cm²\n",
      "A área do quadrado é: 4.00 cm²\n",
      "A área do quadrado é: 4.0 cm²\n",
      "A área do quadrado é: 4.00 cm²\n",
      "A área do quadrado é: 4.000000 cm²\n",
      "A área do quadrado é: 4.00 cm²\n"
     ]
    }
   ],
   "source": [
    "side = float(input('Digite o valor do lado do quadrado em centímetros: '))\n",
    "\n",
    "area = side ** 2\n",
    "\n",
    "print('A área do quadrado é:', area, 'cm²')\n",
    "print(f'A área do quadrado é: {area} cm²')\n",
    "print(f'A área do quadrado é: {area:.2f} cm²')\n",
    "print('A área do quadrado é: {} cm²'.format(area))\n",
    "print('A área do quadrado é: {:.2f} cm²'.format(area))\n",
    "print('A área do quadrado é: %f cm²'%area)\n",
    "print('A área do quadrado é: %.2f cm²'%area)"
   ]
  },
  {
   "attachments": {},
   "cell_type": "markdown",
   "metadata": {},
   "source": [
    "**2. Crie um programa em Python que solicite ao usuário e receba os valores da base e altura para calcular a área de um triangulo.**"
   ]
  },
  {
   "cell_type": "code",
   "execution_count": 3,
   "metadata": {},
   "outputs": [
    {
     "name": "stdout",
     "output_type": "stream",
     "text": [
      "The area of the triangle is: 4.00 cm²\n"
     ]
    }
   ],
   "source": [
    "base = float(input('Entre com o valor da base do triângulo em centímetros: '))\n",
    "height = float(input('Entre com o valor da altura do triângulo em centímetros: '))\n",
    "\n",
    "area = (base * height) / 2\n",
    "\n",
    "print(f'A área do triângulo é: {area:.2f} cm²')"
   ]
  },
  {
   "attachments": {},
   "cell_type": "markdown",
   "metadata": {},
   "source": [
    "**3. Crie um programa em Python que que solicite ao usuário e receba o valor do raio para calcular a área, perímetro e diâmetro de um círculo.**\n",
    "- Declare π como constante."
   ]
  },
  {
   "cell_type": "code",
   "execution_count": 5,
   "metadata": {},
   "outputs": [
    {
     "name": "stdout",
     "output_type": "stream",
     "text": [
      "A área do círculo é: 50.24 cm²\n",
      "O perímetro do círculo é: 25.12 cm\n",
      "O diâmetro do círculo é: 8.0 cm\n"
     ]
    }
   ],
   "source": [
    "radius = float(input('Entre com o valor do raio do círculo em centímetros: '))\n",
    "PI = 3.14\n",
    "\n",
    "area = PI * radius ** 2\n",
    "perimeter = 2 * PI * radius\n",
    "diameter = 2 * radius\n",
    "\n",
    "print(f'A área do círculo é: {area} cm²')\n",
    "print(f'O perímetro do círculo é: {perimeter} cm')\n",
    "print(f'O diâmetro do círculo é: {diameter} cm')"
   ]
  },
  {
   "cell_type": "code",
   "execution_count": 6,
   "metadata": {},
   "outputs": [
    {
     "name": "stdout",
     "output_type": "stream",
     "text": [
      "A área do círculo é: 50.27 cm²\n",
      "O perímetro do círculo é: 25.13 cm\n",
      "O diâmetro do círculo é: 8.00 cm\n"
     ]
    }
   ],
   "source": [
    "import math\n",
    "\n",
    "radius = float(input('Entre com o valor do raio do círculo em centímetros:'))\n",
    "PI = math.pi\n",
    "\n",
    "print(f'A área do círculo é: {PI * radius ** 2:.2f} cm²')\n",
    "print(f'O perímetro do círculo é: {2 * PI * radius:.2f} cm')\n",
    "print(f'O diâmetro do círculo é: {2 * radius:.2f} cm')"
   ]
  },
  {
   "attachments": {},
   "cell_type": "markdown",
   "metadata": {},
   "source": [
    "**4. Faça um programa para uma loja de tintas. O programa deverá pedir o tamanho em metros quadrados da área a ser pintada. Considere que a cobertura da tinta é de 1 litro para cada 3 metros quadrados e que a tinta é vendida em latas de 18 litros, que custam R$ 80,00. Informe ao usuário a quantidades de latas de tinta a serem compradas e o preço total.**"
   ]
  },
  {
   "cell_type": "code",
   "execution_count": 7,
   "metadata": {},
   "outputs": [
    {
     "name": "stdout",
     "output_type": "stream",
     "text": [
      "Será preciso 4 latas de tinta.\n",
      "O preço total é: R$ 320.00.\n"
     ]
    }
   ],
   "source": [
    "COVERAGE_PER_LITER = 3  \n",
    "SIZE = 18  \n",
    "PRICE = 80.00 \n",
    "\n",
    "area = float(input('Digite o tamanho da área a ser pintada (em m²): '))\n",
    "\n",
    "coverage_per_can = COVERAGE_PER_LITER * SIZE\n",
    "required_cans = area / coverage_per_can\n",
    "if required_cans > int(required_cans):    \n",
    "    required_cans = int(required_cans) + 1\n",
    "total_price = required_cans * PRICE\n",
    "\n",
    "print(f'Será preciso {required_cans} latas de tinta.')\n",
    "print(f'O preço total é: R$ {total_price:.2f}.')"
   ]
  },
  {
   "cell_type": "code",
   "execution_count": 8,
   "metadata": {},
   "outputs": [
    {
     "name": "stdout",
     "output_type": "stream",
     "text": [
      "Será preciso 4 latas de tinta.\n",
      "O preço total é: R$ 320.00.\n"
     ]
    }
   ],
   "source": [
    "import math\n",
    "\n",
    "COVERAGE_PER_LITER = 3  \n",
    "SIZE = 18  \n",
    "PRICE = 80.00 \n",
    "\n",
    "area = float(input('Digite o tamanho da área a ser pintada (em m²): '))\n",
    "\n",
    "coverage_per_can = COVERAGE_PER_LITER * SIZE\n",
    "required_cans = math.ceil(area / coverage_per_can)\n",
    "total_price = required_cans * PRICE\n",
    "\n",
    "print(f'Será preciso {required_cans} latas de tinta.')\n",
    "print(f'O preço total é: R$ {total_price:.2f}.')"
   ]
  },
  {
   "attachments": {},
   "cell_type": "markdown",
   "metadata": {},
   "source": [
    "**5. Faça um Programa que peça 2 números inteiros e um número real e em seguida calcule e mostre:**\n",
    "\n",
    "**a)** o produto do dobro do primeiro com metade do segundo.\n",
    "\n",
    "**b)** a soma do triplo do primeiro com o terceiro. \n",
    "\n",
    "**c)** o terceiro elevado ao cubo."
   ]
  },
  {
   "cell_type": "code",
   "execution_count": 10,
   "metadata": {},
   "outputs": [
    {
     "name": "stdout",
     "output_type": "stream",
     "text": [
      "Resultado a) 8.0\n",
      "Resultado b) 11.5\n",
      "Resultado c) 166.375\n"
     ]
    }
   ],
   "source": [
    "first_integer = int(input('Digite um número inteiro: '))\n",
    "second_integer = int(input('Digite outro número inteiro: '))\n",
    "real_number = float(input('Digite um número real: '))\n",
    "\n",
    "result_a = (2 * first_integer) * (second_integer / 2)\n",
    "result_b = (3 * first_integer) + real_number\n",
    "result_c = real_number ** 3\n",
    "\n",
    "print(f'''Resultado a) {result_a}\n",
    "Resultado b) {result_b}\n",
    "Resultado c) {result_c}''')"
   ]
  }
 ],
 "metadata": {
  "kernelspec": {
   "display_name": "Python 3",
   "language": "python",
   "name": "python3"
  },
  "language_info": {
   "codemirror_mode": {
    "name": "ipython",
    "version": 3
   },
   "file_extension": ".py",
   "mimetype": "text/x-python",
   "name": "python",
   "nbconvert_exporter": "python",
   "pygments_lexer": "ipython3",
   "version": "3.10.6"
  },
  "orig_nbformat": 4
 },
 "nbformat": 4,
 "nbformat_minor": 2
}
