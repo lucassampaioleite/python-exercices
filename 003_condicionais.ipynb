{
 "cells": [
  {
   "attachments": {},
   "cell_type": "markdown",
   "metadata": {},
   "source": [
    "### Exercícios de lógica de programação envolvendo estruturas de controle (condicionais)."
   ]
  },
  {
   "attachments": {},
   "cell_type": "markdown",
   "metadata": {},
   "source": [
    "**1. Crie um programa que leia três números inteiros e mostre o maior e o menor deles.**"
   ]
  },
  {
   "cell_type": "code",
   "execution_count": 1,
   "metadata": {},
   "outputs": [
    {
     "name": "stdout",
     "output_type": "stream",
     "text": [
      "10.0 é o maior número digitado e 2.0 o menor.\n"
     ]
    }
   ],
   "source": [
    "number1 = float(input('Digite o primeiro número: '))\n",
    "number2 = float(input('Digite o segundo número: '))\n",
    "number3 = float(input('Digite o terceiro número: '))\n",
    "\n",
    "biggest=number1; smallest=number1\n",
    "\n",
    "if(number2>biggest): biggest=number2\n",
    "if(number3>biggest): biggest=number3\n",
    "if(number2<smallest): smallest=number2\n",
    "if(number3<smallest): smallest=number3\n",
    "\n",
    "print(f'{biggest} é o maior número digitado e {smallest} o menor.')"
   ]
  },
  {
   "cell_type": "code",
   "execution_count": 2,
   "metadata": {},
   "outputs": [
    {
     "name": "stdout",
     "output_type": "stream",
     "text": [
      "10.0 é o maior número digitado e 2.0 o menor.\n"
     ]
    }
   ],
   "source": [
    "number1 = float(input('Digite o primeiro número: '))\n",
    "number2 = float(input('Digite o segundo número: '))\n",
    "number3 = float(input('Digite o terceiro número: '))\n",
    "\n",
    "if(number1>=number2 and number1>=number3): biggest=number1\n",
    "elif (number2>=number1 and number2>=number3): biggest=number2\n",
    "else: biggest = number3\n",
    "\n",
    "if(number1<=number2 and number1<=number3): smallest=number1\n",
    "elif (number2<=number1 and number2<=number3): smallest=number2\n",
    "else: smallest = number3\n",
    "\n",
    "print(f'{biggest} é o maior número digitado e {smallest} o menor.')"
   ]
  },
  {
   "attachments": {},
   "cell_type": "markdown",
   "metadata": {},
   "source": [
    "**2. Dados três valores distintos, fazer um programa que, após a leitura destes dados, coloque-os em ordem crescente.**"
   ]
  },
  {
   "cell_type": "code",
   "execution_count": 5,
   "metadata": {},
   "outputs": [
    {
     "name": "stdout",
     "output_type": "stream",
     "text": [
      "Números digitados em ordem crescente: 4.0, 5.0, 6.0.\n"
     ]
    }
   ],
   "source": [
    "number1 = float(input('Digite o primeiro número: '))\n",
    "number2 = float(input('Digite o segundo número: '))\n",
    "number3 = float(input('Digite o terceiro número: '))\n",
    "\n",
    "if number1>number2:\n",
    "    aux=number2\n",
    "    number2=number1\n",
    "    number1=aux\n",
    "if number2>number3:\n",
    "    aux=number3\n",
    "    number3=number2\n",
    "    number2=aux\n",
    "if number1>number2:\n",
    "    aux=number2\n",
    "    number2=number1\n",
    "    number1=aux\n",
    "print(f'Números digitados em ordem crescente: {number1}, {number2}, {number3}.')"
   ]
  },
  {
   "cell_type": "code",
   "execution_count": 6,
   "metadata": {},
   "outputs": [
    {
     "name": "stdout",
     "output_type": "stream",
     "text": [
      "Números digitados em ordem crescente: 4.0 5.0 6.0\n"
     ]
    }
   ],
   "source": [
    "number1 = float(input('Digite o primeiro número: '))\n",
    "number2 = float(input('Digite o segundo número: '))\n",
    "number3 = float(input('Digite o terceiro número: '))\n",
    "\n",
    "print(f'Números digitados em ordem crescente:', end=' ')\n",
    "if number1<number2 and number2<number3: print(f'{number1} {number2} {number3}')\n",
    "elif number1<number3 and number3<number2: print(f'{number1} {number3} {number2}')\n",
    "elif number2<number1 and number1<number3: print(f'{number2} {number1} {number3}')\n",
    "elif number2<number3 and number3<number1: print(f'{number2} {number3} {number1}')\n",
    "elif number3<number1 and number1<number2: print(f'{number3} {number1} {number2}')\n",
    "else: print(f'{number3} {number2} {number1}')"
   ]
  },
  {
   "attachments": {},
   "cell_type": "markdown",
   "metadata": {},
   "source": [
    "**3. Elaborar um programa que, dada a idade de um nadador, classificá-lo nas categorias: Infantil A (5 - 7 anos),  Infantil B (8 -10 anos), Juvenil A (11 - 13 anos), Juvenil B (14 -17 anos) e Adulto (maior ou igual a 18 anos).**"
   ]
  },
  {
   "cell_type": "code",
   "execution_count": 7,
   "metadata": {},
   "outputs": [
    {
     "name": "stdout",
     "output_type": "stream",
     "text": [
      "Adulto\n"
     ]
    }
   ],
   "source": [
    "age = int(input(\"Digite a idade do nadador: \"))\n",
    "if age<5: print('Idade inválida!')\n",
    "elif age>=5 and age<=7: print('Infantil A')\n",
    "elif age>=8 and age<=10: print('Infantil B')\n",
    "elif age>=11 and age<=13: print('Juvenil A')\n",
    "elif age>=14 and age<=17: print('Juvenil B')\n",
    "else: print('Adulto')"
   ]
  },
  {
   "attachments": {},
   "cell_type": "markdown",
   "metadata": {},
   "source": [
    "**4. Crie um programa que leia um número inteiro e mostre uma mensagem indicando se este número é par ou ímpar, e se é positivo ou negativo.**"
   ]
  },
  {
   "cell_type": "code",
   "execution_count": 8,
   "metadata": {},
   "outputs": [
    {
     "name": "stdout",
     "output_type": "stream",
     "text": [
      "O número é negativo e par.\n"
     ]
    }
   ],
   "source": [
    "number = int(input('Digite um número inteiro: '));\n",
    "if number == 0: print('O número é neutro e par.')\n",
    "elif number > 0 and number%2 == 0: print('O número é positivo e par.')\n",
    "elif number > 0 and number%2 == 1: print('O número é positivo e ímpar.')\n",
    "elif number < 0 and number%2 == 0: print('O número é negativo e par.')\n",
    "else: print('O número é negativo e ímpar.')"
   ]
  },
  {
   "attachments": {},
   "cell_type": "markdown",
   "metadata": {},
   "source": [
    "**5. Uma empresa concederá um aumento de salário aos seus funcionários, variável de acordo com o cargo, conforme a tabela abaixo. Faça um programa que leia o salário e o código do cargo de um funcionário e calcule o seu novo salário. Se o cargo do funcionário não estiver na tabela, ele deverá, então, receber 15% de aumento. Mostre o salário antigo, o novo salário e a diferença entre ambos.**\n",
    "\n",
    "<div align=\"center\">\n",
    "![Salary](./images/003_5.png)=200x200\n",
    "</div>\n"
   ]
  },
  {
   "cell_type": "code",
   "execution_count": 12,
   "metadata": {},
   "outputs": [
    {
     "name": "stdout",
     "output_type": "stream",
     "text": [
      "Salário antigo: R$ 7859.00\n",
      "Novo salário: R$ 8644.90\n",
      "Diferença: R$ 785.90\n"
     ]
    }
   ],
   "source": [
    "salary = float(input(\"Digite o salário do funcionário: \"));\n",
    "code = input(\"Digite o código do cargo: \");\n",
    "\n",
    "if code == \"310\": \n",
    "    new_salary = salary + salary * 5 / 100\n",
    "elif code == \"456\": \n",
    "    new_salary = salary + salary * 7.5 / 100\n",
    "elif code == \"885\": \n",
    "    new_salary = salary + salary * 10 / 100\n",
    "else: \n",
    "    new_salary = salary + salary * 15 / 100\n",
    "\n",
    "print(f'''Salário antigo: R$ {salary:.2f}\n",
    "Novo salário: R$ {new_salary:.2f}\n",
    "Diferença: R$ {new_salary-salary:.2f}''')"
   ]
  },
  {
   "attachments": {},
   "cell_type": "markdown",
   "metadata": {},
   "source": [
    "**6. Construa a tabela-verdade para as seguintes expressões:**\n",
    "- (p and q) and not(p or q)\n",
    "- not(p and not q) or q"
   ]
  },
  {
   "cell_type": "code",
   "execution_count": 39,
   "metadata": {},
   "outputs": [
    {
     "name": "stdout",
     "output_type": "stream",
     "text": [
      "     p    |     q     |     (p and q) and not(p or q)     |     not(p and not q) or q\n",
      "------------------------------------------------------------------------------------------\n",
      "p = True  | q = True  | (p and q) and not(p or q) = False | not(p and not q) or q = True\n",
      "p = True  | q = False | (p and q) and not(p or q) = False | not(p and not q) or q = False\n",
      "p = False | q = True  | (p and q) and not(p or q) = False | not(p and not q) or q = True\n",
      "p = False | q = False | (p and q) and not(p or q) = False | not(p and not q) or q = True\n"
     ]
    }
   ],
   "source": [
    "p = True; q=True\n",
    "print(f'{5*\" \"}p{4*\" \"}|{5*\" \"}q{5*\" \"}|{5*\" \"}(p and q) and not(p or q){5*\" \"}|{5*\" \"}not(p and not q) or q')\n",
    "print(f'{90*\"-\"}')\n",
    "print(f'p = {p}  | q = {q}  | (p and q) and not(p or q) = {(p and q) and not(p or q)} | not(p and not q) or q = {not(p and not q) or q}')\n",
    "p = True; q=False\n",
    "print(f'p = {p}  | q = {q} | (p and q) and not(p or q) = {(p and q) and not(p or q)} | not(p and not q) or q = {not(p and not q) or q}')\n",
    "p = False; q=True\n",
    "print(f'p = {p} | q = {q}  | (p and q) and not(p or q) = {(p and q) and not(p or q)} | not(p and not q) or q = {not(p and not q) or q}')\n",
    "p = False; q=False\n",
    "print(f'p = {p} | q = {q} | (p and q) and not(p or q) = {(p and q) and not(p or q)} | not(p and not q) or q = {not(p and not q) or q}')"
   ]
  },
  {
   "attachments": {},
   "cell_type": "markdown",
   "metadata": {},
   "source": [
    "**7. O IMC (índice de massa corpórea) indica o grau de obesidade de uma pessoa. Este índice é obtido pelo peso (em kg) dividido pelo quadrado da altura (em metros). A tabela a seguir apresenta as faixas deste índice:**\n",
    "\n",
    "- Faça um programa que solicita o peso e a altura de uma pessoa, calcule o IMC, apresente o seu valor e a avaliação.\n",
    "\n",
    "<div align=\"center\">\n",
    "![IMC](./images/003_7.png)=200x200\n",
    "</div>"
   ]
  },
  {
   "cell_type": "code",
   "execution_count": 5,
   "metadata": {},
   "outputs": [
    {
     "name": "stdout",
     "output_type": "stream",
     "text": [
      "IMC = 29.75. Avaliação = sobrepeso\n"
     ]
    }
   ],
   "source": [
    "weight = float(input('Digite o seu peso em kg: '));\n",
    "height = float(input('Digite a sua altura em metros: '));\n",
    "imc = weight/(height**2)\n",
    "if imc<20: print(f'IMC = {imc:.2f}. Avaliação = abaixo do normal')\n",
    "elif imc>=20 and imc<25: print(f'IMC = {imc:.2f}. Avaliação = normal')\n",
    "elif imc>=25 and imc<30: print(f'IMC = {imc:.2f}. Avaliação = sobrepeso')\n",
    "elif imc>=30 and imc<35: print(f'IMC = {imc:.2f}. Avaliação =obesidade leve')\n",
    "elif imc>=35 and imc<40: print(f'IMC = {imc:.2f}. Avaliação = obesidade moderada')\n",
    "else: print(f'IMC = {imc:.2f}. Avaliação = obesidade mórbida')"
   ]
  },
  {
   "attachments": {},
   "cell_type": "markdown",
   "metadata": {},
   "source": [
    "**8. Solicite um número ao usuário. Se for divisível por 3, informe “é divisível por 3”. Se for divisível por 4, informe “é divisível por 4”. Se for divisível por 3 e 4, informe “É divisível tanto por 3 quanto por 4”.**"
   ]
  },
  {
   "cell_type": "code",
   "execution_count": 45,
   "metadata": {},
   "outputs": [
    {
     "name": "stdout",
     "output_type": "stream",
     "text": [
      "The number 12 is divisible by both 3 and 4\n"
     ]
    }
   ],
   "source": [
    "number = int(input('Digite um número inteiro: '))\n",
    "if number%4 == 0 and number%3 == 0: print(f'O número {number} é divisível por 3 e 4')\n",
    "elif number%4 == 0: print(f'O número {number} é divisível por 4')\n",
    "elif number%3 == 0: print(f'O número {number} é divisível por 3')"
   ]
  },
  {
   "attachments": {},
   "cell_type": "markdown",
   "metadata": {},
   "source": [
    "**9. Faça um programa para o cálculo de uma folha de pagamento, sabendo que os descontos são do Imposto de Renda, que depende do salário bruto (conforme alíquotas abaixo) e 3% para o Sindicato e que o FGTS corresponde a 11% do Salário Bruto, mas não é descontado (é a empresa que deposita). O Salário Líquido corresponde ao Salário Bruto menos os descontos. O programa deverá pedir ao usuário o valor da sua hora e a quantidade de horas trabalhadas no mês.**\n",
    "\n",
    "**Desconto do IR:**\n",
    "- Salário Bruto até 900 (inclusive) - isento\n",
    "- Salário Bruto até 1500 (inclusive) - desconto de 5%\n",
    "- Salário Bruto até 2500 (inclusive) - desconto de 10%\n",
    "- Salário Bruto acima de 2500 - desconto de 20%\n",
    "- Imprima na tela as informações, dispostas conforme o exemplo ao lado. No exemplo o valor da hora é 5 e a quantidade de hora é 220.\n",
    "\n",
    "**Exemplo de saída:**\n",
    "\n",
    "<div align=\"center\">\n",
    "![Output example](./images/003_9.png)=200x200\n",
    "</div>\n"
   ]
  },
  {
   "cell_type": "code",
   "execution_count": 2,
   "metadata": {},
   "outputs": [
    {
     "name": "stdout",
     "output_type": "stream",
     "text": [
      "\n",
      "Salário bruto       : R$ 20000.00\n",
      "(-) IR              : R$ 4000.00\n",
      "(-) INSS (10%)      : R$ 2000.00\n",
      "(-) Sindicato (3%)  : R$ 600.00\n",
      "FGTS (11%)          : R$ 2200.00\n",
      "Total de descontos  : R$ 6600.00\n",
      "Salário Liquido     : R$ 13400.00\n",
      "\n"
     ]
    }
   ],
   "source": [
    "rate = float(input('Digite o valor da hora trabalhada: '))\n",
    "worked_hours = float(input('Digite o número de horas trabalhadas: '))\n",
    "\n",
    "gross_pay = rate * worked_hours\n",
    "if gross_pay <= 900: ir = 0.0\n",
    "elif gross_pay <= 1500: ir = gross_pay * 0.05\n",
    "elif gross_pay <= 2500: ir = gross_pay * 0.10\n",
    "else: ir = gross_pay * 0.20\n",
    "\n",
    "inss = gross_pay * 0.10\n",
    "fgts = gross_pay * 0.11\n",
    "syndicate = gross_pay * 0.03\n",
    "discounts = ir + inss + syndicate\n",
    "net_pay = gross_pay - discounts\n",
    "\n",
    "print(f'''\n",
    "Salário bruto       : R$ {gross_pay:.2f}\n",
    "(-) IR              : R$ {ir:.2f}\n",
    "(-) INSS (10%)      : R$ {inss:.2f}\n",
    "(-) Sindicato (3%)  : R$ {syndicate:.2f}\n",
    "FGTS (11%)          : R$ {fgts:.2f}\n",
    "Total de descontos  : R$ {discounts:.2f}\n",
    "Salário Liquido     : R$ {net_pay:.2f}\n",
    "''')"
   ]
  },
  {
   "attachments": {},
   "cell_type": "markdown",
   "metadata": {},
   "source": [
    "**10. Elabore um algoritmo que calcule o que deve ser pago por um produto, considerando o preço normal de etiqueta e a escolha da condição de pagamento. Utilize os códigos a seguir para ler qual a condição de pagamento escolhida e efetuar o cálculo adequado:**\n",
    "\n",
    " **Código** |                  **Condição de pagamento**\n",
    "------------|-----------------------------------------------------------\n",
    "      1     | À vista em dinheiro ou cheque, recebe 10% de desconto\n",
    "      2     | À vista no cartão de crédito, recebe 15% de desconto\n",
    "      3     | Em duas vezes, preço normal de etiqueta sem juros\n",
    "      4     | Em três vezes, preço normal de etiqueta mais juros de 10%\n",
    "      5     | Em seis vezes, preço normal de etiqueta mais juros de 20%\n",
    "\n"
   ]
  },
  {
   "cell_type": "code",
   "execution_count": 1,
   "metadata": {},
   "outputs": [
    {
     "name": "stdout",
     "output_type": "stream",
     "text": [
      "O preço final é R$ 550.0 pago em 2x de R$ 275.0 sem juros.\n"
     ]
    }
   ],
   "source": [
    "price = float(input('Digite com o preço do produto: '))\n",
    "code = int(input('Digite o código da condição de pagamento: '))\n",
    "\n",
    "if code==1: print(f'O preço final é R$ {price-price*0.1} pago em 1x com 10% de desconto.')\n",
    "elif code==2: print(f'O preço final é R$ {price-price*0.15} pago em 1x com 15% de desconto.')\n",
    "elif code==3: print(f'O preço final é R$ {price} pago em 2x de R$ {price/2} sem juros.')\n",
    "elif code==4: print(f'O preço final é R$ {price+price*0.1} pago em 3x de R$ {(price+price*0.1)/3} com juros de 10%.')\n",
    "elif code==5: print(f'O preço final é R$ {price+price*0.2} pago em 6x de R$ {(price+price*0.2)/6} com juros de 20%.')\n",
    "else: print('O código é inválido!!!')"
   ]
  },
  {
   "cell_type": "code",
   "execution_count": 2,
   "metadata": {},
   "outputs": [
    {
     "name": "stdout",
     "output_type": "stream",
     "text": [
      "O preço final é R$ 550.0 pago em 2x de R$ 275.0 sem juros.\n"
     ]
    }
   ],
   "source": [
    "price = float(input('Digite com o preço do produto: '))\n",
    "code = int(input('Digite o código da condição de pagamento: '))\n",
    "\n",
    "match code:\n",
    "    case 1: print(f'O preço final é R$ {price-price*0.1} pago em 1x com 10% de desconto.')\n",
    "    case 2: print(f'O preço final é R$ {price-price*0.15} pago em 1x com 15% de desconto.')\n",
    "    case 3: print(f'O preço final é R$ {price} pago em 2x de R$ {price/2} sem juros.')\n",
    "    case 4: print(f'O preço final é R$ {price+price*0.1} pago em 3x de R$ {(price+price*0.1)/3} com juros de 10%.')\n",
    "    case 5: print(f'O preço final é R$ {price+price*0.2} pago em 6x de R$ {(price+price*0.2)/6} com juros de 20%.')\n",
    "    case other: print('O código é inválido!!!')"
   ]
  },
  {
   "attachments": {},
   "cell_type": "markdown",
   "metadata": {},
   "source": [
    "11. Faça um Programa que peça os 3 lados de um triângulo. O programa deverá\n",
    "informar se os valores podem ser um triângulo. Indique, caso os lados formem um triângulo, se o mesmo é: equilátero, isósceles ou escaleno. \n",
    "Dicas:\n",
    "- Três lados formam um triângulo quando a soma de quaisquer dois lados for\n",
    "maior que o terceiro;\n",
    "- Triângulo Equilátero: três lados iguais;\n",
    "- Triângulo Isósceles: quaisquer dois lados iguais;\n",
    "- Triângulo Escaleno: três lados diferentes."
   ]
  },
  {
   "cell_type": "code",
   "execution_count": 3,
   "metadata": {},
   "outputs": [
    {
     "name": "stdout",
     "output_type": "stream",
     "text": [
      "Triângulo Equilátero\n"
     ]
    }
   ],
   "source": [
    "side1 = int(input('Digite o lado 1: '))\n",
    "side2 = int(input('Digite o lado 2: '))\n",
    "side3 = int(input('Digite o lado 3:'))\n",
    "\n",
    "if side1 >= (side2 + side3) or side2 >= (side1 + side3) or side3 >= (side1 + side2):\n",
    "\tprint('Os valores inseridos não formam um triângulo!!!')\n",
    "elif side1 == side2 == side3: print('Triângulo Equilátero')\n",
    "elif side1 == side2 or side1 == side3 or side2 == side3: print('Triângulo Isósceles')\n",
    "else: print('Triângulo Escaleno')"
   ]
  },
  {
   "attachments": {},
   "cell_type": "markdown",
   "metadata": {},
   "source": [
    "12. Faça um Programa que leia um número inteiro menor que 1000 e imprima a quantidade de centenas, dezenas e unidades do mesmo. Observe os termos no plural, a colocação do \"e\", da vírgula,etc.\n",
    "\n",
    "Exemplo:\n",
    "326 = 3 centenas, 2 dezenas e 6 unidades\n",
    "12 = 1 dezena e 2 unidades\n",
    "Testar com: 326, 300, 100, 320, 310,305, 301, 101, 311, 111, 25, 20, 10, 21, 11, 1, 7 e 16."
   ]
  },
  {
   "cell_type": "code",
   "execution_count": 4,
   "metadata": {},
   "outputs": [
    {
     "name": "stdout",
     "output_type": "stream",
     "text": [
      "9 centenas, 4 dezenas e 5 unidades\n"
     ]
    }
   ],
   "source": [
    "number = int(input('Digite um número inteiro menor que 1000: '))\n",
    "hundreds = number//100\n",
    "tens = number//10-hundreds*10\n",
    "ones = number - tens*10 - hundreds*100\n",
    "\n",
    "#treatment of hundreds\n",
    "if hundreds == 1: print('1 centena', end='')\n",
    "elif hundreds>1: print(f'{hundreds} centenas', end='')\n",
    "\n",
    "#treatment of tens.\n",
    "if hundreds == 0:\n",
    "    if tens == 1: print('1 dezena', end='')\n",
    "    elif tens>1: print(f'{tens} dezenas', end='')\n",
    "if hundreds > 0 and ones > 0:\n",
    "    if tens == 1: print(', 1 dezena', end='')\n",
    "    elif tens>1: print(f', {tens} dezenas', end='')\n",
    "if hundreds > 0 and ones == 0:\n",
    "    if tens == 1: print(' e 1 dezena', end='')\n",
    "    elif tens>1: print(f' e {tens} dezenas', end='')\n",
    "\n",
    "#treatment of ones\n",
    "if hundreds == 0 and tens == 0: \n",
    "    if ones == 1: print('1 unidade')\n",
    "    elif ones>1: print(f'{ones} unidades')\n",
    "if hundreds > 0 or tens > 0: \n",
    "    if ones == 1: print(' e 1 unidade')\n",
    "    elif ones>1: print(f' e {ones} unidades')"
   ]
  }
 ],
 "metadata": {
  "kernelspec": {
   "display_name": "Python 3",
   "language": "python",
   "name": "python3"
  },
  "language_info": {
   "codemirror_mode": {
    "name": "ipython",
    "version": 3
   },
   "file_extension": ".py",
   "mimetype": "text/x-python",
   "name": "python",
   "nbconvert_exporter": "python",
   "pygments_lexer": "ipython3",
   "version": "3.10.6"
  },
  "orig_nbformat": 4
 },
 "nbformat": 4,
 "nbformat_minor": 2
}
