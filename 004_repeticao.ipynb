{
 "cells": [
  {
   "attachments": {},
   "cell_type": "markdown",
   "metadata": {},
   "source": [
    "### Exercícios de lógica de programação envolvendo estruturas de repetição."
   ]
  },
  {
   "attachments": {},
   "cell_type": "markdown",
   "metadata": {},
   "source": [
    "**1. Escreva um programa que imprime todos os numeros de 0 até 50, incluindo-os.**"
   ]
  },
  {
   "cell_type": "code",
   "execution_count": 1,
   "metadata": {},
   "outputs": [
    {
     "name": "stdout",
     "output_type": "stream",
     "text": [
      "0 1 2 3 4 5 6 7 8 9 10 11 12 13 14 15 16 17 18 19 20 21 22 23 24 25 26 27 28 29 30 31 32 33 34 35 36 37 38 39 40 41 42 43 44 45 46 47 48 49 50 "
     ]
    }
   ],
   "source": [
    "i=0\n",
    "while(i<=50):\n",
    "    print(i, end=' ')\n",
    "    i=i+1"
   ]
  },
  {
   "cell_type": "code",
   "execution_count": 2,
   "metadata": {},
   "outputs": [
    {
     "name": "stdout",
     "output_type": "stream",
     "text": [
      "0 1 2 3 4 5 6 7 8 9 10 11 12 13 14 15 16 17 18 19 20 21 22 23 24 25 26 27 28 29 30 31 32 33 34 35 36 37 38 39 40 41 42 43 44 45 46 47 48 49 50 "
     ]
    }
   ],
   "source": [
    "for i in range(51):\n",
    "    print(i, end=' ')"
   ]
  },
  {
   "attachments": {},
   "cell_type": "markdown",
   "metadata": {},
   "source": [
    "**2. Modifique o programa anterior de forma que este imprima apenas os números que são pares.**"
   ]
  },
  {
   "cell_type": "code",
   "execution_count": 3,
   "metadata": {},
   "outputs": [
    {
     "name": "stdout",
     "output_type": "stream",
     "text": [
      "0 2 4 6 8 10 12 14 16 18 20 22 24 26 28 30 32 34 36 38 40 42 44 46 48 50 "
     ]
    }
   ],
   "source": [
    "i=0\n",
    "while(i<=50):\n",
    "    print(i, end=' ')\n",
    "    i=i+2"
   ]
  },
  {
   "cell_type": "code",
   "execution_count": 4,
   "metadata": {},
   "outputs": [
    {
     "name": "stdout",
     "output_type": "stream",
     "text": [
      "0 2 4 6 8 10 12 14 16 18 20 22 24 26 28 30 32 34 36 38 40 42 44 46 48 50 "
     ]
    }
   ],
   "source": [
    "i=0\n",
    "while(i<=50):\n",
    "    if i%2==0:\n",
    "        print(i, end=' ')\n",
    "    i=i+1"
   ]
  },
  {
   "cell_type": "code",
   "execution_count": 5,
   "metadata": {},
   "outputs": [
    {
     "name": "stdout",
     "output_type": "stream",
     "text": [
      "0 2 4 6 8 10 12 14 16 18 20 22 24 26 28 30 32 34 36 38 40 42 44 46 48 50 "
     ]
    }
   ],
   "source": [
    "for i in range(0,51,2):\n",
    "    print(i, end=' ')"
   ]
  },
  {
   "cell_type": "code",
   "execution_count": 6,
   "metadata": {},
   "outputs": [
    {
     "name": "stdout",
     "output_type": "stream",
     "text": [
      "0 2 4 6 8 10 12 14 16 18 20 22 24 26 28 30 32 34 36 38 40 42 44 46 48 50 "
     ]
    }
   ],
   "source": [
    "for i in range(0,51):\n",
    "    if i%2 ==0:\n",
    "        print(i, end=' ')"
   ]
  },
  {
   "attachments": {},
   "cell_type": "markdown",
   "metadata": {},
   "source": [
    "**3. Escreva um programa para contar a quantidade de números pares entre dois números quaisquer fornecidos pelo usuário.**"
   ]
  },
  {
   "cell_type": "code",
   "execution_count": 1,
   "metadata": {},
   "outputs": [
    {
     "name": "stdout",
     "output_type": "stream",
     "text": [
      "Existem 4 números pares entre 2 e 8.\n"
     ]
    }
   ],
   "source": [
    "# solução incluindo os limites usando while\n",
    "number1 = int(input('Digite um número inteiro: '))\n",
    "number2 = int(input('Digite um outro número inteiro: '))\n",
    "even_counter = 0\n",
    "\n",
    "if number1 < number2:\n",
    "    i = number1\n",
    "    while i <= number2:\n",
    "        if i%2 == 0:\n",
    "            even_counter += 1\n",
    "        i += 1\n",
    "else:\n",
    "    i = number2\n",
    "    while i <= number1:\n",
    "        if i%2 == 0:\n",
    "            even_counter += 1\n",
    "        i += 1\n",
    "print(f'Existem {even_counter} números pares entre {number1} e {number2}.')"
   ]
  },
  {
   "cell_type": "code",
   "execution_count": 3,
   "metadata": {},
   "outputs": [
    {
     "name": "stdout",
     "output_type": "stream",
     "text": [
      "Existem 2 números pares entre 8 e 2.\n"
     ]
    }
   ],
   "source": [
    "# solução excluindo os limites usando while\n",
    "number1 = int(input('Digite um número inteiro: '))\n",
    "number2 = int(input('Digite um outro número inteiro: '))\n",
    "even_counter = 0\n",
    "\n",
    "if number1 < number2:\n",
    "    i = number1+1\n",
    "    while i < number2:\n",
    "        if i%2 == 0:\n",
    "            even_counter += 1\n",
    "        i += 1\n",
    "else:\n",
    "    i = number2+1\n",
    "    while i < number1:\n",
    "        if i%2 == 0:\n",
    "            even_counter += 1\n",
    "        i += 1\n",
    "print(f'Existem {even_counter} números pares entre {number1} e {number2}.')"
   ]
  },
  {
   "cell_type": "code",
   "execution_count": 2,
   "metadata": {},
   "outputs": [
    {
     "name": "stdout",
     "output_type": "stream",
     "text": [
      "Existem 4 números pares entre 8 e 2.\n"
     ]
    }
   ],
   "source": [
    "# solução incluindo os limites usando for\n",
    "number1 = int(input('Digite um número inteiro: '))\n",
    "number2 = int(input('Digite um outro número inteiro: '))\n",
    "even_counter = 0\n",
    "\n",
    "if number1 < number2:\n",
    "    for i in range (number1, number2+1):\n",
    "        if i%2 == 0:\n",
    "            even_counter += 1\n",
    "else:\n",
    "    for i in range (number2, number1+1):\n",
    "        if i%2 == 0:\n",
    "            even_counter += 1\n",
    "print(f'Existem {even_counter} números pares entre {number1} e {number2}.')"
   ]
  },
  {
   "cell_type": "code",
   "execution_count": 5,
   "metadata": {},
   "outputs": [
    {
     "name": "stdout",
     "output_type": "stream",
     "text": [
      "Existem 2 números pares entre 2 e 8.\n"
     ]
    }
   ],
   "source": [
    "# solução excluindo os limites usando for\n",
    "number1 = int(input('Digite um número inteiro: '))\n",
    "number2 = int(input('Digite um outro número inteiro: '))\n",
    "even_counter = 0\n",
    "\n",
    "if number1 < number2:\n",
    "    for i in range (number1+1, number2):\n",
    "        if i%2 == 0:\n",
    "            even_counter += 1\n",
    "else:\n",
    "    for i in range (number2+1, number1):\n",
    "        if i%2 == 0:\n",
    "            even_counter += 1\n",
    "print(f'Existem {even_counter} números pares entre {number1} e {number2}.')"
   ]
  },
  {
   "attachments": {},
   "cell_type": "markdown",
   "metadata": {},
   "source": [
    "**4. Escreva um programa para calcular o fatorial de um número fornecido pelo usuário.**"
   ]
  },
  {
   "cell_type": "code",
   "execution_count": 7,
   "metadata": {},
   "outputs": [
    {
     "name": "stdout",
     "output_type": "stream",
     "text": [
      "O fatorial de 5 é 120.\n"
     ]
    }
   ],
   "source": [
    "number = int(input('Digite um número inteiro positivo: '))\n",
    "factorial = 1\n",
    "\n",
    "for i in range(1, number+1):\n",
    "    factorial *= i\n",
    "print(f'O fatorial de {number} é {factorial}.')"
   ]
  },
  {
   "cell_type": "code",
   "execution_count": 4,
   "metadata": {},
   "outputs": [
    {
     "name": "stdout",
     "output_type": "stream",
     "text": [
      "O fatorial de 5 é 120.\n"
     ]
    }
   ],
   "source": [
    "number = int(input('Digite um número inteiro positivo: '))\n",
    "factorial = 1\n",
    "\n",
    "for i in range(number, 0, -1):\n",
    "    factorial *= i\n",
    "print(f'O fatorial de {number} é {factorial}.')"
   ]
  },
  {
   "cell_type": "code",
   "execution_count": 5,
   "metadata": {},
   "outputs": [
    {
     "name": "stdout",
     "output_type": "stream",
     "text": [
      "O fatorial de 5 é 120.\n"
     ]
    }
   ],
   "source": [
    "number = int(input('Digite um número inteiro positivo: '))\n",
    "factorial = 1\n",
    "i = number\n",
    "while i>= 1:\n",
    "    factorial *= i\n",
    "    i -= 1\n",
    "print(f'O fatorial de {number} é {factorial}.')"
   ]
  },
  {
   "attachments": {},
   "cell_type": "markdown",
   "metadata": {},
   "source": [
    "**5. Faça um programa que peça dois números, base e expoente, calcule e mostre o primeiro número elevado ao segundo número.** \n",
    "- Não utilize a função de potência da linguagem."
   ]
  },
  {
   "cell_type": "code",
   "execution_count": 1,
   "metadata": {},
   "outputs": [
    {
     "name": "stdout",
     "output_type": "stream",
     "text": [
      "O número 2 elevado a -5 é 0.03125.\n"
     ]
    }
   ],
   "source": [
    "number1 = int(input('Digite o valor da base '))\n",
    "number2 = int(input('Digite o valor do expoente '))\n",
    "result = 1\n",
    "\n",
    "if number2 >= 0:\n",
    "    for i in range (number2):\n",
    "        result *= number1\n",
    "else:\n",
    "    for i in range (-(number2)):\n",
    "        result *= 1/number1\n",
    "    \n",
    "print(f'O número {number1} elevado a {number2} é {result}.')"
   ]
  },
  {
   "cell_type": "code",
   "execution_count": 2,
   "metadata": {},
   "outputs": [
    {
     "name": "stdout",
     "output_type": "stream",
     "text": [
      "O número 2 elevado a 0 é 1.\n"
     ]
    }
   ],
   "source": [
    "number1 = int(input('Digite o valor da base '))\n",
    "number2 = int(input('Digite o valor do expoente '))\n",
    "result = 1\n",
    "\n",
    "i = 1\n",
    "if number2 >= 0:\n",
    "    while i <= number2:\n",
    "        result *= number1\n",
    "        i += 1\n",
    "else:\n",
    "    while i <= -number2:\n",
    "        result *= 1/number1\n",
    "        i += 1\n",
    "    \n",
    "print(f'O número {number1} elevado a {number2} é {result}.')"
   ]
  },
  {
   "attachments": {},
   "cell_type": "markdown",
   "metadata": {},
   "source": [
    "**6. Desenvolva um gerador de tabuada, capaz de gerar a tabuada de qualquer número inteiro entre 1 a 10. O usuário deve informar de qual numero ele deseja ver a tabuada. A saída deve ser conforme o exemplo abaixo:**\n",
    "\n",
    "<div align=\"center\">\n",
    "    <img src=./images/004_6.png width=\"10%\">\n",
    "</div>"
   ]
  },
  {
   "cell_type": "code",
   "execution_count": 8,
   "metadata": {},
   "outputs": [
    {
     "name": "stdout",
     "output_type": "stream",
     "text": [
      "Tabuada do número 5: \n",
      "5 X 1 = 5\n",
      "5 X 2 = 10\n",
      "5 X 3 = 15\n",
      "5 X 4 = 20\n",
      "5 X 5 = 25\n",
      "5 X 6 = 30\n",
      "5 X 7 = 35\n",
      "5 X 8 = 40\n",
      "5 X 9 = 45\n",
      "5 X 10 = 50\n"
     ]
    }
   ],
   "source": [
    "number = int(input('Digite um número inteiro: '))\n",
    "print(f'Tabuada do número {number}: ')\n",
    "for i in range(1,11):\n",
    "    print(f'{number} X {i} = {number*i}')"
   ]
  },
  {
   "attachments": {},
   "cell_type": "markdown",
   "metadata": {},
   "source": [
    "**7. A prefeitura de uma cidade deseja fazer uma pesquisa entre seus habitantes. Faça um algoritmo para coletar e armazenar dados sobre o salário e número de filhos de cada habitante e após as leituras, escrever:**\n",
    "\n",
    "**a)** Média de salário da população\n",
    "\n",
    "**b)** Média do número de filhos\n",
    "\n",
    "**c)** Maior salário dos habitantes\n",
    "\n",
    "**d)** Percentual de pessoas com salário menor que R$ 150,00\n",
    "\n",
    "**Obs.:** O final da leituras dos dados se dará com a entrada de um “salário negativo”."
   ]
  },
  {
   "cell_type": "code",
   "execution_count": 10,
   "metadata": {},
   "outputs": [
    {
     "name": "stdout",
     "output_type": "stream",
     "text": [
      "O salário médio da população é de: R$ 5040.00.\n",
      "O número médio de filhos é: 2.33.\n",
      "O maior salário é: R$ 10000.0.\n",
      "O percentual de pessoas com um salário inferior a 150 é: 33.33 %.\n"
     ]
    }
   ],
   "source": [
    "population_count = 0\n",
    "salary_count = 0.0\n",
    "children_count = 0\n",
    "biggest_salary = 0\n",
    "less_150_count = 0\n",
    "\n",
    "while True:\n",
    "  salary = float(input(f'Digite o salário do habitante {population_count+1}: ')) \n",
    "  if salary < 0: break\n",
    "  if salary > biggest_salary:\n",
    "    biggest_salary = salary\n",
    "  if salary < 150.0:\n",
    "    less_150_count += 1\n",
    "  salary_count += salary\n",
    "  filhos = float(input(f'Digite o número de filhos do habitante {population_count+1}: '))\n",
    "  children_count +=filhos\n",
    "  population_count +=1\n",
    "if population_count>0:\n",
    "  print(f'O salário médio da população é de: R$ {salary_count/population_count:.2f}.')  \n",
    "  print(f'O número médio de filhos é: {children_count/population_count:.2f}.')  \n",
    "  print(f'O maior salário é: R$ {biggest_salary}.')  \n",
    "  print(f'O percentual de pessoas com um salário inferior a 150 é: {100*less_150_count/population_count:.2f} %.')"
   ]
  },
  {
   "attachments": {},
   "cell_type": "markdown",
   "metadata": {},
   "source": [
    "**8. Escreva um programa que leia um número inteiro e calcule a soma de todos os divisores desse número, com exceção dele próprio.** \n",
    "\n",
    "Ex: a soma dos divisores do número 66 é 1 + 2 + 3 + 6 + 11 + 22 + 33 = 78."
   ]
  },
  {
   "cell_type": "code",
   "execution_count": 8,
   "metadata": {},
   "outputs": [
    {
     "name": "stdout",
     "output_type": "stream",
     "text": [
      "A soma dos divisores do número 66 é: 78.\n"
     ]
    }
   ],
   "source": [
    "number = int(input('Insira um número inteiro para calcular a soma de seus divisores: '))\n",
    "accumulator = 0\n",
    "for i in range(1, number):\n",
    "    if number%i == 0:\n",
    "        accumulator += i\n",
    "print(f'A soma dos divisores do número {number} é: {accumulator}.')"
   ]
  },
  {
   "attachments": {},
   "cell_type": "markdown",
   "metadata": {},
   "source": [
    "**9. Em Matemática, o número harmônico designado por sendo a soma da série harmônica demonstrada na imagem abaixo. Faça um programa que leia um valor n inteiro e positivo e apresente o valor de *H(n)*.**\n",
    "\n",
    "<div align=\"center\">\n",
    "    <img src=./images/004_9.png width=\"25%\">\n",
    "</div>"
   ]
  },
  {
   "cell_type": "code",
   "execution_count": 10,
   "metadata": {},
   "outputs": [
    {
     "name": "stdout",
     "output_type": "stream",
     "text": [
      "O valor de H(5) é: 2.28.\n"
     ]
    }
   ],
   "source": [
    "number = int(input('Digite um número inteiro para calcular o número harmônico: '))\n",
    "accumulator = 0\n",
    "for i in range(1, number+1):\n",
    "    accumulator += 1/i\n",
    "print(f'O valor de H({number}) é: {accumulator:.2f}.')"
   ]
  },
  {
   "attachments": {},
   "cell_type": "markdown",
   "metadata": {},
   "source": [
    "**10. A série de Fibonacci é formada pela seqüência 1, 1, 2, 3, 5, 8, 13, 21, 34, 55, ... Faça um programa capaz de gerar a série até o enésimo termo.**"
   ]
  },
  {
   "cell_type": "code",
   "execution_count": 5,
   "metadata": {},
   "outputs": [
    {
     "name": "stdout",
     "output_type": "stream",
     "text": [
      "Fibonacci até o 10º termo: 1, 1, 2, 3, 5, 8, 13, 21, 34, 55\n"
     ]
    }
   ],
   "source": [
    "number = int(input('Digite o enésimo termo para calcular a sequência de Fibonacci: '))\n",
    "print(f'Fibonacci até o {number}º termo: ', end='') \n",
    "if (number == 1):\n",
    "    print(\"1\")\n",
    "elif(number==2):\n",
    "    print(\"1, 1\")\n",
    "else:\n",
    "    print(\"1, 1\", end='')\n",
    "    prev_prev = 1\n",
    "    prev = 1\n",
    "    for i in range(3, number+1):\n",
    "        current_number = prev_prev + prev\n",
    "        print(f', {current_number}', end='')\n",
    "        prev_prev = prev\n",
    "        prev = current_number\n",
    "    print()\n",
    "  "
   ]
  },
  {
   "attachments": {},
   "cell_type": "markdown",
   "metadata": {},
   "source": [
    "**11. A série de Fibonacci é formada pela seqüência 1, 1, 2, 3, 5, 8, 13, 21, 34, 55,... Faça um programa que gere a série enquanto o valor seja maior que 500.**"
   ]
  },
  {
   "cell_type": "code",
   "execution_count": 4,
   "metadata": {},
   "outputs": [
    {
     "name": "stdout",
     "output_type": "stream",
     "text": [
      "1, 1, 2, 3, 5, 8, 13, 21, 34, 55, 89, 144, 233, 377"
     ]
    }
   ],
   "source": [
    "print(\"1, 1\", end=\"\")\n",
    "prev_prev = 1\n",
    "prev = 1\n",
    "while True:\n",
    "    current_number = prev_prev + prev\n",
    "    if current_number > 500: \n",
    "        break\n",
    "    print(',' ,current_number, end=\"\")\n",
    "    prev_prev = prev\n",
    "    prev = current_number"
   ]
  },
  {
   "attachments": {},
   "cell_type": "markdown",
   "metadata": {},
   "source": [
    "**12. Faça um programa que calcule o fatorial de um número inteiro fornecido pelo usuário.**\n",
    "\n",
    "Ex.: 5!=5.4.3.2.1=120. \n",
    "\n",
    "A saída deve exatamente como o exemplo abaixo:\n",
    "\n",
    "<div align=\"center\">\n",
    "    <img src=./images/004_12.png width=\"25%\">\n",
    "</div>"
   ]
  },
  {
   "cell_type": "code",
   "execution_count": 16,
   "metadata": {},
   "outputs": [
    {
     "name": "stdout",
     "output_type": "stream",
     "text": [
      "Fatorial de: 5 \n",
      "5! = 5 . 4 . 3 . 2 . 1 = 120\n"
     ]
    }
   ],
   "source": [
    "number = int(input('Digite um número inteiro positivo: '))\n",
    "factorial = 1\n",
    "\n",
    "print(f'Fatorial de: {number} \\n{number}! = ', end=\"\")\n",
    "\n",
    "for i in range(number, 1, -1):\n",
    "    print(i, end=\" . \")\n",
    "    factorial *= i\n",
    "print(f'1 = {factorial}')"
   ]
  }
 ],
 "metadata": {
  "kernelspec": {
   "display_name": "Python 3",
   "language": "python",
   "name": "python3"
  },
  "language_info": {
   "codemirror_mode": {
    "name": "ipython",
    "version": 3
   },
   "file_extension": ".py",
   "mimetype": "text/x-python",
   "name": "python",
   "nbconvert_exporter": "python",
   "pygments_lexer": "ipython3",
   "version": "3.10.12"
  },
  "orig_nbformat": 4
 },
 "nbformat": 4,
 "nbformat_minor": 2
}
