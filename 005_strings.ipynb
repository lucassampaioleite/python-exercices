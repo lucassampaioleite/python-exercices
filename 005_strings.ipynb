{
 "cells": [
  {
   "attachments": {},
   "cell_type": "markdown",
   "metadata": {},
   "source": [
    "### Exercícios de lógica de programação envolvendo strings em Python."
   ]
  },
  {
   "attachments": {},
   "cell_type": "markdown",
   "metadata": {},
   "source": [
    "**1. Faça um programa que leia 2 strings e informe o conteúdo delas seguido do seu comprimento. Informe também se as duas strings possuem o mesmo comprimento e são iguais ou diferentes no conteúdo.**"
   ]
  },
  {
   "cell_type": "code",
   "execution_count": 3,
   "metadata": {},
   "outputs": [
    {
     "name": "stdout",
     "output_type": "stream",
     "text": [
      "A primeira string possui conteúdo IFPE e tamanho 4.\n",
      "A segunda string possui conteúdo IFPE e tamanho 4.\n",
      "As strings possuem o mesmo comprimento e o mesmo conteúdo.\n"
     ]
    }
   ],
   "source": [
    "string1 = input('Escreva a primeira string: ')\n",
    "string2 = input('Escreva a segunda string: ')\n",
    "\n",
    "print(f'A primeira string possui conteúdo {string1} e tamanho {len(string1)}.') \n",
    "print(f'A segunda string possui conteúdo {string2} e tamanho {len(string2)}.') \n",
    "\n",
    "if(len(string1)==len(string2)): print('As strings possuem o mesmo comprimento e ', end='')\n",
    "else: print('As strings possuem diferentes comprimentos e ', end='')\n",
    "\n",
    "if(string1==string2): print('o mesmo conteúdo.')\n",
    "else: print('conteúdos distintos.')"
   ]
  },
  {
   "attachments": {},
   "cell_type": "markdown",
   "metadata": {},
   "source": [
    "**2. Faça um programa que permita ao usuário digitar o seu nome e em seguida mostre o nome do usuário de trás para frente utilizando somente letras maiúsculas. Dica: lembre−se que ao informar o nome, o usuário pode digitar letras maiúsculas ou minúsculas.**"
   ]
  },
  {
   "cell_type": "code",
   "execution_count": 2,
   "metadata": {},
   "outputs": [
    {
     "name": "stdout",
     "output_type": "stream",
     "text": [
      "Seu nome de trás para frente e com todas as letras maiúsculas é: OÃOJ\n"
     ]
    }
   ],
   "source": [
    "name = input('Digite o seu nome: ').upper()\n",
    "print('Seu nome de trás para frente e com todas as letras maiúsculas é:', name[::-1])"
   ]
  },
  {
   "cell_type": "code",
   "execution_count": 1,
   "metadata": {},
   "outputs": [
    {
     "name": "stdout",
     "output_type": "stream",
     "text": [
      "Seu nome de trás para frente e com todas as letras maiúsculas é: OÃOJ"
     ]
    }
   ],
   "source": [
    "name = input('Digite o seu nome: ').upper()\n",
    "print('Seu nome de trás para frente e com todas as letras maiúsculas é: ', end='')\n",
    "for i in range(len(name)):\n",
    "    print (name[-i-1], end='')"
   ]
  },
  {
   "attachments": {},
   "cell_type": "markdown",
   "metadata": {},
   "source": [
    "**3. Faça um programa que solicite uma string ao usuário e em seguida a imprima em formato de escada.**\n",
    "\n",
    "Exemplo: \n",
    "\n",
    "<div align=\"center\">\n",
    "    <img src=./images/005_3.png width=\"10%\">\n",
    "</div>"
   ]
  },
  {
   "cell_type": "code",
   "execution_count": 4,
   "metadata": {},
   "outputs": [
    {
     "name": "stdout",
     "output_type": "stream",
     "text": [
      "F\n",
      "FU\n",
      "FUL\n",
      "FULA\n",
      "FULAN\n",
      "FULANO\n"
     ]
    }
   ],
   "source": [
    "string1 = input('Digite uma string: ')\n",
    "for i in range(len(string1)):\n",
    "    print(string1[:i+1])"
   ]
  },
  {
   "attachments": {},
   "cell_type": "markdown",
   "metadata": {},
   "source": [
    "**4. Altere o programa anterior de modo que a escada seja invertida.**\n",
    "\n",
    "<div align=\"center\">\n",
    "    <img src=./images/005_4.png width=\"10%\">\n",
    "</div>"
   ]
  },
  {
   "cell_type": "code",
   "execution_count": 5,
   "metadata": {},
   "outputs": [
    {
     "name": "stdout",
     "output_type": "stream",
     "text": [
      "FULANO\n",
      "ULANO\n",
      "LANO\n",
      "ANO\n",
      "NO\n",
      "O\n",
      "\n"
     ]
    }
   ],
   "source": [
    "string1 = input('Digite uma string: ')\n",
    "for i in range(len(string1)):\n",
    "    print(string1[i:])"
   ]
  },
  {
   "attachments": {},
   "cell_type": "markdown",
   "metadata": {},
   "source": [
    "**5. Um palíndromo é uma seqüência de caracteres cuja leitura é idêntica se feita da direita para esquerda ou vice-versa. Por exemplo: OSSO e OVO são palíndromos. Em textos mais complexos os espaços e pontuação são ignorados. A frase SUBI NO ONIBUS é o exemplo de uma frase palíndroma onde os espaços foram ignorados. Faça um programa que leia uma seqüência de caracteres, mostre-a e diga se é um palíndromo ou não.**"
   ]
  },
  {
   "cell_type": "code",
   "execution_count": 6,
   "metadata": {},
   "outputs": [
    {
     "name": "stdout",
     "output_type": "stream",
     "text": [
      "Expressão: SUBINOONIBUS\n",
      "Expressão invertida: SUBINOONIBUS\n",
      "A expressão é palíndromo.\n"
     ]
    }
   ],
   "source": [
    "expression = input('Digite uma expressão: ').upper().replace(' ', '').replace(',','').replace('.', '')\n",
    "inverted_expression = expression[::-1]\n",
    "print(f'Expressão: {expression}')\n",
    "print(f'Expressão invertida: {inverted_expression}')\n",
    "if(expression == inverted_expression): print('A expressão é palíndromo.')\n",
    "else: print('A expressão não é palíndromo.')"
   ]
  },
  {
   "attachments": {},
   "cell_type": "markdown",
   "metadata": {},
   "source": [
    "**6. Faça uma função que recebe uma string que representa uma cadeia de DNA e gera a cadeia complementar. A entrada e saída de dados deve ser feita pelo programa principal.**\n",
    "\n",
    "Exemplo:\n",
    "- Entrada: AATCTGCAC\n",
    "- Saída: TTAGACGTG"
   ]
  },
  {
   "cell_type": "code",
   "execution_count": 8,
   "metadata": {},
   "outputs": [
    {
     "name": "stdout",
     "output_type": "stream",
     "text": [
      "Cadeia de DNA: AATCTGCAC\n",
      "Cadeia de DNA complementar: TTAGACGTG\n"
     ]
    }
   ],
   "source": [
    "sequence = input('Digite uma cadeia de DNA: ').upper()\n",
    "complementary=''\n",
    "for i in range(len(sequence)):\n",
    "    if(sequence[i]=='A'): complementary+='T'\n",
    "    elif(sequence[i]=='T'): complementary+='A'\n",
    "    elif(sequence[i]=='G'): complementary+='C'\n",
    "    elif(sequence[i]=='C'): complementary+='G'\n",
    "    else: print(f'O caractere da posição[{i}] é inválido!')\n",
    "print(f'Cadeia de DNA: {sequence}')\n",
    "print(f'Cadeia de DNA complementar: {complementary}')"
   ]
  },
  {
   "cell_type": "code",
   "execution_count": 9,
   "metadata": {},
   "outputs": [
    {
     "name": "stdout",
     "output_type": "stream",
     "text": [
      "Cadeia de DNA: AATCTGCAC\n",
      "Cadeia de DNA complementar: TTAGACGTG\n"
     ]
    }
   ],
   "source": [
    "sequence = input('Digite uma cadeia de DNA: ').upper()\n",
    "complementary = sequence.replace('A','t').replace('T','a').replace('C','g').replace('G','c').upper()\n",
    "print(f'Cadeia de DNA: {sequence}')\n",
    "print(f'Cadeia de DNA complementar: {complementary}')"
   ]
  },
  {
   "attachments": {},
   "cell_type": "markdown",
   "metadata": {},
   "source": [
    "**7. Faça um programa que leia uma data de nascimento no formato dd/mm/aaaa e imprima a data com o mês escrito por extenso.**\n",
    "\n",
    "Exemplo:\n",
    "- Data = 20/02/1995\n",
    "- Resultado gerado pelo programa:\n",
    "- Você nasceu em 20 de fevereiro de 1995"
   ]
  },
  {
   "cell_type": "code",
   "execution_count": 13,
   "metadata": {},
   "outputs": [
    {
     "name": "stdout",
     "output_type": "stream",
     "text": [
      "Você nasceu em 21 de outubro de 1990\n"
     ]
    }
   ],
   "source": [
    "date = input('Digite uma data no formato dd/mm/aaaa: ')\n",
    "if(date[3:5]=='01'): month='janeiro'\n",
    "elif(date[3:5]=='02'): month='fevereiro'\n",
    "elif(date[3:5]=='03'): month='marco'\n",
    "elif(date[3:5]=='04'): month='abril'\n",
    "elif(date[3:5]=='05'): month='maio'\n",
    "elif(date[3:5]=='06'): month='junho'\n",
    "elif(date[3:5]=='07'): month='julho'\n",
    "elif(date[3:5]=='08'): month='agosto'\n",
    "elif(date[3:5]=='09'): month='setembro'\n",
    "elif(date[3:5]=='10'): month='outubro'\n",
    "elif(date[3:5]=='11'): month='novembro'\n",
    "elif(date[3:5]=='12'): month='dezembro'\n",
    "print('Você nasceu em',date[:2], 'de', month, 'de', date[6:])"
   ]
  },
  {
   "attachments": {},
   "cell_type": "markdown",
   "metadata": {},
   "source": [
    "**8. Escreva um programa que leia duas strings. Verifique se a segunda ocorre dentro da primeira e imprima a posição de início.**\n",
    "- 1ª string: AABBEFAATT\n",
    "- 2ª string: BE\n",
    "- Resultado: BE encontrado na posição 3 de AABBEFAATT"
   ]
  },
  {
   "cell_type": "code",
   "execution_count": 15,
   "metadata": {},
   "outputs": [
    {
     "name": "stdout",
     "output_type": "stream",
     "text": [
      "BE encontrado na posição 3 de AABBEFAAT.\n"
     ]
    }
   ],
   "source": [
    "string1 = input('Digite a primeira string: ')\n",
    "string2 = input('Digite a segunda string: ')\n",
    "if string1.find(string2)==-1: print(f'{string2} não ocorre dentro de {string1}.')\n",
    "else: print(f'{string2} encontrado na posição {string1.find(string2)} de {string1}.') "
   ]
  },
  {
   "attachments": {},
   "cell_type": "markdown",
   "metadata": {},
   "source": [
    "**9. Escreva um programa que leia duas strings e gere uma terceira com os caracteres comuns às duas strings lidas.**\n",
    "- 1ª string: AAACTBF\n",
    "- 2ª string: CBT\n",
    "- Resultado: CBT\n",
    "- A ordem dos caracteres da string gerada não é importante, mas deve conter todas as letras comuns a ambas."
   ]
  },
  {
   "cell_type": "code",
   "execution_count": 16,
   "metadata": {},
   "outputs": [
    {
     "name": "stdout",
     "output_type": "stream",
     "text": [
      "1ª string: AAACTBF\n",
      "2ª string: CBT\n",
      "Resultado: CTB\n"
     ]
    }
   ],
   "source": [
    "string1 = input('Digite a primeira string: ')\n",
    "string2 = input('Digite a segunda string: ')\n",
    "stringS = ''\n",
    "for x in string1:\n",
    "    if x in string2 and x not in stringS:\n",
    "        stringS += x\n",
    "print(f'1ª string: {string1}')\n",
    "print(f'2ª string: {string2}')\n",
    "print(f'Resultado: {stringS}')"
   ]
  },
  {
   "attachments": {},
   "cell_type": "markdown",
   "metadata": {},
   "source": [
    "**10. Conta espaços e vogais. Dada uma string com uma frase informada pelo usuário (incluindo espaços em branco), conte: quantos espaços em branco existem na frase e quantas vezes aparecem as vogais a, e, i, o, u.**"
   ]
  },
  {
   "cell_type": "code",
   "execution_count": 17,
   "metadata": {},
   "outputs": [
    {
     "name": "stdout",
     "output_type": "stream",
     "text": [
      "A string fornecida possui: \n",
      "4 espaços em branco,\n",
      "4 vogal(is) a,\n",
      "4 vogal(is) e,\n",
      "3 vogal(is) i,\n",
      "4 vogal(is) o,\n",
      "0 vogal(is) u.\n",
      "\n"
     ]
    }
   ],
   "source": [
    "string = input('Digite uma string: ').lower()\n",
    "print(f'''A string fornecida possui: \n",
    "{string.count(' ')} espaços em branco,\n",
    "{string.count('a')} vogal(is) a,\n",
    "{string.count('e')} vogal(is) e,\n",
    "{string.count('i')} vogal(is) i,\n",
    "{string.count('o')} vogal(is) o,\n",
    "{string.count('u')} vogal(is) u.\n",
    "''')"
   ]
  },
  {
   "attachments": {},
   "cell_type": "markdown",
   "metadata": {},
   "source": [
    "**11. Escreva um programa que leia uma string e imprima quantas vezes cada caractere aparece nessa string.**\n",
    "\n",
    "Exemplo: String: TTAAC\n",
    "- Formato de saída:\n",
    "- T: 2x\n",
    "- A: 2x\n",
    "- C: 1x"
   ]
  },
  {
   "cell_type": "code",
   "execution_count": 20,
   "metadata": {},
   "outputs": [
    {
     "name": "stdout",
     "output_type": "stream",
     "text": [
      "T: 2x\n",
      "A: 2x\n",
      "C: 1x\n"
     ]
    }
   ],
   "source": [
    "string = input('Digite uma string: ')\n",
    "stringS=''\n",
    "for x in string:\n",
    "    if x not in stringS:\n",
    "        stringS += x\n",
    "for x in stringS: print(f'{x}: {string.count(x)}x')"
   ]
  },
  {
   "attachments": {},
   "cell_type": "markdown",
   "metadata": {},
   "source": [
    "**12. Número por extenso. Escreva um programa que solicite ao usuário a digitação de um número até 99 e imprima-o na tela por extenso.**"
   ]
  },
  {
   "cell_type": "code",
   "execution_count": 21,
   "metadata": {},
   "outputs": [
    {
     "name": "stdout",
     "output_type": "stream",
     "text": [
      "oitenta e seis\n"
     ]
    }
   ],
   "source": [
    "number = input('Digite uma string: ')\n",
    "if(int(number)<0 or int(number)>99):\n",
    "    print(\"O número digitado é inválido!!!\")\n",
    "else: \n",
    "    if(len(number)==2):\n",
    "        if(number[0]=='1'):\n",
    "            if(number[1]=='0'): print('dez')\n",
    "            elif(number[1]=='1'): print('onze')\n",
    "            elif(number[1]=='2'): print('doze')\n",
    "            elif(number[1]=='3'): print('treze')\n",
    "            elif(number[1]=='4'): print('catorze')\n",
    "            elif(number[1]=='5'): print('quinze')\n",
    "            elif(number[1]=='8'): print('dezoito')\n",
    "            else:\n",
    "                if(number[1]=='9'): print(\"deze\", end=\"\")\n",
    "                else: print(\"dezes\", end=\"\")\n",
    "                number = number[1]\n",
    "        elif (number[0]=='2'):\n",
    "            if(number[1]=='0'): print('vinte')\n",
    "            else: \n",
    "                print('vinte e',end=\" \")\n",
    "                number = number[1]\n",
    "        elif (number[0]=='3'):\n",
    "            if(number[1]=='0'): print('trinta')\n",
    "            else: \n",
    "                print('trinta e',end=\" \")\n",
    "                number = number[1]\n",
    "        elif (number[0]=='4'):\n",
    "            if(number[1]=='0'): print('quarenta')\n",
    "            else: \n",
    "                print('quarenta e',end=\" \")\n",
    "                number = number[1]\n",
    "        elif (number[0]=='5'):\n",
    "            if(number[1]=='0'): \n",
    "                print('cinquenta')\n",
    "            else: \n",
    "                print('cinquenta e',end=\" \")\n",
    "                number = number[1]\n",
    "        elif (number[0]=='6'):\n",
    "            if(number[1]=='0'): print('sessenta')\n",
    "            else: \n",
    "                print('sessenta e',end=\" \")\n",
    "                number = number[1]\n",
    "        elif (number[0]=='7'):\n",
    "            if(number[1]=='0'): print('setenta')\n",
    "            else: \n",
    "                print('setenta e',end=\" \")\n",
    "                number = number[1]\n",
    "        elif (number[0]=='8'):\n",
    "            if(number[1]=='0'): print('oitenta')\n",
    "            else: \n",
    "                print('oitenta e',end=\" \")\n",
    "                number = number[1]\n",
    "        elif (number[0]=='9'):\n",
    "            if(number[1]=='0'): print('noventa')\n",
    "            else: \n",
    "                print('noventa e',end=\" \")\n",
    "                number = number[1]\n",
    "    if len(number)==1:\n",
    "        if(number=='0'): print(\"zero\")\n",
    "        elif(number=='1'): print(\"um\")\n",
    "        elif(number=='2'): print(\"dois\")\n",
    "        elif(number=='3'): print(\"três\")\n",
    "        elif(number=='4'): print(\"quatro\")\n",
    "        elif(number=='5'): print(\"cinco\")\n",
    "        elif(number=='6'): print(\"seis\")\n",
    "        elif(number=='7'): print(\"sete\")\n",
    "        elif(number=='8'): print(\"oito\")\n",
    "        elif(number=='9'): print(\"nove\")    "
   ]
  },
  {
   "attachments": {},
   "cell_type": "markdown",
   "metadata": {},
   "source": [
    "**13. Faça um programa que leia uma palavra e some 1 no valor ASCII de cada caractere da palavra. Imprima a string resultante.**\n",
    "\n",
    "- Dica: O Python disponibiliza 2 funções que são bastante uteis quando estamos trabalhando com o sistema ASCII. A primeira é a função ord(), que recebe uma letra como parâmetro e retorna o código ASCII da mesma. A segunda função, é a chr(), onde passamos o código ASCII e nos é retornado a respectiva letra.\n",
    "- Tabela ASCII: https://www.ime.usp.br/~pf/algoritmos/apend/ascii.html"
   ]
  },
  {
   "cell_type": "code",
   "execution_count": 23,
   "metadata": {},
   "outputs": [
    {
     "name": "stdout",
     "output_type": "stream",
     "text": [
      "JGQF\n"
     ]
    }
   ],
   "source": [
    "string = input('Digite uma string: ')\n",
    "new_string = ''\n",
    "for char in string:\n",
    "    new_string += chr(ord(char)+1)\n",
    "print(new_string)"
   ]
  },
  {
   "attachments": {},
   "cell_type": "markdown",
   "metadata": {},
   "source": [
    "**14. Faça um programa que solicite ao usuário uma string e modifique a string para que todos os caracteres fiquem em maiúsculas.**\n",
    "- Obs: Não utilize a função upper(). Utilize a tabela ASCII."
   ]
  },
  {
   "cell_type": "code",
   "execution_count": 27,
   "metadata": {},
   "outputs": [
    {
     "name": "stdout",
     "output_type": "stream",
     "text": [
      "Palavra original: Ifpe\n",
      "Palavra modificada: IFPE\n"
     ]
    }
   ],
   "source": [
    "string = input ('Digite uma string: ')\n",
    "string_upper = ''\n",
    "for char in string:\n",
    "    if ord(char) <= 64 or (ord(char)>= 91 and ord(char)<=96) or ord(char)>= 123:\n",
    "        print('A string possui caracteres inválidos!!!')\n",
    "        break\n",
    "    elif ord(char)>= 97 and ord(char) <= 122:\n",
    "        string_upper += chr(ord(char)-32)\n",
    "    else: string_upper += char\n",
    "    \n",
    "print(f'''Palavra original: {string}\n",
    "Palavra modificada: {string_upper}''')"
   ]
  },
  {
   "attachments": {},
   "cell_type": "markdown",
   "metadata": {},
   "source": [
    "**15. Faça um programa em que troque todas as ocorrencias de uma letra L1 pela letra L2 e da L2 pela L1 em uma string. A string e as letras L1 e L2 devem ser fornecidas pelo usuario.**\n",
    "\n",
    "- Obs: Não utilize a função replace()."
   ]
  },
  {
   "cell_type": "code",
   "execution_count": 28,
   "metadata": {},
   "outputs": [
    {
     "name": "stdout",
     "output_type": "stream",
     "text": [
      "String original: IFPE \n",
      "String modificada: UFPE\n"
     ]
    }
   ],
   "source": [
    "string = input ('Digite uma string: ')\n",
    "char1 = input ('Digite uma letra L1: ')\n",
    "char2 = input ('Digite uma letra L2: ')\n",
    "new_string=''\n",
    "\n",
    "for char in string:\n",
    "    if char == char1: new_string += char2\n",
    "    elif char == char2: new_string += char1\n",
    "    else: new_string += char\n",
    "\n",
    "print(f'String original: {string} \\nString modificada: {new_string}')"
   ]
  }
 ],
 "metadata": {
  "kernelspec": {
   "display_name": "Python 3",
   "language": "python",
   "name": "python3"
  },
  "language_info": {
   "codemirror_mode": {
    "name": "ipython",
    "version": 3
   },
   "file_extension": ".py",
   "mimetype": "text/x-python",
   "name": "python",
   "nbconvert_exporter": "python",
   "pygments_lexer": "ipython3",
   "version": "3.10.12"
  },
  "orig_nbformat": 4
 },
 "nbformat": 4,
 "nbformat_minor": 2
}
