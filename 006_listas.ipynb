{
 "cells": [
  {
   "attachments": {},
   "cell_type": "markdown",
   "metadata": {},
   "source": [
    "### Exercícios de lógica de programação envolvendo listas em Python."
   ]
  },
  {
   "attachments": {},
   "cell_type": "markdown",
   "metadata": {},
   "source": [
    "**1. Faça um Programa que leia 5 números inteiros, armazene-os em uma lista e imprima essa lista na tela.**"
   ]
  },
  {
   "cell_type": "code",
   "execution_count": 2,
   "metadata": {},
   "outputs": [
    {
     "name": "stdout",
     "output_type": "stream",
     "text": [
      "Lista de números recebidos:  [5, 4, 3, 2, 1]\n"
     ]
    }
   ],
   "source": [
    "numbers = []\n",
    "for i in range(5):\n",
    "    numbers.append(int(input(f'Digite o {i+1}º número inteiro: ')))\n",
    "print('Lista de números recebidos: ', numbers)"
   ]
  },
  {
   "attachments": {},
   "cell_type": "markdown",
   "metadata": {},
   "source": [
    "**2. Faça um programa que leia 10 números inteiros. Cada numero par deve ser armazenado em uma lista de pares e cada impar tem que ser armazenado em uma lista de impares. Ao término do programa imprima as duas listas.**"
   ]
  },
  {
   "cell_type": "code",
   "execution_count": 1,
   "metadata": {},
   "outputs": [
    {
     "name": "stdout",
     "output_type": "stream",
     "text": [
      "Lista de números pares recebidos:  [2, 4, 6, 8, 10]\n",
      "Lista de números ímpares recebidos:  [1, 3, 5, 7, 9]\n"
     ]
    }
   ],
   "source": [
    "even_list = []\n",
    "odd_list = []\n",
    "for i in range(10):\n",
    "    number = int(input(f'Digite o {i+1}º número inteiro: '))\n",
    "    if number%2 == 0: even_list.append(number)\n",
    "    else: odd_list.append(number)\n",
    "print('Lista de números pares recebidos: ', even_list)\n",
    "print('Lista de números ímpares recebidos: ', odd_list)"
   ]
  },
  {
   "attachments": {},
   "cell_type": "markdown",
   "metadata": {},
   "source": [
    "**3. Faça um programa que armazene as idades e as alturas de 4 alunos. Seu programa deve exibir quantos alunos com mais de 13 anos possuem uma altura inferior à altura média dentre todos os alunos.**"
   ]
  },
  {
   "cell_type": "code",
   "execution_count": 1,
   "metadata": {},
   "outputs": [
    {
     "name": "stdout",
     "output_type": "stream",
     "text": [
      "Existem 2 alunos com mais de 13 anos e que possuem altura inferior a média dentre todos os alunos\n"
     ]
    }
   ],
   "source": [
    "age_list = []\n",
    "height_list = []\n",
    "height_sum=0\n",
    "students_count=0\n",
    "\n",
    "for i in range(4):\n",
    "    age_list.append(int(input(f'Digite a idade do {i+1}º aluno: ')))\n",
    "    height_list.append(float(input(f'Digite a altura do {i+1}º aluno: ')))\n",
    "    height_sum += height_list[len(height_list)-1]\n",
    "avg_height = height_sum/len(height_list)\n",
    "\n",
    "for i in range(len(age_list)):\n",
    "    if age_list[i] > 13 and height_list[i] < avg_height:\n",
    "        students_count+=1\n",
    "print(f'Existem {students_count} alunos com mais de 13 anos e que possuem altura inferior a média dentre todos os alunos')"
   ]
  },
  {
   "attachments": {},
   "cell_type": "markdown",
   "metadata": {},
   "source": [
    "**4. Modifique o programa da questão 3 para que o usuário indique a quantidade de alunos que será utilizada no programa. Assim antes de começar a leitura de idades e alturas, o programa deve solicitar ao usuário o quantitativo de alunos.**"
   ]
  },
  {
   "cell_type": "code",
   "execution_count": 5,
   "metadata": {},
   "outputs": [
    {
     "name": "stdout",
     "output_type": "stream",
     "text": [
      "Existem 2 alunos com mais de 13 anos e que possuem altura inferior a média dentre todos os alunos\n"
     ]
    }
   ],
   "source": [
    "age_list = []\n",
    "height_list = []\n",
    "height_sum=0\n",
    "students_count=0\n",
    "\n",
    "students_amount = int(input('Digite a quantidade de alunos: '))\n",
    "\n",
    "for i in range(students_amount):\n",
    "    age_list.append(int(input(f'Digite a idade do {i+1}º aluno: ')))\n",
    "    height_list.append(float(input(f'Digite a altura do {i+1}º aluno: ')))\n",
    "    height_sum += height_list[len(height_list)-1]\n",
    "avg_height = height_sum/len(height_list)\n",
    "\n",
    "for i in range(len(age_list)):\n",
    "    if age_list[i] > 13 and height_list[i] < avg_height:\n",
    "        students_count+=1\n",
    "print(f'Existem {students_count} alunos com mais de 13 anos e que possuem altura inferior a média dentre todos os alunos')"
   ]
  },
  {
   "attachments": {},
   "cell_type": "markdown",
   "metadata": {},
   "source": [
    "**5. Modifique o programa da questão 3 para que o programa funcione para qualquer quantidade de alunos. Assim, durante a leitura das idades e alturas o usuário poderá inserir um valor negativo para indicar que deseja interromper a leitura dos dados.** "
   ]
  },
  {
   "cell_type": "code",
   "execution_count": 11,
   "metadata": {},
   "outputs": [
    {
     "name": "stdout",
     "output_type": "stream",
     "text": [
      "Existem 2 alunos com mais de 13 anos e que possuem altura inferior a média dentre todos os alunos\n"
     ]
    }
   ],
   "source": [
    "age_list = []\n",
    "height_list = []\n",
    "height_sum=0\n",
    "students_count=0\n",
    "\n",
    "while True:\n",
    "    age = int(input(f'Digite a idade do {len(age_list)+1}º aluno: '))\n",
    "    if age < 0:\n",
    "        break\n",
    "    age_list.append(age)\n",
    "    height_list.append(float(input(f'Digite a altura do {i+1}º aluno: ')))\n",
    "    height_sum += height_list[len(height_list)-1]\n",
    "avg_height = height_sum/len(height_list)\n",
    "\n",
    "for i in range(len(age_list)):\n",
    "    if age_list[i] > 13 and height_list[i] < avg_height:\n",
    "        students_count+=1\n",
    "print(f'Existem {students_count} alunos com mais de 13 anos e que possuem altura inferior a média dentre todos os alunos')"
   ]
  },
  {
   "attachments": {},
   "cell_type": "markdown",
   "metadata": {},
   "source": [
    "**6. Faça um programa que leia uma data de nascimento no formato dd/mm/aaaa e imprima a data com o mês escrito por extenso.**\n",
    "\n",
    "Exemplo:\n",
    "- Data = 20/02/1995\n",
    "- Resultado gerado pelo programa:\n",
    "- Você nasceu em 20 de fevereiro de 1995"
   ]
  },
  {
   "cell_type": "code",
   "execution_count": 10,
   "metadata": {},
   "outputs": [
    {
     "name": "stdout",
     "output_type": "stream",
     "text": [
      "Voce nasceu em 21 de outubro de 1990\n"
     ]
    }
   ],
   "source": [
    "months_list = ['janeiro', 'fevereiro','março', 'abril', 'maio', 'junho', 'julho', 'agosto', 'setembro', 'outubro', 'novembro', 'dezembro']\n",
    "birth_date = input('Digite a sua data de nascimento no formato dd/mm/aaaa: ') \n",
    "print('Voce nasceu em '+birth_date[0:2]+' de '+months_list[int(birth_date[3:5])-1]+ ' de ' + birth_date[-4:])"
   ]
  },
  {
   "attachments": {},
   "cell_type": "markdown",
   "metadata": {},
   "source": [
    "**7. Faça um programa que receba a temperatura média de cada mês do ano e armazene-as em uma lista. Após isto, calcule a média anual das temperaturas e mostre todas as temperaturas acima da média anual, e em que mês elas ocorreram (mostrar o mês por extenso: temp – Janeiro, temp – Fevereiro, . . . ).**"
   ]
  },
  {
   "cell_type": "code",
   "execution_count": 8,
   "metadata": {},
   "outputs": [
    {
     "name": "stdout",
     "output_type": "stream",
     "text": [
      "Temperaturas acima da média anual: \n",
      "28.0 ºC -- janeiro\n",
      "27.0 ºC -- fevereiro\n",
      "26.0 ºC -- março\n",
      "26.0 ºC -- setembro\n",
      "28.0 ºC -- outubro\n",
      "29.0 ºC -- novembro\n",
      "30.0 ºC -- dezembro\n"
     ]
    }
   ],
   "source": [
    "months_list = ['janeiro', 'fevereiro','março', 'abril', 'maio', 'junho', 'julho', 'agosto', 'setembro', 'outubro', 'novembro', 'dezembro']\n",
    "avg_temperatures = []\n",
    "for i in range(len(months_list)):\n",
    "    avg_temperatures.append(float(input(f'Digite a temperura média do mês de {months_list[i]}: ')))\n",
    "avg_annual = sum(avg_temperatures)/len(avg_temperatures)\n",
    "print('Temperaturas acima da média anual: ')\n",
    "for i in range(len(avg_temperatures)):\n",
    "    if avg_temperatures[i] > avg_annual:\n",
    "        print(f'{avg_temperatures[i]} ºC -- {months_list[i]}')"
   ]
  },
  {
   "attachments": {},
   "cell_type": "markdown",
   "metadata": {},
   "source": [
    "**8. Em uma competição de salto em distância cada atleta tem direito a cinco saltos. O resultado do atleta será determinado pela média dos cinco valores restantes. Você deve fazer um programa que receba o nome e as cinco distâncias alcançadas pelo atleta em seus saltos e depois informe o nome, os saltos e a média dos saltos. O programa deve ser encerrado quando não for informado o nome do atleta. A saída do programa deve ser conforme o exemplo abaixo:**\n",
    "\n",
    "<div align=\"center\">\n",
    "    <img src=./images/006_8.png width=\"30%\">\n",
    "</div>\n"
   ]
  },
  {
   "cell_type": "code",
   "execution_count": 6,
   "metadata": {},
   "outputs": [
    {
     "name": "stdout",
     "output_type": "stream",
     "text": [
      "Atleta: Rodrigo Curvêllo \n",
      "\n",
      "Primeiro Salto: 6.5 m\n",
      "Segundo Salto: 6.1 m\n",
      "Terceiro Salto: 6.2 m\n",
      "Quarto Salto: 5.4 m\n",
      "Quinto Salto: 5.3 m\n",
      "\n",
      "Resultado final: \n",
      "Atleta:  Rodrigo Curvêllo\n",
      "Saltos: 6.5 - 6.1 - 6.2 - 5.4 - 5.3\n",
      "Média dos saltos: 5.9 m \n",
      "\n"
     ]
    }
   ],
   "source": [
    "athletes_list = []\n",
    "\n",
    "while True:\n",
    "    jumps_list = []\n",
    "    name = input('Digite o nome do atleta')\n",
    "    if name == '':\n",
    "        break\n",
    "    for i in range (5):\n",
    "        jumps_list.append(float(input(f'Digite a distancia do salto {i+1}')))\n",
    "    athletes_list.append([name, jumps_list])\n",
    "\n",
    "output_list = ['Primeiro', 'Segundo', 'Terceiro', 'Quarto', 'Quinto']\n",
    "for i in range(len(athletes_list)):\n",
    "    print (f'Atleta: {athletes_list[i][0]} \\n')\n",
    "    stringJumps='Saltos: '\n",
    "    for j in range(len(athletes_list[i][1])):\n",
    "        print (f'{output_list[j]} Salto: {athletes_list[i][1][j]} m')\n",
    "        stringJumps += str(athletes_list[i][1][j])+\" - \"\n",
    "    print ('\\nResultado final: ')    \n",
    "    print ('Atleta: ', athletes_list[i][0])\n",
    "    print (stringJumps[:-3])\n",
    "    print (f'Média dos saltos: {sum(athletes_list[i][1])/5} m \\n')"
   ]
  }
 ],
 "metadata": {
  "kernelspec": {
   "display_name": "Python 3.8.10 64-bit",
   "language": "python",
   "name": "python3"
  },
  "language_info": {
   "codemirror_mode": {
    "name": "ipython",
    "version": 3
   },
   "file_extension": ".py",
   "mimetype": "text/x-python",
   "name": "python",
   "nbconvert_exporter": "python",
   "pygments_lexer": "ipython3",
   "version": "3.10.6"
  },
  "orig_nbformat": 4,
  "vscode": {
   "interpreter": {
    "hash": "916dbcbb3f70747c44a77c7bcd40155683ae19c65e1c03b4aa3499c5328201f1"
   }
  }
 },
 "nbformat": 4,
 "nbformat_minor": 2
}
