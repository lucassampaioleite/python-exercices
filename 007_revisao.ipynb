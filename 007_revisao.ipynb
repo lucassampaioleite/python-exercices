{
 "cells": [
  {
   "attachments": {},
   "cell_type": "markdown",
   "metadata": {},
   "source": [
    "### Exercícios de revisão aulas 001 a 007"
   ]
  },
  {
   "attachments": {},
   "cell_type": "markdown",
   "metadata": {},
   "source": [
    "**1. Crie um programa que receba um número inteiro, conte o número total de dígitos e mostre o resultado. Por exemplo, se o número é 2021, então a saída deve ser 4.** \n",
    "\n",
    "Obs: O número não deve ser convertido para nenhum outro tipo, logo, todas as operações devem ser realizadas sobre o número inteiro."
   ]
  },
  {
   "cell_type": "code",
   "execution_count": 1,
   "metadata": {},
   "outputs": [
    {
     "name": "stdout",
     "output_type": "stream",
     "text": [
      "O número digitado tem 4 dígito(s).\n"
     ]
    }
   ],
   "source": [
    "number = int(input('Digite um numero inteiro: '))\n",
    "counter=0\n",
    "while number != 0:\n",
    "    number //= 10\n",
    "    counter += 1\n",
    "print(f'O número digitado tem {counter} dígito(s).')"
   ]
  },
  {
   "attachments": {},
   "cell_type": "markdown",
   "metadata": {},
   "source": [
    "**2. Escreva um programa para ler as dimensões de uma cozinha retangular (comprimento, largura e altura) e em seguida, calcule e escreva a quantidade de caixas de azulejos para se colocar em todas as suas paredes.**\n",
    "\n",
    "- Considere que não será descontada a área ocupada por portas e janelas. \n",
    "- Cada caixa de azulejos possui 1,5 m²."
   ]
  },
  {
   "cell_type": "code",
   "execution_count": 3,
   "metadata": {},
   "outputs": [
    {
     "name": "stdout",
     "output_type": "stream",
     "text": [
      "Área total: 300.0m² \n",
      "Número de caixas: 200.0\n"
     ]
    }
   ],
   "source": [
    "length = float(input('Digite o comprimento da cozinha: '))\n",
    "width = float(input('Digite a largura da cozinha: '))\n",
    "height = float(input('Digite a altura da cozinha: '))\n",
    "\n",
    "area = 2 * length * height + 2 * width * height\n",
    "\n",
    "print(f'Área total: {area}m² \\nNúmero de caixas: {area/1.5}')"
   ]
  },
  {
   "attachments": {},
   "cell_type": "markdown",
   "metadata": {},
   "source": [
    "**3. Qualquer número natural de quatro algarismos pode ser dividido em duas dezenas formadas pelos seus dois primeiros e dois últimos dígitos. (1297 = 12 e 97; 5314 = 53 e 14). Escreva um algoritmo que lê um número inteiro n (de 4 algarismos) e verifica se a raiz quadrada de n é igual a soma das dezenas de n.**\n",
    " \n",
    "- Ex.: n = 9801, dezenas de n = 98 + 01, soma das dezenas = 99, raiz quadrada de n = 99. Portanto, a raiz quadrada de 9801 é igual a soma de suas dezenas."
   ]
  },
  {
   "cell_type": "code",
   "execution_count": 5,
   "metadata": {},
   "outputs": [
    {
     "name": "stdout",
     "output_type": "stream",
     "text": [
      "A raiz quadrada de 9801 é igual a soma das dezenas 98 e 1\n"
     ]
    }
   ],
   "source": [
    "number = int(input('Digite um número de 4 algarismos: '))\n",
    "ten1 = number//100\n",
    "ten2 = number%100\n",
    "if ten1+ten2 == number**(1/2): print(f'A raiz quadrada de {number} é igual a soma das dezenas {ten1} e {ten2}')\n",
    "else: print(f'A raiz quadrada de {number} não é igual a soma das dezenas {ten1} e {ten2}')"
   ]
  },
  {
   "cell_type": "code",
   "execution_count": 6,
   "metadata": {},
   "outputs": [
    {
     "name": "stdout",
     "output_type": "stream",
     "text": [
      "True\n"
     ]
    }
   ],
   "source": [
    "number = int(input('Digite um número de 4 algarismos: '))\n",
    "ten1, ten2 = divmod(number, 100)\n",
    "print(ten1+ten2 == number**(1/2))"
   ]
  },
  {
   "attachments": {},
   "cell_type": "markdown",
   "metadata": {},
   "source": [
    "**4. Escreva um programa que compare duas listas e imprima:**\n",
    "\n",
    "- os valores comuns às duas listas;\n",
    "- os valores que só existem na primeira lista;\n",
    "- os valores que existem apenas na segunda lista;\n",
    "- uma lista com os elementos não repetidos das duas listas;\n",
    "- a primeira lista sem os elementos repetidos na segunda."
   ]
  },
  {
   "cell_type": "code",
   "execution_count": 10,
   "metadata": {},
   "outputs": [
    {
     "name": "stdout",
     "output_type": "stream",
     "text": [
      "Lista 1: [0, 1, 2, 3, 4, 5]\n",
      "Lista 2: [3, 4, 5, 6, 7, 8]\n",
      "Valores comuns às duas listas: [3, 4, 5]\n",
      "Valores que só existem na primeira lista: [0, 1, 2]\n",
      "Valores que existem apenas na segunda lista: [6, 7, 8]\n",
      "Elementos não repetidos das duas listas: [0, 1, 2, 6, 7, 8]\n",
      "Primeira lista sem os elementos repetidos na segunda: [0, 1, 2]\n"
     ]
    }
   ],
   "source": [
    "common_list = []\n",
    "first_list = []\n",
    "second_list=[]\n",
    "\n",
    "list1 = [0, 1, 2, 3, 4, 5]\n",
    "list2 = [3, 4, 5, 6, 7, 8]\n",
    "\n",
    "for element in list1:\n",
    "    if element in list2: \n",
    "        common_list.append(element)\n",
    "    else:\n",
    "        first_list.append(element)\n",
    "\n",
    "for element in list2:\n",
    "    if element not in list1: \n",
    "        second_list.append(element)\n",
    "        \n",
    "print('Lista 1:', list1)\n",
    "print('Lista 2:', list2)\n",
    "print('Valores comuns às duas listas:', common_list)\n",
    "print('Valores que só existem na primeira lista:', first_list)\n",
    "print('Valores que existem apenas na segunda lista:', second_list)\n",
    "print('Elementos não repetidos das duas listas:', first_list + second_list)\n",
    "print('Primeira lista sem os elementos repetidos na segunda:', first_list)"
   ]
  },
  {
   "attachments": {},
   "cell_type": "markdown",
   "metadata": {},
   "source": [
    "**6. Faça um programa que simule um lançamento de dados. Lance o dado 100 vezes e armazene os resultados em uma lista. Utilize uma lista de contadores (1-6) e depois da execução dos sorteios, mostre quantas vezes cada valor foi conseguido.**\n",
    " \n",
    "- Dica: sorteios em python podem ser realizados através da biblioteca random, pelas funções randint() e randrange(). \n",
    "- Documentação: https://docs.python.org/pt-br/3.8/library/random.html"
   ]
  },
  {
   "cell_type": "code",
   "execution_count": 11,
   "metadata": {},
   "outputs": [
    {
     "name": "stdout",
     "output_type": "stream",
     "text": [
      "Ocorrencias de 1: 14.\n",
      "Ocorrencias de 2: 16.\n",
      "Ocorrencias de 3: 19.\n",
      "Ocorrencias de 4: 14.\n",
      "Ocorrencias de 5: 18.\n",
      "Ocorrencias de 6: 19.\n"
     ]
    }
   ],
   "source": [
    "from random import randint\n",
    "\n",
    "faces = 6*[0]\n",
    "for i in range(100):\n",
    "    faces[randint(1,6)-1] += 1\n",
    "for i in range(len(faces)):\n",
    "    print(f'Ocorrencias de {i+1}: {faces[i]}.') "
   ]
  },
  {
   "attachments": {},
   "cell_type": "markdown",
   "metadata": {},
   "source": [
    "**7. Utilizando listas faça um programa que faça 5 perguntas para uma pessoa sobre um crime.**\n",
    "\n",
    "As perguntas são:\n",
    "\n",
    "- \"Telefonou para a vítima?\"\n",
    "- \"Esteve no local do crime?\"\n",
    "- \"Mora perto da vítima?\"\n",
    "- \"Devia para a vítima?\"\n",
    "- \"Já trabalhou com a vítima?\"\n",
    "\n",
    "O programa deve no final emitir uma classificação sobre a participação da pessoa no crime. Se a pessoa responder positivamente a 2 questões ela deve ser classificada como \"Suspeita\", entre 3 e 4 como \"Cúmplice\" e 5 como \"Assassino\". Caso contrário, ele será classificado como \"Inocente\"."
   ]
  },
  {
   "cell_type": "code",
   "execution_count": 12,
   "metadata": {},
   "outputs": [
    {
     "name": "stdout",
     "output_type": "stream",
     "text": [
      "Telefonou para a vítima?\n",
      "Esteve no local do crime?\n",
      "Mora perto da vítima?\n",
      "Devia para a vítima?\n",
      "Já trabalhou com a vítima?\n",
      "A pessoa é assassina.\n"
     ]
    }
   ],
   "source": [
    "questions = ['Telefonou para a vítima?', 'Esteve no local do crime?', 'Mora perto da vítima?', 'Devia para a vítima?', 'Já trabalhou com a vítima?']\n",
    "answers = 5*[0]\n",
    "for i in range(len(questions)):\n",
    "    print(questions[i])\n",
    "    answer = input('s/n?')\n",
    "    if answer == 's': answers[i] = 1\n",
    "if sum(answers) == 2: print('A pessoa é suspeita.')\n",
    "elif sum(answers) == 3 or sum(answers) == 4: print('A pessoa é cumplice.')\n",
    "elif sum(answers) == 5: print('A pessoa é assassina.')  \n",
    "else: print('A pessoa é inocente.')"
   ]
  }
 ],
 "metadata": {
  "kernelspec": {
   "display_name": "Python 3.10.6 64-bit",
   "language": "python",
   "name": "python3"
  },
  "language_info": {
   "codemirror_mode": {
    "name": "ipython",
    "version": 3
   },
   "file_extension": ".py",
   "mimetype": "text/x-python",
   "name": "python",
   "nbconvert_exporter": "python",
   "pygments_lexer": "ipython3",
   "version": "3.10.6"
  },
  "orig_nbformat": 4,
  "vscode": {
   "interpreter": {
    "hash": "916dbcbb3f70747c44a77c7bcd40155683ae19c65e1c03b4aa3499c5328201f1"
   }
  }
 },
 "nbformat": 4,
 "nbformat_minor": 2
}
