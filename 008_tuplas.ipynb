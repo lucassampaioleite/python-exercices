{
 "cells": [
  {
   "attachments": {},
   "cell_type": "markdown",
   "metadata": {},
   "source": [
    "### Exercícios de lógica de programação envolvendo tuplas em Python."
   ]
  },
  {
   "attachments": {},
   "cell_type": "markdown",
   "metadata": {},
   "source": [
    "**1. Escreva uma função em que dada uma tupla, remova os valores duplicados.**\n",
    "\n",
    "- Exemplo: tupla = (1, 3, 5, 2, 3, 5, 1, 1, 3)\n",
    "- Resultado: A tupla original é: (1, 3, 5, 2, 3, 5, 1, 1, 3)\n",
    "- A tupla após a remoção de duplicatas: (1, 2, 3, 5)\n",
    "- Obs: Não converter a tupla para nenhum outro tipo."
   ]
  },
  {
   "cell_type": "code",
   "execution_count": 1,
   "metadata": {},
   "outputs": [
    {
     "name": "stdout",
     "output_type": "stream",
     "text": [
      "A tupla original é: (1, 2, 5, 2, 3, 5, 1, 1, 3)\n",
      "A tupla após a remoção de duplicatas: (1, 2, 5, 3)\n"
     ]
    }
   ],
   "source": [
    "original_tuple = (1,2,5,2,3,5,1,1,3)\n",
    "new_tuple=()\n",
    "for element in original_tuple:\n",
    "    if element not in new_tuple:\n",
    "        new_tuple += element,\n",
    "print(f'A tupla original é: {original_tuple}')\n",
    "print(f'A tupla após a remoção de duplicatas: {new_tuple}')"
   ]
  },
  {
   "attachments": {},
   "cell_type": "markdown",
   "metadata": {},
   "source": [
    "**2. Dada uma lista de números, escreva um programa Python para criar uma lista de tuplas tendo o primeiro elemento como o número e o segundo elemento como o cubo do número.**"
   ]
  },
  {
   "cell_type": "code",
   "execution_count": 2,
   "metadata": {},
   "outputs": [
    {
     "name": "stdout",
     "output_type": "stream",
     "text": [
      "Entrada: [1, 2, 3, 9, 5, 6]\n",
      "Resultado: [(1, 1), (2, 8), (3, 27), (9, 729), (5, 125), (6, 216)]\n"
     ]
    }
   ],
   "source": [
    "numbers_list = [1,2,3,9,5,6]\n",
    "list_of_tuples = []\n",
    "for element in numbers_list:\n",
    "    list_of_tuples.append((element, element**3))\n",
    "print(f'Entrada: {numbers_list}\\nResultado: {list_of_tuples}')"
   ]
  },
  {
   "attachments": {},
   "cell_type": "markdown",
   "metadata": {},
   "source": [
    "**3. Contagem de ocorrências: Dado um texto armazenado em uma string, crie um programa que conte a quantidade de ocorrências de cada palavra e retorne uma tupla contendo a palavra e o número de ocorrências.**\n",
    "- Exemplo: Para o texto: \"A casa é bonita, a casa é azul\", a saída seria (('A', 1), ('casa', 2), ('é', 2), ('bonita,', 1), ('azul', 1))."
   ]
  },
  {
   "cell_type": "code",
   "execution_count": 14,
   "metadata": {},
   "outputs": [
    {
     "name": "stdout",
     "output_type": "stream",
     "text": [
      "(('Lorem', 4), ('Ipsum', 4), ('is', 1), ('simply', 1), ('dummy', 2), ('text', 2), ('of', 4), ('the', 6), ('printing', 1), ('and', 3), ('typesetting', 2), ('industry', 1), ('has', 2), ('been', 1), (\"industry's\", 1), ('standard', 1), ('ever', 1), ('since', 1), ('1500s', 1), ('when', 1), ('an', 1), ('unknown', 1), ('printer', 1), ('took', 1), ('a', 2), ('galley', 1), ('type', 2), ('scrambled', 1), ('it', 1), ('to', 1), ('make', 1), ('specimen', 1), ('book', 1), ('It', 2), ('survived', 1), ('not', 1), ('only', 1), ('five', 1), ('centuries', 1), ('but', 1), ('also', 1), ('leap', 1), ('into', 1), ('electronic', 1), ('remaining', 1), ('essentially', 1), ('unchanged', 1), ('was', 1), ('popularised', 1), ('in', 1), ('1960s', 1), ('with', 2), ('release', 1), ('Letraset', 1), ('sheets', 1), ('containing', 1), ('passages', 1), ('more', 1), ('recently', 1), ('desktop', 1), ('publishing', 1), ('software', 1), ('like', 1), ('Aldus', 1), ('PageMaker', 1), ('including', 1), ('versions', 1))\n"
     ]
    }
   ],
   "source": [
    "text = \"Lorem Ipsum is simply dummy text of the printing and typesetting industry. Lorem Ipsum has been the industry's standard dummy text ever since the 1500s, when an unknown printer took a galley of type and scrambled it to make a type specimen book. It has survived not only five centuries, but also the leap into electronic typesetting, remaining essentially unchanged. It was popularised in the 1960s with the release of Letraset sheets containing Lorem Ipsum passages, and more recently with desktop publishing software like Aldus PageMaker including versions of Lorem Ipsum.\"\n",
    "text = text.strip().replace('.','').replace(',','').replace('!','').replace('?','').replace('-','').replace('_','')\n",
    "text = text.split()\n",
    "single_words = []\n",
    "result_tuple = ()\n",
    "for word in text:\n",
    "    if word not in single_words:\n",
    "        single_words.append(word)\n",
    "for word in single_words:\n",
    "    result_tuple += (word, text.count(word)),\n",
    "print(result_tuple)"
   ]
  },
  {
   "attachments": {},
   "cell_type": "markdown",
   "metadata": {},
   "source": [
    "**4. Crie um programa que registre os dados dos alunos de uma turma, incluindo nome, idade e notas. Utilize uma lista de tuplas para armazenar os registros dos alunos e permita a busca de um aluno pelo nome.**"
   ]
  },
  {
   "cell_type": "code",
   "execution_count": 3,
   "metadata": {},
   "outputs": [
    {
     "name": "stdout",
     "output_type": "stream",
     "text": [
      "MENU: \n",
      "\n",
      "[1] - Novo registro\n",
      "[2] - Busca por nome\n",
      "[3] - Sair\n",
      "MENU: \n",
      "\n",
      "[1] - Novo registro\n",
      "[2] - Busca por nome\n",
      "[3] - Sair\n",
      "('Fulano', 18, ['10.0', '5.0', '8.0'])\n",
      "MENU: \n",
      "\n",
      "[1] - Novo registro\n",
      "[2] - Busca por nome\n",
      "[3] - Sair\n",
      "O nome não consta nos registros!!!\n",
      "MENU: \n",
      "\n",
      "[1] - Novo registro\n",
      "[2] - Busca por nome\n",
      "[3] - Sair\n"
     ]
    }
   ],
   "source": [
    "records = []\n",
    "while True:\n",
    "    print(\"\\nMENU: \\n\")\n",
    "    print(\"[1] - Novo registro\")\n",
    "    print(\"[2] - Busca por nome\")\n",
    "    print(\"[3] - Sair\")\n",
    "\n",
    "    choice = int(input(\"Digite uma opção: \"))\n",
    "\n",
    "    match choice:\n",
    "        case 1:\n",
    "            name = input('Digite o nome do aluno: ')\n",
    "            age = int(input('Digite a idade do aluno: '))\n",
    "            grades = input('Digite as notas do aluno se paradas por um espaço em branco: ').split()\n",
    "            records.append((name, age, grades))\n",
    "        case 2: \n",
    "            name = input('Digite o nome do aluno: ')\n",
    "            found = False\n",
    "            for record in records:\n",
    "                if record[0] == name: \n",
    "                    print (record)\n",
    "                    found = True\n",
    "            if found == False: print('O nome não consta nos registros!!!')\n",
    "        case other: break"
   ]
  }
 ],
 "metadata": {
  "kernelspec": {
   "display_name": "Python 3.10.6 64-bit",
   "language": "python",
   "name": "python3"
  },
  "language_info": {
   "codemirror_mode": {
    "name": "ipython",
    "version": 3
   },
   "file_extension": ".py",
   "mimetype": "text/x-python",
   "name": "python",
   "nbconvert_exporter": "python",
   "pygments_lexer": "ipython3",
   "version": "3.10.6"
  },
  "orig_nbformat": 4,
  "vscode": {
   "interpreter": {
    "hash": "916dbcbb3f70747c44a77c7bcd40155683ae19c65e1c03b4aa3499c5328201f1"
   }
  }
 },
 "nbformat": 4,
 "nbformat_minor": 2
}
