{
 "cells": [
  {
   "attachments": {},
   "cell_type": "markdown",
   "metadata": {},
   "source": [
    "### Exercícios de lógica de programação envolvendo dicionários em Python."
   ]
  },
  {
   "attachments": {},
   "cell_type": "markdown",
   "metadata": {},
   "source": [
    "**1. Faça um dicionário com as 5 pessoas mais próximas de você, contendo o nome como chave e a cor da camisa que está usando como valor.**"
   ]
  },
  {
   "cell_type": "code",
   "execution_count": 1,
   "metadata": {},
   "outputs": [
    {
     "name": "stdout",
     "output_type": "stream",
     "text": [
      "{'Pessoa1': 'vermelho', 'Pessoa2': 'verde', 'Pessoa3': 'amarelo', 'Pessoa4': 'azul', 'Pessoa5': 'preto'}\n"
     ]
    }
   ],
   "source": [
    "dictionary = {'Pessoa1': 'vermelho', \n",
    "              'Pessoa2': 'verde',\n",
    "              'Pessoa3': 'amarelo',\n",
    "              'Pessoa4': 'azul',\n",
    "              'Pessoa5': 'preto'}\n",
    "print(dictionary)"
   ]
  },
  {
   "attachments": {},
   "cell_type": "markdown",
   "metadata": {},
   "source": [
    "**2. Crie um dicionário vazio \"semana = {}\" e o complete com uma chave para cada dia da semana, tendo como seu valor uma lista com as aulas que você tem nesse dia (sábado e domingo recebem listas vazias, ou você tem aula?).**"
   ]
  },
  {
   "cell_type": "code",
   "execution_count": 2,
   "metadata": {},
   "outputs": [],
   "source": [
    "dictionary={}\n",
    "dictionary['segunda'] = ['Desenvolvimento aplicações rápidas em python']\n",
    "dictionary['terça'] = ['Paradigmas de linguagem de programação com python', 'Estruturas de dados em C']\n",
    "dictionary['quarta'] = ['Tópicos avançados em TI']\n",
    "dictionary['quinta'] = ['Lógica de Programação']\n",
    "dictionary['sexta'] = ['Lógica de programação']\n",
    "dictionary['sabado'] = ['Dança de salão']\n",
    "dictionary['domingo'] = []"
   ]
  },
  {
   "attachments": {},
   "cell_type": "markdown",
   "metadata": {},
   "source": [
    "**3. Crie um dicionário vazio \"filmes = {}\". Utilize o nome de um filme como chave. E, como valor, outro dicionário contendo o vilão e o ano em que o filme foi lançado. Preencha 5 filmes e acesse os dados do dicionários.**"
   ]
  },
  {
   "cell_type": "code",
   "execution_count": 7,
   "metadata": {},
   "outputs": [
    {
     "name": "stdout",
     "output_type": "stream",
     "text": [
      "dict_keys(['O auto da compadecida', 'Breaking bad', 'O Silêncio dos Inocentes', 'Duro de Matar', 'Vingadores: Ultimato'])\n",
      "O auto da compadecida\n",
      "Breaking bad\n",
      "O Silêncio dos Inocentes\n",
      "Duro de Matar\n",
      "Vingadores: Ultimato\n",
      "dict_values([{'vilao': 'Severino', 'ano': 2000}, {'vilao': 'Hank Schrader', 'ano': 2013}, {'vilao': 'Hannibal Lecter', 'ano': 1991}, {'vilao': 'Hans Gruber', 'ano': 1988}, {'vilao': 'Thanos', 'ano': 2019}])\n",
      "{'vilao': 'Severino', 'ano': 2000}\n",
      "{'vilao': 'Hank Schrader', 'ano': 2013}\n",
      "{'vilao': 'Hannibal Lecter', 'ano': 1991}\n",
      "{'vilao': 'Hans Gruber', 'ano': 1988}\n",
      "{'vilao': 'Thanos', 'ano': 2019}\n",
      "O auto da compadecida {'vilao': 'Severino', 'ano': 2000}\n",
      "Breaking bad {'vilao': 'Hank Schrader', 'ano': 2013}\n",
      "O Silêncio dos Inocentes {'vilao': 'Hannibal Lecter', 'ano': 1991}\n",
      "Duro de Matar {'vilao': 'Hans Gruber', 'ano': 1988}\n",
      "Vingadores: Ultimato {'vilao': 'Thanos', 'ano': 2019}\n",
      "Severino\n",
      "2000\n"
     ]
    }
   ],
   "source": [
    "dictionary = {}\n",
    "dictionary['O auto da compadecida'] = {'vilao':'Severino', 'ano':2000}\n",
    "dictionary['Breaking bad'] = {'vilao':'Hank Schrader', 'ano':2013}\n",
    "dictionary['O Silêncio dos Inocentes'] = {'vilao':'Hannibal Lecter', 'ano':1991}\n",
    "dictionary['Duro de Matar'] = {'vilao':'Hans Gruber', 'ano':1988}\n",
    "dictionary['Vingadores: Ultimato'] = {'vilao':'Thanos', 'ano':2019}\n",
    "\n",
    "#getting all the keys\n",
    "print(dictionary.keys())\n",
    "for key in dictionary: print(key)\n",
    "#getting all the values\n",
    "print(dictionary.values())\n",
    "for key in dictionary: print(dictionary[key])\n",
    "#getting all the data (keys + values)\n",
    "for key, value in dictionary.items(): print(key, value)\n",
    "#getting a specific villain\n",
    "print(dictionary['O auto da compadecida']['vilao'])\n",
    "#getting a specific year\n",
    "print(dictionary['O auto da compadecida']['ano'])"
   ]
  },
  {
   "attachments": {},
   "cell_type": "markdown",
   "metadata": {},
   "source": [
    "**4. Escreva um programa para armazenar uma agenda de telefones em um dicionário. Cada pessoa pode ter um ou mais telefones e a chave do dicionário é o nome da pessoa.**\n",
    "\n",
    "Seu programa deve conter um menu onde dependendo da entrada do usuário, será possível:\n",
    "- incluirNovoNome – acrescenta um novo nome na agenda, que poderá receber um ou mais telefones.\n",
    "- incluirTelefone – acrescenta um telefone em um nome existente na agenda. Caso o nome não exista na agenda, você deve perguntar se a pessoa deseja incluí-lo.\n",
    "- excluirTelefone – exclui um telefone de uma pessoa que já está na agenda. Se a pessoa tiver apenas um telefone, ela deve ser excluída da agenda.\n",
    "- excluirNome – exclui uma pessoa da agenda.\n",
    "- consultarTelefone – retorna os telefones de uma pessoa na agenda."
   ]
  },
  {
   "cell_type": "code",
   "execution_count": 2,
   "metadata": {},
   "outputs": [
    {
     "name": "stdout",
     "output_type": "stream",
     "text": [
      "MENU: \n",
      "\n",
      "[1] - Incluir novo nome\n",
      "[2] - Incluir telefone\n",
      "[3] - Excluir telefone\n",
      "[4] - Excluir nome\n",
      "[5] - Exibir agenda\n",
      "[6] - Consultar telefones\n",
      "[7] - Sair\n"
     ]
    }
   ],
   "source": [
    "phonebook = {}\n",
    "\n",
    "while True:\n",
    "    print(\"MENU: \\n\")\n",
    "    print(\"[1] - Incluir novo nome\")\n",
    "    print(\"[2] - Incluir telefone\")\n",
    "    print(\"[3] - Excluir telefone\")\n",
    "    print(\"[4] - Excluir nome\")\n",
    "    print(\"[5] - Exibir agenda\")\n",
    "    print(\"[6] - Consultar telefones\")\n",
    "    print(\"[7] - Sair\")\n",
    "\n",
    "    choice = int(input(\"Digite uma opção: \"))\n",
    "    if choice == 1: \n",
    "        name = input(\"Digite um nome: \")\n",
    "        if name in phonebook :\n",
    "            print(\"O contato já existe na agenda!!!\")\n",
    "        else:\n",
    "            phonebook[name] = []\n",
    "    if choice == 2:\n",
    "        name = input(\"Digite um nome: \")\n",
    "        phone = input(\"Digite um telefone: \")\n",
    "        if name in phonebook :\n",
    "            phonebook[name].append(phone)\n",
    "        else:\n",
    "            phonebook[name] = [phone]\n",
    "    if choice == 3:\n",
    "        name = input(\"Digite um nome: \")\n",
    "        phone = input(\"Digite um telefone: \")\n",
    "        if name in phonebook :\n",
    "            if phone in phonebook[name]:\n",
    "                del phonebook[name][phonebook[name].index(phone)]\n",
    "                if len(phonebook[name] == 0):\n",
    "                    phonebook.pop(name)\n",
    "            else:\n",
    "                print(\"O telefone não pertence ao contato mencionado!!!\")\n",
    "        else:\n",
    "            print(\"O contato não existe na agenda!!!\")\n",
    "    if choice == 4: \n",
    "        name = input(\"Digite um nome: \")\n",
    "        if name in phonebook:\n",
    "            phonebook.pop(name)\n",
    "        else:\n",
    "            print(\"O contato não existe na agenda!!!\")\n",
    "    if choice == 5: \n",
    "        print(phonebook)\n",
    "    if choice == 6: \n",
    "        name = input(\"Digite um nome: \")\n",
    "        if name in phonebook:\n",
    "            print(phonebook[name])\n",
    "        else:\n",
    "            print(\"O contato não existe na agenda!!!\")\n",
    "    if choice == 7: break"
   ]
  }
 ],
 "metadata": {
  "kernelspec": {
   "display_name": "Python 3.10.6 64-bit",
   "language": "python",
   "name": "python3"
  },
  "language_info": {
   "codemirror_mode": {
    "name": "ipython",
    "version": 3
   },
   "file_extension": ".py",
   "mimetype": "text/x-python",
   "name": "python",
   "nbconvert_exporter": "python",
   "pygments_lexer": "ipython3",
   "version": "3.10.6"
  },
  "orig_nbformat": 4,
  "vscode": {
   "interpreter": {
    "hash": "916dbcbb3f70747c44a77c7bcd40155683ae19c65e1c03b4aa3499c5328201f1"
   }
  }
 },
 "nbformat": 4,
 "nbformat_minor": 2
}
