{
 "cells": [
  {
   "attachments": {},
   "cell_type": "markdown",
   "metadata": {},
   "source": [
    "### Exercícios de lógica de programação envolvendo funções em Python."
   ]
  },
  {
   "attachments": {},
   "cell_type": "markdown",
   "metadata": {},
   "source": [
    "**1. Faça um programa, com uma função que necessite de três argumentos, e que forneça a soma desses três argumentos.**"
   ]
  },
  {
   "cell_type": "code",
   "execution_count": 1,
   "metadata": {},
   "outputs": [
    {
     "data": {
      "text/plain": [
       "6"
      ]
     },
     "execution_count": 1,
     "metadata": {},
     "output_type": "execute_result"
    }
   ],
   "source": [
    "def sum(arg1, arg2, arg3):\n",
    "    return arg1+arg2+arg3\n",
    "sum(1,2,3)"
   ]
  },
  {
   "attachments": {},
   "cell_type": "markdown",
   "metadata": {},
   "source": [
    "**2. Faça um programa, com uma função que necessite de um argumento. A função retorna o valor de caractere ‘P’, se seu argumento for positivo, e ‘N’, se seu argumento for zero ou negativo.**"
   ]
  },
  {
   "cell_type": "code",
   "execution_count": 1,
   "metadata": {},
   "outputs": [
    {
     "name": "stdout",
     "output_type": "stream",
     "text": [
      "P\n",
      "N\n",
      "N\n"
     ]
    }
   ],
   "source": [
    "def positive_negative(number):\n",
    "    if number > 0: return 'P'\n",
    "    else: return 'N'    \n",
    "print(positive_negative(1))\n",
    "print(positive_negative(-1))\n",
    "print(positive_negative(0))"
   ]
  },
  {
   "attachments": {},
   "cell_type": "markdown",
   "metadata": {},
   "source": [
    "**3. Faça um programa para imprimir de acordo com a imagem abaixo para um n informado pelo usuário. Use uma função que receba um valor n inteiro e imprima até a n-ésima linha.**\n",
    "\n",
    "<div align=\"center\">\n",
    "    <img src=./images/011_3.png width=\"20%\">\n",
    "</div>"
   ]
  },
  {
   "cell_type": "code",
   "execution_count": 1,
   "metadata": {},
   "outputs": [
    {
     "name": "stdout",
     "output_type": "stream",
     "text": [
      "1 \n",
      "2 2 \n",
      "3 3 3 \n",
      "4 4 4 4 \n",
      "5 5 5 5 5 \n"
     ]
    }
   ],
   "source": [
    "def print_numbers(number):\n",
    "    for i in range(1,number+1):\n",
    "        for j in range(1,i+1):\n",
    "            print (i, end=' ')\n",
    "        print()\n",
    "print_numbers(5)"
   ]
  },
  {
   "attachments": {},
   "cell_type": "markdown",
   "metadata": {},
   "source": [
    "**4. Reverso do número. Faça uma função que retorne o reverso de um número inteiro informado. Por exemplo: 127 -> 721.**\n"
   ]
  },
  {
   "cell_type": "code",
   "execution_count": 3,
   "metadata": {},
   "outputs": [
    {
     "name": "stdout",
     "output_type": "stream",
     "text": [
      "654321\n"
     ]
    }
   ],
   "source": [
    "def reverse(number):\n",
    "    number = str(number)\n",
    "    return int(number[::-1])\n",
    "print(reverse(123456))"
   ]
  },
  {
   "attachments": {},
   "cell_type": "markdown",
   "metadata": {},
   "source": [
    "5. Faça uma função que retorne a quantidade de dígitos de um determinado número inteiro informado."
   ]
  },
  {
   "cell_type": "code",
   "execution_count": 4,
   "metadata": {},
   "outputs": [
    {
     "data": {
      "text/plain": [
       "4"
      ]
     },
     "execution_count": 4,
     "metadata": {},
     "output_type": "execute_result"
    }
   ],
   "source": [
    "def digit_counter(number):\n",
    "    number = str(number)\n",
    "    return len(number)\n",
    "digit_counter(1998)"
   ]
  },
  {
   "cell_type": "code",
   "execution_count": 7,
   "metadata": {},
   "outputs": [
    {
     "data": {
      "text/plain": [
       "4"
      ]
     },
     "execution_count": 7,
     "metadata": {},
     "output_type": "execute_result"
    }
   ],
   "source": [
    "def digit_counter(number):\n",
    "    if not(type(number)==int):\n",
    "        return \n",
    "    result = 1\n",
    "    if number < 0: number *= -1\n",
    "    while number > 0:\n",
    "        number //= 10\n",
    "        if number > 0: result += 1\n",
    "    return result\n",
    "digit_counter(-1998)"
   ]
  },
  {
   "attachments": {},
   "cell_type": "markdown",
   "metadata": {},
   "source": [
    "**6. Faça uma função que computa a potência a^b para valores de a e b (assuma números inteiros) passados por parâmetro (não use o operador \\**).**"
   ]
  },
  {
   "cell_type": "code",
   "execution_count": 1,
   "metadata": {},
   "outputs": [
    {
     "name": "stdout",
     "output_type": "stream",
     "text": [
      "4\n"
     ]
    }
   ],
   "source": [
    "def power(a, b):\n",
    "    result = a\n",
    "    if b == 0: return 1\n",
    "    else:\n",
    "        for x in range(2, b+1):\n",
    "            result *= a\n",
    "        return result\n",
    "print(power(2, 2))"
   ]
  },
  {
   "attachments": {},
   "cell_type": "markdown",
   "metadata": {},
   "source": [
    "**7. Leia um número decimal (até 3 dígitos) e escreva o seu equivalente em numeração romana. Utilize funções para obter cada dígito do número decimal e para a transformação de numeração decimal para romana.**\n",
    "\n",
    "- Dica1: 1 = I, 5 = V, 10 = X, 50 = L, 100 = C, 500 = D, 1.000 = M.\n",
    "- Dica2: utilize um vetor guardando a tradução para cada um dos dígitos. "
   ]
  },
  {
   "cell_type": "code",
   "execution_count": 7,
   "metadata": {},
   "outputs": [
    {
     "data": {
      "text/plain": [
       "'MCMXCIII'"
      ]
     },
     "execution_count": 7,
     "metadata": {},
     "output_type": "execute_result"
    }
   ],
   "source": [
    "decimal_roman_list = (  \n",
    "    (1000, \"M\"),\n",
    "    (900, \"CM\"),\n",
    "    (500, \"D\"),\n",
    "    (400, \"CD\"),\n",
    "    (100, \"C\"),\n",
    "    (90, \"XC\"),\n",
    "    (50, \"L\"),\n",
    "    (40, \"XL\"),\n",
    "    (10, \"X\"),\n",
    "    (9, \"IX\"),\n",
    "    (5, \"V\"),\n",
    "    (4, \"IV\"),\n",
    "    (1, \"I\")\n",
    ")\n",
    "def roman_convert(number):\n",
    "    result = ''\n",
    "    for value, roman in decimal_roman_list:\n",
    "        quotient = number//value\n",
    "        number = number % value      \n",
    "        result += roman * quotient\n",
    "    return result\n",
    "\n",
    "roman_convert(1993)"
   ]
  },
  {
   "cell_type": "code",
   "execution_count": 1,
   "metadata": {},
   "outputs": [
    {
     "data": {
      "text/plain": [
       "'MCMXCIII'"
      ]
     },
     "execution_count": 1,
     "metadata": {},
     "output_type": "execute_result"
    }
   ],
   "source": [
    "decimal_roman_list = (  \n",
    "    (1000, \"M\"),\n",
    "    (900, \"CM\"),\n",
    "    (500, \"D\"),\n",
    "    (400, \"CD\"),\n",
    "    (100, \"C\"),\n",
    "    (90, \"XC\"),\n",
    "    (50, \"L\"),\n",
    "    (40, \"XL\"),\n",
    "    (10, \"X\"),\n",
    "    (9, \"IX\"),\n",
    "    (5, \"V\"),\n",
    "    (4, \"IV\"),\n",
    "    (1, \"I\")\n",
    ")\n",
    "def roman_convert(number):\n",
    "    result = ''\n",
    "    for value, roman in decimal_roman_list:\n",
    "        quotient, number = divmod(number, value)       \n",
    "        result += roman * quotient\n",
    "    return result\n",
    "\n",
    "roman_convert(1993)"
   ]
  },
  {
   "attachments": {},
   "cell_type": "markdown",
   "metadata": {},
   "source": [
    "**8. Escreva um programa para armazenar uma agenda de telefones em um dicionário. Cada pessoa pode ter um ou mais telefones e a chave do dicionário é o nome da pessoa. Seu programa deve conter um menu onde dependendo da entrada do usuário, será possível:**\n",
    "\n",
    "- incluirNovoNome – acrescenta um novo nome na agenda, com um ou mais telefones.  \n",
    "- incluirTelefone – acrescenta um telefone em um nome existente na agenda. Caso o nome não exista na agenda, você deve perguntar se a pessoa deseja incluí-lo. \n",
    "- excluirTelefone – exclui um telefone de uma pessoa que já está na agenda. Se a pessoa tiver apenas um telefone, ela deve ser excluída da agenda. \n",
    "- excluirNome – exclui uma pessoa da agenda. \n",
    "- consultarTelefone – retorna os telefones de uma pessoa na agenda.\n"
   ]
  },
  {
   "cell_type": "code",
   "execution_count": 16,
   "metadata": {},
   "outputs": [
    {
     "name": "stdout",
     "output_type": "stream",
     "text": [
      "MENU: \n",
      "\n",
      "[1] - Incluir novo nome\n",
      "[2] - Incluir telefone\n",
      "[3] - Excluir telefone\n",
      "[4] - Excluir nome\n",
      "[5] - Exibir agenda\n",
      "[6] - Sair\n",
      "{}\n",
      "MENU: \n",
      "\n",
      "[1] - Incluir novo nome\n",
      "[2] - Incluir telefone\n",
      "[3] - Excluir telefone\n",
      "[4] - Excluir nome\n",
      "[5] - Exibir agenda\n",
      "[6] - Sair\n"
     ]
    }
   ],
   "source": [
    "def menu():\n",
    "    print(\"MENU: \\n\")\n",
    "    print(\"[1] - Incluir novo nome\")\n",
    "    print(\"[2] - Incluir telefone\")\n",
    "    print(\"[3] - Excluir telefone\")\n",
    "    print(\"[4] - Excluir nome\")\n",
    "    print(\"[5] - Exibir agenda\")\n",
    "    print(\"[6] - Consultar telefones\")\n",
    "    print(\"[7] - Sair\")\n",
    "\n",
    "def name_exists(name):\n",
    "    if name in phonebook: \n",
    "        return True\n",
    "    else: \n",
    "        return False\n",
    "\n",
    "def insert_name():\n",
    "    name = input(\"Digite um nome: \")\n",
    "    if name_exists(name):\n",
    "        print(\"O contato já existe na agenda!!!\")\n",
    "    else:\n",
    "        phonebook[name]=[]\n",
    "\n",
    "def insert_phone():\n",
    "    name = input(\"Digite um nome: \")\n",
    "    phone = input(\"Digite um telefone: \")\n",
    "\n",
    "    if name_exists(name):\n",
    "        phonebook[name].append(phone)\n",
    "    else:\n",
    "        phonebook[name]=[phone]\n",
    "\n",
    "def delete_name():\n",
    "    name = input(\"Digite um nome: \")\n",
    "    if name_exists(name):\n",
    "        phonebook.pop(name)\n",
    "    else:\n",
    "        print(\"O contato não existe na agenda!!!\")\n",
    "\n",
    "def delete_phone():\n",
    "    name = input(\"Digite um nome: \")\n",
    "    phone = input(\"Digite um telefone: \")\n",
    "    if name_exists(name):\n",
    "        if phone in phonebook[name]:\n",
    "            del phonebook[name][phonebook[name].index(phone)]\n",
    "            if len(phonebook[name]) == 0:\n",
    "                    phonebook.pop(name)\n",
    "        else:\n",
    "            print(\"O telefone não pertence ao contato mencionado!!!\")\n",
    "    else:\n",
    "        print(\"O contato não existe na agenda!!!\")\n",
    "\n",
    "def get_phones():\n",
    "    name = input(\"Digite um nome: \")\n",
    "    if name_exists(name):\n",
    "        print(phonebook[name])\n",
    "    else:\n",
    "        print(\"O contato não existe na agenda!!!\")\n",
    "\n",
    "def display_phonebook():\n",
    "    print(phonebook)\n",
    "\n",
    "phonebook = {}\n",
    "\n",
    "while True:\n",
    "    menu()\n",
    "    choice = int(input(\"Digite uma opção: \"))\n",
    "    if choice == 1: insert_name()\n",
    "    elif choice == 2: insert_phone()\n",
    "    elif choice == 3: delete_phone()\n",
    "    elif choice == 4: delete_name()\n",
    "    elif choice == 5: display_phonebook()\n",
    "    elif choice == 6: get_phones()\n",
    "    else: break    "
   ]
  },
  {
   "attachments": {},
   "cell_type": "markdown",
   "metadata": {},
   "source": [
    "9. Faça um programa que converta da notação de 24 horas para a notação de 12 horas.\n",
    "\n",
    "- Por exemplo, o programa deve converter 14:25 em 2:25 P.M.\n",
    "- A entrada é dada em dois inteiros.\n",
    "- Deve haver pelo menos duas funções: uma para fazer a conversão e uma para a saída.\n",
    "- Inclua um loop que permita que o usuário repita esse cálculo para novos valores de entrada todas as vezes que desejar."
   ]
  },
  {
   "cell_type": "code",
   "execution_count": 3,
   "metadata": {},
   "outputs": [
    {
     "name": "stdout",
     "output_type": "stream",
     "text": [
      "A notação de 12 horas é: 12:00 A.M.\n"
     ]
    }
   ],
   "source": [
    "def convert_hours(hours, minutes):\n",
    "    period = 'A.M.'\n",
    "\n",
    "    if hours >= 12:  \n",
    "        period = 'P.M.'\n",
    "    if hours == 0:  \n",
    "        hours = 12\n",
    "    elif hours > 12:  \n",
    "        hours -= 12\n",
    "    print_hour(hours, minutes, period)\n",
    "\n",
    "def print_hour(hours, minutes, period):\n",
    "    print(f'A notação de 12 horas é: {hours}:{minutes:02d} {period}')\n",
    "\n",
    "convert_hours(0, 0)       "
   ]
  },
  {
   "attachments": {},
   "cell_type": "markdown",
   "metadata": {},
   "source": [
    "**10. Faça um programa de implemente um jogo de Craps.**\n",
    "\n",
    "- O jogador lança um par de dados, obtendo um valor entre 2 e 12.\n",
    "- Se, na primeira jogada, você tirar 7 ou 11, você tirou um \"natural\" e ganhou.\n",
    "- Se você tirar 2, 3 ou 12 na primeira jogada, isto é chamado de \"craps\" e você perdeu.\n",
    "- Se, na primeira jogada, você fez um 4, 5, 6, 8, 9 ou 10, este é seu \"Ponto\". Seu objetivo agora é continuar jogando os dados até tirar este número novamente. Você perde, no entanto, se tirar um 7 antes de tirar este Ponto novamente."
   ]
  },
  {
   "cell_type": "code",
   "execution_count": 5,
   "metadata": {},
   "outputs": [
    {
     "name": "stdout",
     "output_type": "stream",
     "text": [
      "-------------------- Jogo de Craps --------------------\n",
      "Você tirou 6\n",
      "Seu ponto é 6. Continue jogando...\n",
      "Você tirou 10\n",
      "Você tirou 6\n",
      "Você tirou seu ponto novamente e ganhou!\n"
     ]
    }
   ],
   "source": [
    "from random import randint\n",
    "\n",
    "def play_dices():\n",
    "    dice1 = randint(1, 6)\n",
    "    dice2 = randint(1, 6)\n",
    "    return dice1 + dice2\n",
    "\n",
    "def craps():\n",
    "    result = play_dices()\n",
    "    print(f'Você tirou {result}')\n",
    "    \n",
    "    if result == 7 or result == 11:\n",
    "        print('Você tirou um natural e ganhou!')\n",
    "\n",
    "    elif result == 2 or result == 3 or result == 12:\n",
    "        print('CRAPS!!! Você perdeu!')\n",
    "\n",
    "    else:\n",
    "        point = result\n",
    "        print(f'Seu ponto é {point}. Continue jogando...')\n",
    "\n",
    "        while True:\n",
    "            result = play_dices()\n",
    "            print(f'Você tirou {result}')\n",
    "\n",
    "            if result == point:\n",
    "                print('Você tirou seu ponto novamente e ganhou!')\n",
    "                break\n",
    "            elif result == 7:\n",
    "                print('Você tirou um 7 antes de tirar seu ponto novamente e perdeu!')\n",
    "                break\n",
    "\n",
    "print(20 * '-', 'Jogo de Craps',20 * '-')\n",
    "craps()"
   ]
  },
  {
   "attachments": {},
   "cell_type": "markdown",
   "metadata": {},
   "source": [
    "**11. Construa uma função que receba uma string como parâmetro e devolva outra string com os carateres embaralhados.** \n",
    "\n",
    "- Por exemplo: se função receber a palavra python, pode retornar npthyo, ophtyn ou qualquer outra combinação possível, de forma aleatória.\n",
    "- Padronize a sua função para que todos os caracteres sejam devolvidos em caixa alta ou caixa baixa, independentemente de como foram digitados."
   ]
  },
  {
   "cell_type": "code",
   "execution_count": 2,
   "metadata": {},
   "outputs": [
    {
     "name": "stdout",
     "output_type": "stream",
     "text": [
      "tyhPon\n"
     ]
    }
   ],
   "source": [
    "from random import shuffle\n",
    "\n",
    "def shuffle_string(string):\n",
    "    characters = list(string)\n",
    "    shuffle(characters)\n",
    "    scrambled_string = ''.join(characters)\n",
    "    return scrambled_string\n",
    "\n",
    "print(shuffle_string('Python'))"
   ]
  },
  {
   "cell_type": "code",
   "execution_count": 3,
   "metadata": {},
   "outputs": [
    {
     "name": "stdout",
     "output_type": "stream",
     "text": [
      "charcharcharcharcharchar\n"
     ]
    }
   ],
   "source": [
    "from random import shuffle\n",
    "\n",
    "def shuffle_string(string):\n",
    "    characters = list(string)\n",
    "    shuffle(characters)\n",
    "    scrambled_string=''\n",
    "    for char in characters:\n",
    "        scrambled_string += char\n",
    "    return scrambled_string\n",
    "\n",
    "print(shuffle_string('Python'))"
   ]
  },
  {
   "attachments": {},
   "cell_type": "markdown",
   "metadata": {},
   "source": [
    "Modifique a questão anterior de forma que as vogais da string\n",
    "não sejam embaralhadas, ou seja, permaneçam na mesma\n",
    "posição."
   ]
  },
  {
   "cell_type": "code",
   "execution_count": null,
   "metadata": {},
   "outputs": [],
   "source": [
    "import random\n",
    "\n",
    "def embaralhar_string(string):\n",
    "    vogais = 'aeiouAEIOU'\n",
    "    consoantes = [c for c in string if c not in vogais]\n",
    "    random.shuffle(consoantes)\n",
    "\n",
    "    resultado = []\n",
    "    j = 0\n",
    "\n",
    "    for c in string:\n",
    "        if c in vogais:\n",
    "            resultado.append(c)\n",
    "        else:\n",
    "            resultado.append(consoantes[j])\n",
    "            j += 1\n",
    "\n",
    "    return ''.join(resultado)\n",
    "\n",
    "palavra = input(\"Digite uma palavra: \")\n",
    "palavra_embaralhada = embaralhar_string(palavra)\n",
    "\n",
    "print(\"Palavra embaralhada:\", palavra_embaralhada)"
   ]
  }
 ],
 "metadata": {
  "interpreter": {
   "hash": "916dbcbb3f70747c44a77c7bcd40155683ae19c65e1c03b4aa3499c5328201f1"
  },
  "kernelspec": {
   "display_name": "Python 3.8.10 64-bit",
   "language": "python",
   "name": "python3"
  },
  "language_info": {
   "codemirror_mode": {
    "name": "ipython",
    "version": 3
   },
   "file_extension": ".py",
   "mimetype": "text/x-python",
   "name": "python",
   "nbconvert_exporter": "python",
   "pygments_lexer": "ipython3",
   "version": "3.10.6"
  },
  "orig_nbformat": 4
 },
 "nbformat": 4,
 "nbformat_minor": 2
}
