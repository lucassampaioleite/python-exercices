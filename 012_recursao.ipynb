{
 "cells": [
  {
   "attachments": {},
   "cell_type": "markdown",
   "metadata": {},
   "source": [
    "### Exercícios de lógica de programação envolvendo funções recursivas em Python."
   ]
  },
  {
   "attachments": {},
   "cell_type": "markdown",
   "metadata": {},
   "source": [
    "**1. Defina a função recursiva div que recebe como argumentos dois números naturais  *m*  e  *n*  e devolve o resultado da divisão inteira de  *m*  por  *n*.**\n",
    "\n",
    "- Neste exercício não pode recorrer às operações aritméticas de multiplicação, divisão e resto da divisão inteira. "
   ]
  },
  {
   "cell_type": "code",
   "execution_count": 4,
   "metadata": {},
   "outputs": [
    {
     "name": "stdout",
     "output_type": "stream",
     "text": [
      "2\n"
     ]
    }
   ],
   "source": [
    "def div(m, n):\n",
    "    if n > m:return 0\n",
    "    else: return 1 + div(m-n, n)\n",
    "print(div(10,5))"
   ]
  },
  {
   "attachments": {},
   "cell_type": "markdown",
   "metadata": {},
   "source": [
    "**2. Implemente uma função recursiva que, dados dois números inteiros *x* e *n*, calcula o valor de *x^n*.**"
   ]
  },
  {
   "cell_type": "code",
   "execution_count": 1,
   "metadata": {},
   "outputs": [
    {
     "name": "stdout",
     "output_type": "stream",
     "text": [
      "32\n"
     ]
    }
   ],
   "source": [
    "def power(x, n):\n",
    "     if n == 0: return 1\n",
    "     else: return x * power(x, n-1)\n",
    "print(power(2,5))"
   ]
  },
  {
   "cell_type": "code",
   "execution_count": 8,
   "metadata": {},
   "outputs": [
    {
     "name": "stdout",
     "output_type": "stream",
     "text": [
      "0.03125\n"
     ]
    }
   ],
   "source": [
    "def power(x, n):\n",
    "    if n >= 0:\n",
    "        if n == 0:\n",
    "            return 1\n",
    "        else:\n",
    "            return x * power(x, n-1)\n",
    "    else:\n",
    "        if n == -1:\n",
    "            return 1/x\n",
    "        else:\n",
    "            return 1/x * power(x, n+1)\n",
    "print(power(2,-5))"
   ]
  },
  {
   "attachments": {},
   "cell_type": "markdown",
   "metadata": {},
   "source": [
    "**3. Crie uma função recursiva que imprima o enésimo termo da sequencia de Fibonacci.**\n",
    "\n",
    "- Ex: 1, 1, 2, 3, 5, 8, 13, 21, 34, 55, 89, 144, 233, 377, 610, 987, 1597, 2584. 2584 é o 18º número da sequencia. "
   ]
  },
  {
   "cell_type": "code",
   "execution_count": 10,
   "metadata": {},
   "outputs": [
    {
     "name": "stdout",
     "output_type": "stream",
     "text": [
      "2584 é o 18º número da sequencia.\n"
     ]
    }
   ],
   "source": [
    "def fibonacci(n): \n",
    "    if n == 1 or n == 2: return 1 \n",
    "    else: return fibonacci(n-2) + fibonacci(n-1)\n",
    "\n",
    "nth_term = 18\n",
    "print(f'{fibonacci(nth_term)} é o {nth_term}º número da sequencia.') "
   ]
  },
  {
   "attachments": {},
   "cell_type": "markdown",
   "metadata": {},
   "source": [
    "**4. Um problema típico em ciência da computação consiste em converter um número da sua forma decimal para a forma binária. Crie uma função recursiva que execute essa conversão.**"
   ]
  },
  {
   "cell_type": "code",
   "execution_count": 14,
   "metadata": {},
   "outputs": [
    {
     "name": "stdout",
     "output_type": "stream",
     "text": [
      "11111000110\n"
     ]
    }
   ],
   "source": [
    "def binary(decimal):\n",
    "  if decimal == 0: return '0'\n",
    "  elif decimal == 1: return '1'\n",
    "  else: return binary(decimal // 2) + str(decimal % 2)\n",
    "print(binary(1990))"
   ]
  },
  {
   "cell_type": "code",
   "execution_count": 15,
   "metadata": {},
   "outputs": [
    {
     "name": "stdout",
     "output_type": "stream",
     "text": [
      "11111000110\n"
     ]
    }
   ],
   "source": [
    "def binary(decimal):\n",
    "    if decimal == 0: return 0\n",
    "    else: return decimal % 2 + binary(decimal // 2) * 10\n",
    "print(binary(1990))"
   ]
  },
  {
   "attachments": {},
   "cell_type": "markdown",
   "metadata": {},
   "source": [
    "**5. Crie uma função recursiva para dado uma lista de inteiros e o seu número de elementos, inverta a posição dos seus elementos.**"
   ]
  },
  {
   "cell_type": "code",
   "execution_count": 17,
   "metadata": {},
   "outputs": [
    {
     "name": "stdout",
     "output_type": "stream",
     "text": [
      "[5, 4, 3, 2, 1]\n"
     ]
    }
   ],
   "source": [
    "def reverse_list(original_list, size):\n",
    "    if size == 0: return original_list\n",
    "    else: return original_list[-1:] + reverse_list(original_list[:-1], len(original_list[:-1]))\n",
    "print(reverse_list([1, 2, 3, 4, 5], 5)) "
   ]
  },
  {
   "cell_type": "code",
   "execution_count": 18,
   "metadata": {},
   "outputs": [
    {
     "name": "stdout",
     "output_type": "stream",
     "text": [
      "[5, 4, 3, 2, 1]\n"
     ]
    }
   ],
   "source": [
    "def reverse_list(original_list):\n",
    "    if len(original_list) == 0: return original_list\n",
    "    else: return original_list[-1:] + reverse_list(original_list[:-1])\n",
    "print(reverse_list([1, 2, 3, 4, 5]))"
   ]
  },
  {
   "cell_type": "code",
   "execution_count": 19,
   "metadata": {},
   "outputs": [
    {
     "name": "stdout",
     "output_type": "stream",
     "text": [
      "[5, 4, 3, 2, 1]\n"
     ]
    }
   ],
   "source": [
    "def reverse_list(original_list):\n",
    "    if len(original_list) == 0: return original_list\n",
    "    else: return [original_list[-1]] + reverse_list(original_list[:-1])\n",
    "print(reverse_list([1, 2, 3, 4, 5]))"
   ]
  },
  {
   "attachments": {},
   "cell_type": "markdown",
   "metadata": {},
   "source": [
    "**6. Escreva uma função recursiva que determine quantas vezes um dígito *k* ocorre em um número natural *n*.**\n",
    "\n",
    "- Por exemplo, o dígito 2 ocorre 3 vezes em 762021192."
   ]
  },
  {
   "cell_type": "code",
   "execution_count": 57,
   "metadata": {},
   "outputs": [
    {
     "name": "stdout",
     "output_type": "stream",
     "text": [
      "3\n"
     ]
    }
   ],
   "source": [
    "def count_digits(n, k): #check the case n = 0, k=0\n",
    "   if n == 0 and k == 0: return 1\n",
    "   else: return count_digits_aux(n, k)\n",
    "\n",
    "def count_digits_aux(n, k):\n",
    "   if n == 0: return 0\n",
    "   else: return count_digits_aux(n // 10, k) + (n % 10 == k)\n",
    "\n",
    "print(count_digits_aux(762021192, 2))"
   ]
  },
  {
   "cell_type": "code",
   "execution_count": 58,
   "metadata": {},
   "outputs": [
    {
     "name": "stdout",
     "output_type": "stream",
     "text": [
      "3\n"
     ]
    }
   ],
   "source": [
    "def count_digits(n, k):\n",
    "    if n < 1: return 0\n",
    "    else:\n",
    "        if n % 10 == k: return 1 + count_digits(n // 10, k)\n",
    "        else: return count_digits(n // 10, k)\n",
    "\n",
    "print(count_digits(762021192, 2))"
   ]
  },
  {
   "attachments": {},
   "cell_type": "markdown",
   "metadata": {},
   "source": [
    "**7. Considere a seguinte fórmula para calcular o mdc (máximo divisor comum) de dois números inteiros positivos:**\n",
    "\n",
    "- *mdc(a, b) = b*, se *b* divide *a* (ou seja, *a % b == 0*) \n",
    "- *mdc(a, b)* = *mdc(b, a % b)*, caso contrário.\n",
    "\n",
    "**Escreva uma função em Python que, dados dois números, retorne o máximo divisor comum entre eles. Usar recursividade.**"
   ]
  },
  {
   "cell_type": "code",
   "execution_count": 34,
   "metadata": {},
   "outputs": [
    {
     "name": "stdout",
     "output_type": "stream",
     "text": [
      "1\n"
     ]
    }
   ],
   "source": [
    "def mdc(a,b):\n",
    "    if a % b == 0: return b\n",
    "    else: return mdc(b, a % b)\n",
    "print(mdc(10,3))   "
   ]
  },
  {
   "attachments": {},
   "cell_type": "markdown",
   "metadata": {},
   "source": [
    "**8. Escreva um programa Python para calcular a soma harmônica de n-1.** \n",
    "\n",
    "- Nota: A soma harmônica é a soma dos recíprocos dos inteiros positivos.\n",
    "\n",
    "<div align=\"center\">\n",
    "    <img src=./images/004_9.png width=\"25%\">\n",
    "</div>"
   ]
  },
  {
   "cell_type": "code",
   "execution_count": 35,
   "metadata": {},
   "outputs": [
    {
     "name": "stdout",
     "output_type": "stream",
     "text": [
      "1.8333333333333333\n"
     ]
    }
   ],
   "source": [
    "def harmonic_sum(n):\n",
    "    if n <= 1:return 'Entrada inválida'\n",
    "    elif n == 2:return 1\n",
    "    else: return 1 / (n-1) + harmonic_sum(n-1) \n",
    "\n",
    "print(harmonic_sum(4))"
   ]
  },
  {
   "attachments": {},
   "cell_type": "markdown",
   "metadata": {},
   "source": [
    "**9. Crie uma função recursiva para verificar se uma palavra é palíndromo.**"
   ]
  },
  {
   "cell_type": "code",
   "execution_count": 38,
   "metadata": {},
   "outputs": [
    {
     "data": {
      "text/plain": [
       "True"
      ]
     },
     "execution_count": 38,
     "metadata": {},
     "output_type": "execute_result"
    }
   ],
   "source": [
    "def is_palindrome(word):\n",
    "    if len(word) <= 1: return True\n",
    "    if word[0] == word[-1]: return is_palindrome(word[1:-1])\n",
    "    else: return False\n",
    "\n",
    "is_palindrome('abbba') "
   ]
  },
  {
   "attachments": {},
   "cell_type": "markdown",
   "metadata": {},
   "source": [
    "**10. Crie uma função recursiva para calcular a soma de todos os dígitos de um número.**"
   ]
  },
  {
   "cell_type": "code",
   "execution_count": 39,
   "metadata": {},
   "outputs": [
    {
     "data": {
      "text/plain": [
       "3"
      ]
     },
     "execution_count": 39,
     "metadata": {},
     "output_type": "execute_result"
    }
   ],
   "source": [
    "def sum(number):\n",
    "    if number == 0: return 0\n",
    "    else: return number % 10 + sum(number // 10)\n",
    "sum(1011)"
   ]
  },
  {
   "attachments": {},
   "cell_type": "markdown",
   "metadata": {},
   "source": [
    "**11. Crie uma função recursiva para verificar se uma lista está ordenada em ordem crescente.**"
   ]
  },
  {
   "cell_type": "code",
   "execution_count": 44,
   "metadata": {},
   "outputs": [
    {
     "name": "stdout",
     "output_type": "stream",
     "text": [
      "False\n"
     ]
    }
   ],
   "source": [
    "def ascending_sort(original_list):\n",
    "    if len(original_list) < 2: return True\n",
    "    if original_list[0] > original_list[1]: return False\n",
    "    return ascending_sort(original_list[1:])\n",
    "print(ascending_sort([3,2,1]))"
   ]
  },
  {
   "attachments": {},
   "cell_type": "markdown",
   "metadata": {},
   "source": [
    "**12. Crie uma função recursiva para verificar se uma lista contém um elemento específico.**"
   ]
  },
  {
   "cell_type": "code",
   "execution_count": 45,
   "metadata": {},
   "outputs": [
    {
     "data": {
      "text/plain": [
       "False"
      ]
     },
     "execution_count": 45,
     "metadata": {},
     "output_type": "execute_result"
    }
   ],
   "source": [
    "def find_element(original_list, element):\n",
    "    if len(original_list) == 0: return False\n",
    "    if original_list[-1] == element: return True\n",
    "    return find_element(original_list[:-1], element)\n",
    "find_element([1,2,3,4,5], 9)"
   ]
  },
  {
   "attachments": {},
   "cell_type": "markdown",
   "metadata": {},
   "source": [
    "**13. Crie uma função recursiva para calcular a média dos elementos em uma lista.**"
   ]
  },
  {
   "cell_type": "code",
   "execution_count": 47,
   "metadata": {},
   "outputs": [
    {
     "name": "stdout",
     "output_type": "stream",
     "text": [
      "5.5\n"
     ]
    }
   ],
   "source": [
    "def avg_list(original_list, size):\n",
    "    if len(original_list) == 0: return 0\n",
    "    elif len(original_list) == size: return (original_list[-1] + avg_list(original_list[:-1], size))/size\n",
    "    else: return (original_list[-1] + avg_list(original_list[:-1], size)) \n",
    "\n",
    "original_list=[1,2,3,4,5,6,7,8,9,10]\n",
    "print(avg_list(original_list, len(original_list))) "
   ]
  },
  {
   "attachments": {},
   "cell_type": "markdown",
   "metadata": {},
   "source": [
    "**14. Crie uma função recursiva para calcular o enésimo termo da sequência de números de Tribonacci.**\n",
    "\n",
    "- A sequência de Tribonacci é uma extensão da sequência de Fibonacci, em que cada termo é a soma dos três termos anteriores. \n",
    "- A sequência começa com 0, 1, 1 e, a partir daí, cada termo subsequente é a soma dos três termos anteriores."
   ]
  },
  {
   "cell_type": "code",
   "execution_count": 48,
   "metadata": {},
   "outputs": [
    {
     "name": "stdout",
     "output_type": "stream",
     "text": [
      "44\n"
     ]
    }
   ],
   "source": [
    "def tribonacci(number):\n",
    "    if number == 1: return 0\n",
    "    if number <= 3: return 1\n",
    "    return tribonacci(number-3) + tribonacci(number-2) + tribonacci(number-1)\n",
    "print(tribonacci(9))"
   ]
  },
  {
   "attachments": {},
   "cell_type": "markdown",
   "metadata": {},
   "source": [
    "**15. Crie uma função recursiva para verificar se um número é primo.**"
   ]
  },
  {
   "cell_type": "code",
   "execution_count": 59,
   "metadata": {},
   "outputs": [
    {
     "data": {
      "text/plain": [
       "False"
      ]
     },
     "execution_count": 59,
     "metadata": {},
     "output_type": "execute_result"
    }
   ],
   "source": [
    "def is_prime(number, divisor = 2):\n",
    "    if number < 2: return False\n",
    "    if number == divisor: return True\n",
    "    if number % divisor == 0: return False\n",
    "    return is_prime(number, divisor + 1)\n",
    "is_prime(14)"
   ]
  }
 ],
 "metadata": {
  "interpreter": {
   "hash": "916dbcbb3f70747c44a77c7bcd40155683ae19c65e1c03b4aa3499c5328201f1"
  },
  "kernelspec": {
   "display_name": "Python 3.8.10 64-bit",
   "language": "python",
   "name": "python3"
  },
  "language_info": {
   "codemirror_mode": {
    "name": "ipython",
    "version": 3
   },
   "file_extension": ".py",
   "mimetype": "text/x-python",
   "name": "python",
   "nbconvert_exporter": "python",
   "pygments_lexer": "ipython3",
   "version": "3.10.6"
  },
  "orig_nbformat": 4
 },
 "nbformat": 4,
 "nbformat_minor": 2
}
