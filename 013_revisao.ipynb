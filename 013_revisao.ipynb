{
 "cells": [
  {
   "attachments": {},
   "cell_type": "markdown",
   "metadata": {},
   "source": [
    "### Exercícios de revisão envolvendo funções em Python."
   ]
  },
  {
   "attachments": {},
   "cell_type": "markdown",
   "metadata": {},
   "source": [
    "**1. Escreva uma função que receba um número de parâmetros indefinido. Imprima a quantidade de parâmetros recebidos de cada tipo de dado. A função também deve imprimir o maior e o menor valor numérico recebido.**"
   ]
  },
  {
   "cell_type": "code",
   "execution_count": 4,
   "metadata": {},
   "outputs": [
    {
     "name": "stdout",
     "output_type": "stream",
     "text": [
      "Quantidade de parâmetros recebidos por tipo: \n",
      "<class 'int'>: 3\n",
      "<class 'bool'>: 1\n",
      "<class 'list'>: 1\n",
      "<class 'tuple'>: 1\n",
      "<class 'float'>: 1\n",
      "<class 'dict'>: 1\n",
      "Maior valor numérico: 5.5\n",
      "Menor valor numérico: -10\n"
     ]
    }
   ],
   "source": [
    "def print_parameters(*parameters):\n",
    "    types = {}\n",
    "    numbers = []\n",
    "    \n",
    "    for parameter in parameters:\n",
    "        type_parameter = type(parameter)\n",
    "        types[type_parameter] = types.get(type_parameter, 0) + 1\n",
    "        if isinstance(parameter, (int, float)):\n",
    "           numbers.append(parameter)\n",
    "    \n",
    "    print('Quantidade de parâmetros recebidos por tipo: ')\n",
    "    for type_parameter, amount in types.items():\n",
    "        print(f'{type_parameter}: {amount}')\n",
    "    \n",
    "    if len(numbers)> 0:\n",
    "        smallest_valor = min(numbers)\n",
    "        biggest_value = max(numbers)\n",
    "        print(f'Maior valor numérico: {biggest_value}')\n",
    "        print(f'Menor valor numérico: {smallest_valor}')\n",
    "    else: print('Não houveram valores numéricos recebidos.')\n",
    "\n",
    "print_parameters(1, 2, True, [1,2,3], (1,2,3), 5.5, -10, {'key1': 10, 'key2': 20})"
   ]
  },
  {
   "attachments": {},
   "cell_type": "markdown",
   "metadata": {},
   "source": [
    "**2. Escreva uma função para imprimir o valor absoluto de um número.** \n",
    "\n",
    "- Obs: utilize apenas operações aritméticas."
   ]
  },
  {
   "cell_type": "code",
   "execution_count": 1,
   "metadata": {},
   "outputs": [
    {
     "name": "stdout",
     "output_type": "stream",
     "text": [
      "10\n"
     ]
    }
   ],
   "source": [
    "def get_absolute_value(number):\n",
    "    if number < 0: \n",
    "        absolute_value = -number\n",
    "    else: \n",
    "        absolute_value = number\n",
    "    return absolute_value\n",
    "print(get_absolute_value(-10))"
   ]
  },
  {
   "cell_type": "code",
   "execution_count": 2,
   "metadata": {},
   "outputs": [
    {
     "name": "stdout",
     "output_type": "stream",
     "text": [
      "10\n"
     ]
    }
   ],
   "source": [
    "def get_absolute_value(number):\n",
    "    return abs(number)\n",
    "print(get_absolute_value(-10))"
   ]
  },
  {
   "attachments": {},
   "cell_type": "markdown",
   "metadata": {},
   "source": [
    "**3. Escreva uma função que recebe um número como parâmetro e para cada número menor que o parâmetro, a função imprime \"Fizz\" se o número for múltiplo de três, imprime \"Buzz\" se o número for múltiplo de cinco, e imprime \"FizzBuzz\" se o número for múltiplo de três e cinco. Caso o número não seja múltiplo nem de três nem de cinco, ele deve ser impresso.**"
   ]
  },
  {
   "cell_type": "code",
   "execution_count": 4,
   "metadata": {},
   "outputs": [
    {
     "name": "stdout",
     "output_type": "stream",
     "text": [
      "1\n",
      "2\n",
      "Fizz\n",
      "4\n",
      "Buzz\n",
      "Fizz\n",
      "7\n",
      "8\n",
      "Fizz\n",
      "Buzz\n",
      "11\n",
      "Fizz\n",
      "13\n",
      "14\n",
      "FizzBuzz\n"
     ]
    }
   ],
   "source": [
    "def fizz_buzz(number):\n",
    "    for i in range(1, number):\n",
    "        if i % 3 == 0 and i % 5 == 0:\n",
    "            print('FizzBuzz')\n",
    "        elif i % 3 == 0:\n",
    "            print('Fizz')\n",
    "        elif i % 5 == 0:\n",
    "            print('Buzz')\n",
    "        else:\n",
    "            print(i)\n",
    "fizz_buzz(16)"
   ]
  },
  {
   "attachments": {},
   "cell_type": "markdown",
   "metadata": {},
   "source": [
    "**4. Faça uma função recursiva que receba um número inteiro positivo *n* e imprima todos os números naturais de *0* até *n* em ordem decrescente.**"
   ]
  },
  {
   "cell_type": "code",
   "execution_count": 7,
   "metadata": {},
   "outputs": [
    {
     "name": "stdout",
     "output_type": "stream",
     "text": [
      "10 9 8 7 6 5 4 3 2 1 0 "
     ]
    }
   ],
   "source": [
    "def print_descending(n):\n",
    "    if n < 0: return\n",
    "    print(n, end=' ')\n",
    "    print_descending(n-1)\n",
    "print_descending(10)"
   ]
  },
  {
   "attachments": {},
   "cell_type": "markdown",
   "metadata": {},
   "source": [
    "**5. A função fatorial duplo é definida como o produto de todos os números naturais ímpares de *1* até algum número natural ímpar *n*. Assim, o fatorial duplo de *5* é *5!! = 1 * 3 * 5 = 15*. Crie uma função recursiva para calcular o fatorial duplo de um número *n*.**"
   ]
  },
  {
   "cell_type": "code",
   "execution_count": 11,
   "metadata": {},
   "outputs": [
    {
     "name": "stdout",
     "output_type": "stream",
     "text": [
      "2027025\n"
     ]
    }
   ],
   "source": [
    "def double_factorial(n):\n",
    "    if n % 2 == 0: return 'Argumento inválido!'\n",
    "    if n == 1:\n",
    "        return 1\n",
    "    else:\n",
    "        return n * double_factorial(n - 2)\n",
    "print(double_factorial(15))"
   ]
  },
  {
   "attachments": {},
   "cell_type": "markdown",
   "metadata": {},
   "source": [
    "**6. Escreva uma função que receba dois números e retorne True se o primeiro número for múltiplo do segundo.** \n",
    "\n",
    "Valores esperados:\n",
    "- multiplo(8, 4) = True; \n",
    "- multiplo(7, 3) = False; \n",
    "- multiplo(5, 5) = True."
   ]
  },
  {
   "cell_type": "code",
   "execution_count": 12,
   "metadata": {},
   "outputs": [
    {
     "name": "stdout",
     "output_type": "stream",
     "text": [
      "True\n",
      "False\n",
      "True\n"
     ]
    }
   ],
   "source": [
    "def is_multiple(number1, number2):\n",
    "    if number1 % number2 == 0:\n",
    "        return True\n",
    "    else:\n",
    "        return False\n",
    "print(is_multiple(8, 4))\n",
    "print(is_multiple(7, 3))\n",
    "print(is_multiple(5, 5))"
   ]
  },
  {
   "attachments": {},
   "cell_type": "markdown",
   "metadata": {},
   "source": [
    "**7. Escreva uma função que recebe como entrada um número *n* e imprime todas as potências de *2* menores ou iguais a *n*.**"
   ]
  },
  {
   "cell_type": "code",
   "execution_count": 14,
   "metadata": {},
   "outputs": [
    {
     "name": "stdout",
     "output_type": "stream",
     "text": [
      "1\n",
      "2\n",
      "4\n",
      "8\n",
      "16\n"
     ]
    }
   ],
   "source": [
    "def print_powers(n):\n",
    "    power = 1\n",
    "    while power <= n:\n",
    "        print(power, end=' ')\n",
    "        power *= 2\n",
    "print_powers(20)"
   ]
  },
  {
   "attachments": {},
   "cell_type": "markdown",
   "metadata": {},
   "source": [
    "**8. Crie uma função geradora da sequência de Fibonacci até o n-ésimo termo.**"
   ]
  },
  {
   "cell_type": "code",
   "execution_count": 24,
   "metadata": {},
   "outputs": [
    {
     "name": "stdout",
     "output_type": "stream",
     "text": [
      "1, 1, 2, 3, 5, 8"
     ]
    }
   ],
   "source": [
    "def print_fibonacci(n):\n",
    "    if n == 1: print('1')\n",
    "    else:\n",
    "        print('1, 1', end='')\n",
    "        prev_prev = 1\n",
    "        prev = 1\n",
    "        for i in range (3, n+1):\n",
    "            current_number = prev_prev + prev\n",
    "            print(',' ,current_number, end=\"\")\n",
    "            prev_prev = prev\n",
    "            prev = current_number\n",
    "print_fibonacci(6)"
   ]
  },
  {
   "cell_type": "code",
   "execution_count": 30,
   "metadata": {},
   "outputs": [
    {
     "name": "stdout",
     "output_type": "stream",
     "text": [
      "[1, 1, 2, 3, 5, 8]\n"
     ]
    }
   ],
   "source": [
    "def print_fibonacci(n):\n",
    "    sequence = []    \n",
    "    if n >= 1:\n",
    "        sequence.append(1)\n",
    "    if n >= 2:\n",
    "        sequence.append(1)\n",
    "    for i in range(2, n):\n",
    "        sequence.append(sequence[i-1] + sequence[i-2])\n",
    "    return sequence\n",
    "print(print_fibonacci(6))"
   ]
  },
  {
   "attachments": {},
   "cell_type": "markdown",
   "metadata": {},
   "source": [
    "**9. Escreva uma função que recebe como entrada um número ano e retorna True caso ano seja bissexto. Caso contrário, retorne False.**\n",
    "\n",
    "- Help: https://learn.microsoft.com/pt-br/office/troubleshoot/excel/determine-a-leap-year"
   ]
  },
  {
   "cell_type": "code",
   "execution_count": 4,
   "metadata": {},
   "outputs": [
    {
     "name": "stdout",
     "output_type": "stream",
     "text": [
      "True\n",
      "False\n"
     ]
    }
   ],
   "source": [
    "def is_leap_year(year):\n",
    "    if year % 4 == 0 and (year % 100 != 0 or year % 400 == 0):\n",
    "        return True\n",
    "    else:\n",
    "        return False\n",
    "print(is_leap_year(2000)) \n",
    "print(is_leap_year(2001))  "
   ]
  }
 ],
 "metadata": {
  "kernelspec": {
   "display_name": "Python 3",
   "language": "python",
   "name": "python3"
  },
  "language_info": {
   "codemirror_mode": {
    "name": "ipython",
    "version": 3
   },
   "file_extension": ".py",
   "mimetype": "text/x-python",
   "name": "python",
   "nbconvert_exporter": "python",
   "pygments_lexer": "ipython3",
   "version": "3.10.6"
  },
  "orig_nbformat": 4
 },
 "nbformat": 4,
 "nbformat_minor": 2
}
