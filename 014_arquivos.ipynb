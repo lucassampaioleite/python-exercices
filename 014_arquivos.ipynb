{
 "cells": [
  {
   "cell_type": "code",
   "execution_count": 1,
   "metadata": {},
   "outputs": [],
   "source": [
    "with open ('notas_estudantes.txt', 'w') as file:\n",
    "    file.write('jose 10 15 20 30 40\\n')\n",
    "    file.write('pedro 23 16 19 22\\n')\n",
    "    file.write('suzana 8 22 17 14 32 17 24 21 2 9 11 17\\n')\n",
    "    file.write('giselda 12 28 21 45 26 10\\n')\n",
    "    file.write('joao 14 32 25 16 89')"
   ]
  },
  {
   "cell_type": "code",
   "execution_count": null,
   "metadata": {},
   "outputs": [],
   "source": [
    "grades_list = [\n",
    "    'jose 10 15 20 30 40\\n',\n",
    "    'pedro 23 16 19 22\\n',\n",
    "    'suzana 8 22 17 14 32 17 24 21 2 9 11 17\\n',\n",
    "    'giselda 12 28 21 45 26 10\\n',\n",
    "    'joao 14 32 25 16 89'\n",
    "]\n",
    "\n",
    "with open ('notas_estudantes.txt', 'w') as file:\n",
    "    file.writelines(grades_list)"
   ]
  },
  {
   "cell_type": "code",
   "execution_count": 2,
   "metadata": {},
   "outputs": [
    {
     "name": "stdout",
     "output_type": "stream",
     "text": [
      "Alunos com mais de 6 notas: \n",
      "O aluno(a) suzana possui 12 notas\n"
     ]
    }
   ],
   "source": [
    "with open ('notas_estudantes.txt', 'r') as file:\n",
    "    print('Alunos com mais de 6 notas: ')\n",
    "    for line in file:\n",
    "        values = line.split()\n",
    "        if len(values)>7:\n",
    "            print(f'O aluno(a) {values[0]} possui {len(values)-1} notas')"
   ]
  },
  {
   "cell_type": "code",
   "execution_count": 3,
   "metadata": {},
   "outputs": [
    {
     "name": "stdout",
     "output_type": "stream",
     "text": [
      "O(A) estudante jose possui média 23.00\n",
      "O(A) estudante pedro possui média 20.00\n",
      "O(A) estudante suzana possui média 16.17\n",
      "O(A) estudante giselda possui média 23.67\n",
      "O(A) estudante joao possui média 35.20\n"
     ]
    }
   ],
   "source": [
    "with open ('notas_estudantes.txt', 'r') as file:\n",
    "    for line in file:\n",
    "        values = line.split()\n",
    "        sum=0\n",
    "        for val in range(1,len(values)):\n",
    "            sum+=int(values[val])\n",
    "        print(f'O(A) estudante {values[0]} possui média {sum/(len(values)-1):.2f}')"
   ]
  },
  {
   "cell_type": "code",
   "execution_count": 5,
   "metadata": {},
   "outputs": [
    {
     "name": "stdout",
     "output_type": "stream",
     "text": [
      "O(A) estudante jose possui nota máxima 40 e 10 como nota mínima\n",
      "O(A) estudante pedro possui nota máxima 23 e 16 como nota mínima\n",
      "O(A) estudante suzana possui nota máxima 32 e 2 como nota mínima\n",
      "O(A) estudante giselda possui nota máxima 45 e 10 como nota mínima\n",
      "O(A) estudante joao possui nota máxima 89 e 14 como nota mínima\n"
     ]
    }
   ],
   "source": [
    "with open ('notas_estudantes.txt', 'r') as file:\n",
    "    for line in file:\n",
    "        values = line.split()\n",
    "        max = int(values[1])\n",
    "        min = int(values[1])\n",
    "        for val in range(2,len(values)):\n",
    "            if int(values[val]) > max: max = int(values[val])\n",
    "            if int(values[val]) < min: min = int(values[val])\n",
    "        print(f'O(A) estudante {values[0]} possui nota máxima {max} e {min} como nota mínima')"
   ]
  },
  {
   "cell_type": "code",
   "execution_count": 6,
   "metadata": {},
   "outputs": [
    {
     "ename": "FileNotFoundError",
     "evalue": "[Errno 2] No such file or directory: 'pessoas.txt'",
     "output_type": "error",
     "traceback": [
      "\u001b[0;31m---------------------------------------------------------------------------\u001b[0m",
      "\u001b[0;31mFileNotFoundError\u001b[0m                         Traceback (most recent call last)",
      "\u001b[1;32m/home/lucas/Documents/python-exercices/014_arquivos.ipynb Cell 5\u001b[0m in \u001b[0;36m2\n\u001b[1;32m      <a href='vscode-notebook-cell:/home/lucas/Documents/python-exercices/014_arquivos.ipynb#W4sZmlsZQ%3D%3D?line=0'>1</a>\u001b[0m \u001b[39mimport\u001b[39;00m \u001b[39mrandom\u001b[39;00m\n\u001b[0;32m----> <a href='vscode-notebook-cell:/home/lucas/Documents/python-exercices/014_arquivos.ipynb#W4sZmlsZQ%3D%3D?line=1'>2</a>\u001b[0m \u001b[39mwith\u001b[39;00m \u001b[39mopen\u001b[39;49m (\u001b[39m'\u001b[39;49m\u001b[39mpessoas.txt\u001b[39;49m\u001b[39m'\u001b[39;49m, \u001b[39m'\u001b[39;49m\u001b[39mr\u001b[39;49m\u001b[39m'\u001b[39;49m) \u001b[39mas\u001b[39;00m file:\n\u001b[1;32m      <a href='vscode-notebook-cell:/home/lucas/Documents/python-exercices/014_arquivos.ipynb#W4sZmlsZQ%3D%3D?line=2'>3</a>\u001b[0m     pessoas \u001b[39m=\u001b[39m file\u001b[39m.\u001b[39mreadlines()\n\u001b[1;32m      <a href='vscode-notebook-cell:/home/lucas/Documents/python-exercices/014_arquivos.ipynb#W4sZmlsZQ%3D%3D?line=3'>4</a>\u001b[0m     \u001b[39m# print(pessoas)\u001b[39;00m\n",
      "\u001b[0;31mFileNotFoundError\u001b[0m: [Errno 2] No such file or directory: 'pessoas.txt'"
     ]
    }
   ],
   "source": [
    "import random\n",
    "with open ('pessoas.txt', 'r') as file:\n",
    "    pessoas = file.readlines()\n",
    "    random.shuffle(pessoas)\n",
    "    equipe = 0\n",
    "    for pessoa in range(len(pessoas)):\n",
    "        if pessoa % 5 == 0:\n",
    "            equipe += 1\n",
    "            print(f\"Equipe {equipe}:\")\n",
    "        print (pessoas[pessoa].strip())"
   ]
  }
 ],
 "metadata": {
  "kernelspec": {
   "display_name": "Python 3",
   "language": "python",
   "name": "python3"
  },
  "language_info": {
   "codemirror_mode": {
    "name": "ipython",
    "version": 3
   },
   "file_extension": ".py",
   "mimetype": "text/x-python",
   "name": "python",
   "nbconvert_exporter": "python",
   "pygments_lexer": "ipython3",
   "version": "3.10.6"
  },
  "orig_nbformat": 4
 },
 "nbformat": 4,
 "nbformat_minor": 2
}
