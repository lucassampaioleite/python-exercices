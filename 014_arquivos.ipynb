{
 "cells": [
  {
   "attachments": {},
   "cell_type": "markdown",
   "metadata": {},
   "source": [
    "### Exercícios envolvendo manipulação de arquivos em Python."
   ]
  },
  {
   "attachments": {},
   "cell_type": "markdown",
   "metadata": {},
   "source": [
    "**1. Crie um arquivo notas_estudantes.txt com as seguintes notas dos alunos de uma turma:**\n",
    "\n",
    "<div align=\"center\">\n",
    "    <img src=./images/014_1.png width=\"30%\">\n",
    "</div>"
   ]
  },
  {
   "cell_type": "code",
   "execution_count": 1,
   "metadata": {},
   "outputs": [],
   "source": [
    "with open ('notas_estudantes.txt', 'w') as file:\n",
    "    file.write('jose 10 15 20 30 40\\n')\n",
    "    file.write('pedro 23 16 19 22\\n')\n",
    "    file.write('suzana 8 22 17 14 32 17 24 21 2 9 11 17\\n')\n",
    "    file.write('giselda 12 28 21 45 26 10\\n')\n",
    "    file.write('joao 14 32 25 16 89')"
   ]
  },
  {
   "cell_type": "code",
   "execution_count": 8,
   "metadata": {},
   "outputs": [],
   "source": [
    "grades_list = [\n",
    "    'jose 10 15 20 30 40\\n',\n",
    "    'pedro 23 16 19 22\\n',\n",
    "    'suzana 8 22 17 14 32 17 24 21 2 9 11 17\\n',\n",
    "    'giselda 12 28 21 45 26 10\\n',\n",
    "    'joao 14 32 25 16 89'\n",
    "]\n",
    "\n",
    "with open ('notas_estudantes.txt', 'w') as file:\n",
    "    file.writelines(grades_list)"
   ]
  },
  {
   "attachments": {},
   "cell_type": "markdown",
   "metadata": {},
   "source": [
    "**2. Usando o arquivo texto notas_estudantes.txt escreva um programa que imprime o nome dos alunos que têm mais de seis notas.**"
   ]
  },
  {
   "cell_type": "code",
   "execution_count": 10,
   "metadata": {},
   "outputs": [
    {
     "name": "stdout",
     "output_type": "stream",
     "text": [
      "Alunos com mais de 6 notas: \n",
      "suzana possui 12 notas\n"
     ]
    }
   ],
   "source": [
    "with open ('notas_estudantes.txt', 'r') as file:\n",
    "    print('Alunos com mais de 6 notas: ')\n",
    "    for line in file:\n",
    "        values = line.split()\n",
    "        if len(values)>7:\n",
    "            print(f'{values[0]} possui {len(values)-1} notas')"
   ]
  },
  {
   "attachments": {},
   "cell_type": "markdown",
   "metadata": {},
   "source": [
    "**3. Usando o arquivo texto notas_estudantes.txt, escreva um programa que calcula a média das notas de cada estudante e imprime o nome e a média de cada estudante.**"
   ]
  },
  {
   "cell_type": "code",
   "execution_count": 11,
   "metadata": {},
   "outputs": [
    {
     "name": "stdout",
     "output_type": "stream",
     "text": [
      "jose possui média 23.00\n",
      "pedro possui média 20.00\n",
      "suzana possui média 16.17\n",
      "giselda possui média 23.67\n",
      "joao possui média 35.20\n"
     ]
    }
   ],
   "source": [
    "with open ('notas_estudantes.txt', 'r') as file:\n",
    "    for line in file:\n",
    "        values = line.split()\n",
    "        sum = 0\n",
    "        for value in range(1,len(values)):\n",
    "            sum += int(values[value])\n",
    "        print(f'{values[0]} possui média {sum/(len(values)-1):.2f}')"
   ]
  },
  {
   "attachments": {},
   "cell_type": "markdown",
   "metadata": {},
   "source": [
    "**4. Usando o arquivo texto notas_estudantes.txt, escreva um programa que calcula a nota mínima e máxima de cada estudante e imprima o nome de cada aluno junto com a sua nota máxima e mínima.**"
   ]
  },
  {
   "cell_type": "code",
   "execution_count": 12,
   "metadata": {},
   "outputs": [
    {
     "name": "stdout",
     "output_type": "stream",
     "text": [
      "jose possui nota máxima 40 e 10 como nota mínima\n",
      "pedro possui nota máxima 23 e 16 como nota mínima\n",
      "suzana possui nota máxima 32 e 2 como nota mínima\n",
      "giselda possui nota máxima 45 e 10 como nota mínima\n",
      "joao possui nota máxima 89 e 14 como nota mínima\n"
     ]
    }
   ],
   "source": [
    "with open ('notas_estudantes.txt', 'r') as file:\n",
    "    for line in file:\n",
    "        values = line.split()\n",
    "        max = int(values[1])\n",
    "        min = int(values[1])\n",
    "        for value in range(2,len(values)):\n",
    "            if int(values[value]) > max: max = int(values[value])\n",
    "            if int(values[value]) < min: min = int(values[value])\n",
    "        print(f'{values[0]} possui nota máxima {max} e {min} como nota mínima')"
   ]
  },
  {
   "attachments": {},
   "cell_type": "markdown",
   "metadata": {},
   "source": [
    "**5. Escreva um programa para sortear os próximos times da próxima maratona de programação. Leia um arquivo com nome de estudantes e forme grupos de 5 pessoas.**"
   ]
  },
  {
   "cell_type": "code",
   "execution_count": null,
   "metadata": {},
   "outputs": [],
   "source": [
    "import random\n",
    "with open ('pessoas.txt', 'r') as file:\n",
    "    people = file.readlines()\n",
    "    random.shuffle(people)\n",
    "    team = 0\n",
    "    for person in range(len(people)):\n",
    "        if person % 5 == 0:\n",
    "            team += 1\n",
    "            print(f\"Equipe {team}:\")\n",
    "        print (people[person].strip())"
   ]
  },
  {
   "cell_type": "code",
   "execution_count": null,
   "metadata": {},
   "outputs": [],
   "source": [
    "#This solution distributes students who ran out of teams into existing teams.\n",
    "import random   \n",
    "with open ('pessoas.txt', 'r') as file:\n",
    "    people = file.readlines()\n",
    "    random.shuffle(people)\n",
    "    team = 0\n",
    "    integer, remainder = divmod(len(people), 5)\n",
    "    for i in range(integer):\n",
    "        print(f'Equipe {i+1}: ')\n",
    "        if(i < remainder): print(people[5*i :5*i+5] + people[integer*5+i:integer*5+i+1])\n",
    "        else: print(people[5*i:5*i+5])"
   ]
  }
 ],
 "metadata": {
  "kernelspec": {
   "display_name": "Python 3",
   "language": "python",
   "name": "python3"
  },
  "language_info": {
   "codemirror_mode": {
    "name": "ipython",
    "version": 3
   },
   "file_extension": ".py",
   "mimetype": "text/x-python",
   "name": "python",
   "nbconvert_exporter": "python",
   "pygments_lexer": "ipython3",
   "version": "3.10.6"
  },
  "orig_nbformat": 4
 },
 "nbformat": 4,
 "nbformat_minor": 2
}
