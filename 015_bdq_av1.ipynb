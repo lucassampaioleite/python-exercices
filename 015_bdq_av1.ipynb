{
 "cells": [
  {
   "attachments": {},
   "cell_type": "markdown",
   "metadata": {},
   "source": [
    "### Banco de questões utilizadas em AV1."
   ]
  },
  {
   "attachments": {},
   "cell_type": "markdown",
   "metadata": {},
   "source": [
    "**1. Escreva um programa que leia um numero inteiro positivo “n” e em seguida imprima “n” linhas do chamado Triângulo de Floyd. Para n = 6, temos como resultado:**\n",
    "\n",
    "<div align=\"center\">\n",
    "    <img src=./images/015_1.png width=\"15%\">\n",
    "</div>"
   ]
  },
  {
   "cell_type": "code",
   "execution_count": 2,
   "metadata": {},
   "outputs": [
    {
     "name": "stdout",
     "output_type": "stream",
     "text": [
      "1 \n",
      "2 3 \n",
      "4 5 6 \n",
      "7 8 9 10 \n",
      "11 12 13 14 15 \n",
      "16 17 18 19 20 21 \n"
     ]
    }
   ],
   "source": [
    "number = int(input('Digite um número para gerar o triângulo de Floyd: '))\n",
    "counter = 1\n",
    "for line in range(number):\n",
    "    for column in range(line+1):\n",
    "        print (counter, end=\" \")\n",
    "        counter += 1\n",
    "    print()"
   ]
  },
  {
   "attachments": {},
   "cell_type": "markdown",
   "metadata": {},
   "source": [
    "**2. Dada uma lista de strings, escreva um programa em Python que imprima a string mais longa que não possui letras repetidas.** \n",
    "\n",
    "- Obs: Não é permitido utilizar o tipo de dados set()."
   ]
  },
  {
   "cell_type": "code",
   "execution_count": 4,
   "metadata": {},
   "outputs": [
    {
     "name": "stdout",
     "output_type": "stream",
     "text": [
      "JaoCzydp\n"
     ]
    }
   ],
   "source": [
    "strings_list = ['Lucas', 'aba', 'Mariaaizb', 'JaoCzydp']\n",
    "longest_string = \"\"\n",
    "for string in strings_list:\n",
    "    characters = []\n",
    "    for char in string:\n",
    "        if char not in characters:\n",
    "            characters.append(char)\n",
    "    if len(characters) == len(string) and len(characters) > len(longest_string):\n",
    "        longest_string = len(characters)\n",
    "        longest_string = string\n",
    "print(longest_string)"
   ]
  },
  {
   "attachments": {},
   "cell_type": "markdown",
   "metadata": {},
   "source": [
    "**3. Suponha que você esteja trabalhando em um projeto para uma empresa de análise de dados que precisa calcular a média da renda familiar de um conjunto indefinido de famílias residentes na cidade de Tangamandápio. Você foi designado para escrever um programa em Python que leia a renda mensal de cada membro de uma família (o número de indivíduos da família deve ser solicitado ao usuário) e em seguida calcule e imprima a renda total da família, o número de indivíduos e a renda familiar média. O número de famílias é indefinido, logo, o seu programa deve solicitar se ainda há famílias para serem calculadas pelo sistema e ao final da inserção dos dados de todas as famílias, o seu programa deve imprimir a renda familiar média da cidade, além do percentual de famílias que possuem renda familiar média inferior a 1 salário mínimo e a quantidade de famílias com renda familiar média superior a 10 salários mínimos.**\n",
    "\n",
    "- Obs: Considere para o salário mínimo, o valor de R$ 1.212,00 e que a renda familiar média da cidade é a soma de todas as rendas familiares divididas pela quantidade de famílias da cidade."
   ]
  },
  {
   "cell_type": "code",
   "execution_count": 1,
   "metadata": {},
   "outputs": [
    {
     "name": "stdout",
     "output_type": "stream",
     "text": [
      "Renda total da família: R$ 10500.00\n",
      "Número de indivíduos: 2\n",
      "Renda familiar média: R$ 5250.00\n",
      "\n",
      "-----Resultados-----\n",
      "Renda familiar média da cidade: R$ 10500.00\n",
      "Percentual de famílias com renda inferior a 1 salário mínimo: 0.00 %\n",
      "Quantidade de famílias com renda superior a 10 salários mínimos: 0\n"
     ]
    }
   ],
   "source": [
    "city_income = 0\n",
    "families_count = 0\n",
    "families_below_minimum_count = 0\n",
    "families_above_10_minimums_count = 0\n",
    "\n",
    "MINIMUM_WAGE = 1212\n",
    "\n",
    "while True:\n",
    "    num_individuals = int(input('Digite a quantidade de indivíduos na família: '))\n",
    "    family_income = 0\n",
    "\n",
    "    for i in range(num_individuals):\n",
    "        individual_income = float(input(f'Digite a renda mensal do indivíduo {i+1}: '))\n",
    "        family_income += individual_income\n",
    "    print(f'Renda total da família: R$ {family_income:.2f}')\n",
    "    print(f'Número de indivíduos: {num_individuals}')\n",
    "    print(f'Renda familiar média: R$ {family_income/num_individuals:.2f}\\n')\n",
    "\n",
    "    city_income += family_income\n",
    "    families_count += 1\n",
    "\n",
    "    if family_income/num_individuals < MINIMUM_WAGE:\n",
    "        families_below_minimum_count += 1\n",
    "\n",
    "    if family_income/num_individuals > 10*MINIMUM_WAGE:\n",
    "        families_above_10_minimums_count += 1\n",
    "\n",
    "    opcao = input('Deseja calcular a renda de outra família? (S/N) ')\n",
    "    if opcao.upper() != 'S':\n",
    "        break\n",
    "\n",
    "average_family_income = city_income / families_count\n",
    "lower_income_percentage = (families_below_minimum_count / families_count) * 100\n",
    "\n",
    "print(15*'-' + 'Resultados' +15*'-')\n",
    "print(f'Renda familiar média da cidade: R$ {average_family_income:.2f}')\n",
    "print(f'Percentual de famílias com renda inferior a 1 salário mínimo: {lower_income_percentage:.2f} %')\n",
    "print(f'Quantidade de famílias com renda superior a 10 salários mínimos: {families_above_10_minimums_count}')"
   ]
  }
 ],
 "metadata": {
  "kernelspec": {
   "display_name": "Python 3",
   "language": "python",
   "name": "python3"
  },
  "language_info": {
   "codemirror_mode": {
    "name": "ipython",
    "version": 3
   },
   "file_extension": ".py",
   "mimetype": "text/x-python",
   "name": "python",
   "nbconvert_exporter": "python",
   "pygments_lexer": "ipython3",
   "version": "3.10.6"
  },
  "orig_nbformat": 4
 },
 "nbformat": 4,
 "nbformat_minor": 2
}
