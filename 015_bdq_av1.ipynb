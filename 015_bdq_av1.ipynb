{
 "cells": [
  {
   "attachments": {},
   "cell_type": "markdown",
   "metadata": {},
   "source": [
    "### Banco de questões utilizadas em AV1."
   ]
  },
  {
   "attachments": {},
   "cell_type": "markdown",
   "metadata": {},
   "source": [
    "**1. Escreva um programa que leia um numero inteiro positivo “n” e em seguida imprima “n” linhas do chamado Triângulo de Floyd. Para n = 6, temos como resultado:**\n",
    "\n",
    "<div align=\"center\">\n",
    "    <img src=./images/015_1.png width=\"15%\">\n",
    "</div>"
   ]
  },
  {
   "cell_type": "code",
   "execution_count": 2,
   "metadata": {},
   "outputs": [
    {
     "name": "stdout",
     "output_type": "stream",
     "text": [
      "1 \n",
      "2 3 \n",
      "4 5 6 \n",
      "7 8 9 10 \n",
      "11 12 13 14 15 \n",
      "16 17 18 19 20 21 \n"
     ]
    }
   ],
   "source": [
    "number = int(input('Digite um número para gerar o triângulo de Floyd: '))\n",
    "counter = 1\n",
    "for line in range(number):\n",
    "    for column in range(line+1):\n",
    "        print (counter, end=\" \")\n",
    "        counter += 1\n",
    "    print()"
   ]
  },
  {
   "attachments": {},
   "cell_type": "markdown",
   "metadata": {},
   "source": [
    "**2. Dada uma lista de strings, escreva um programa em Python que imprima a string mais longa que não possui letras repetidas.** \n",
    "\n",
    "- Obs: Não é permitido utilizar o tipo de dados set()."
   ]
  },
  {
   "cell_type": "code",
   "execution_count": 4,
   "metadata": {},
   "outputs": [
    {
     "name": "stdout",
     "output_type": "stream",
     "text": [
      "JaoCzydp\n"
     ]
    }
   ],
   "source": [
    "strings_list = ['Lucas', 'aba', 'Mariaaizb', 'JaoCzydp']\n",
    "longest_string = \"\"\n",
    "for string in strings_list:\n",
    "    characters = []\n",
    "    for char in string:\n",
    "        if char not in characters:\n",
    "            characters.append(char)\n",
    "    if len(characters) == len(string) and len(characters) > len(longest_string):\n",
    "        longest_string = len(characters)\n",
    "        longest_string = string\n",
    "print(longest_string)"
   ]
  },
  {
   "cell_type": "markdown",
   "metadata": {},
   "source": [
    "**3. Escreva um programa que receba duas strings como entrada e, em seguida, gere duas novas strings. A primeira nova string deve conter os caracteres exclusivos da primeira string, ou seja, aqueles que não aparecem na segunda string. A segunda nova string deve conter os caracteres exclusivos da segunda string, ou seja, aqueles que não estão presentes na primeira string.**\n",
    "\n",
    "Entrada Exemplo:<br/>\n",
    "1ª string: \"PROGRAMA\"<br/>\n",
    "2ª string: \"PYTHON\"<br/>\n",
    "\n",
    "Resultado:<br/>\n",
    "Caracteres exclusivos da primeira string: \"GRMA\"<br/>\n",
    "Caracteres exclusivos da segunda string: \"YTHN\"<br/>\n",
    "\n",
    "Obs: A ordem dos caracteres das strings geradas não é importante. Os caracteres das strings geradas não devem se repetir. Não é permitido usar a classe Set."
   ]
  },
  {
   "cell_type": "code",
   "execution_count": 6,
   "metadata": {},
   "outputs": [
    {
     "name": "stdout",
     "output_type": "stream",
     "text": [
      "Caracteres exclusivos da primeira string: RGAM\n",
      "Caracteres exclusivos da segunda string: YTHN\n"
     ]
    }
   ],
   "source": [
    "str1 = input('Digite a 1ª string: ')\n",
    "str2 = input('Digite a 2ª string: ')\n",
    "unique_str1 = []\n",
    "unique_str2 = []\n",
    "\n",
    "print('Caracteres exclusivos da primeira string: ', end='')\n",
    "for element in str1:\n",
    "    if element not in str2 and element not in unique_str1:\n",
    "        print(element, end='')\n",
    "        unique_str1.append(element)\n",
    "\n",
    "print('\\nCaracteres exclusivos da segunda string: ', end='')\n",
    "for element in str2:\n",
    "    if element not in str1 and element not in unique_str1:\n",
    "        print(element, end='')\n",
    "        unique_str2.append(element)\n",
    "print()"
   ]
  },
  {
   "cell_type": "markdown",
   "metadata": {},
   "source": [
    "**4. Faça um programa que receba dois números inteiros. Em seguida calcule e mostre:**\n",
    "\n",
    "**a) a multiplicação dos números ímpares desse intervalo de números, sem incluir os números digitados;**\n",
    "\n",
    "**b) a soma dos números pares desse intervalo, sem incluir os números digitados.**\n",
    "\n",
    "Obs: Considere que os dois números passados podem gerar um intervalo crescente\n",
    "ou decrescente."
   ]
  },
  {
   "cell_type": "code",
   "execution_count": 3,
   "metadata": {},
   "outputs": [
    {
     "name": "stdout",
     "output_type": "stream",
     "text": [
      "a) A multiplicação dos números ímpares do intervalo é: 105\n",
      "b) A soma dos números pares do intervalo é: 10\n"
     ]
    }
   ],
   "source": [
    "number1 = int(input('Digite o primeiro número: '))\n",
    "number2 = int(input('Digite o segundo número: '))\n",
    "\n",
    "mul = 1\n",
    "sum = 0\n",
    "\n",
    "if number1 <= number2:\n",
    "    for number in range(number1+1, number2):\n",
    "        if number%2 == 1:\n",
    "            mul *= number \n",
    "        else: sum += number\n",
    "else:\n",
    "    for number in range(number2+1, number1):\n",
    "        if number%2 == 1:\n",
    "            mul *= number \n",
    "        else: sum += number\n",
    "print('a) A multiplicação dos números ímpares do intervalo é:', mul)\n",
    "print('b) A soma dos números pares do intervalo é:', sum)"
   ]
  },
  {
   "cell_type": "markdown",
   "metadata": {},
   "source": [
    "**5. Crie um programa para dado um valor inteiro menor que 1000, calcule o menor número de notas possíveis (cédulas) no qual o valor pode ser decomposto. As notas consideradas são de 100, 50, 20, 10, 5, 2 e 1. A seguir mostre o valor lido e a relação de notas necessárias.**\n",
    "\n",
    "Entrada exemplo: 437\n",
    " \n",
    "Saída: <br/> \n",
    "4 nota(s) de 100,00<br/> \n",
    "0 nota(s) de 50,00<br/> \n",
    "1 nota(s) de 20,00<br/> \n",
    "1 nota(s) de 10,00<br/> \n",
    "1 nota(s) de 5,00<br/> \n",
    "1 nota(s) de 2,00<br/> \n",
    "0 nota(s) de 1,00"
   ]
  },
  {
   "cell_type": "code",
   "execution_count": 4,
   "metadata": {},
   "outputs": [
    {
     "name": "stdout",
     "output_type": "stream",
     "text": [
      "4 nota(s) de 100,00\n",
      "0 nota(s) de 50,00\n",
      "1 nota(s) de 20,00\n",
      "1 nota(s) de 10,00\n",
      "1 nota(s) de 5,00\n",
      "1 nota(s) de 2,00\n",
      "0 nota(s) de 1,00\n"
     ]
    }
   ],
   "source": [
    "value = int(input('Digite um valor menor que 1000: '))\n",
    "banknotes = [100, 50, 20, 10, 5, 2, 1]\n",
    "\n",
    "for note in banknotes:\n",
    "    print(f'{value//note} nota(s) de {note},00')\n",
    "    value = value%note"
   ]
  },
  {
   "attachments": {},
   "cell_type": "markdown",
   "metadata": {},
   "source": [
    "**6. Suponha que você esteja trabalhando em um projeto para uma empresa de análise de dados que precisa calcular a média da renda familiar de um conjunto indefinido de famílias residentes na cidade de Tangamandápio. Você foi designado para escrever um programa em Python que leia a renda mensal de cada membro de uma família (o número de indivíduos da família deve ser solicitado ao usuário) e em seguida calcule e imprima a renda total da família, o número de indivíduos e a renda familiar média. O número de famílias é indefinido, logo, o seu programa deve solicitar se ainda há famílias para serem calculadas pelo sistema e ao final da inserção dos dados de todas as famílias, o seu programa deve imprimir a renda familiar média da cidade, além do percentual de famílias que possuem renda familiar média inferior a 1 salário mínimo e a quantidade de famílias com renda familiar média superior a 10 salários mínimos.**\n",
    "\n",
    "- Obs: Considere para o salário mínimo, o valor de R$ 1.212,00 e que a renda familiar média da cidade é a soma de todas as rendas familiares divididas pela quantidade de famílias da cidade."
   ]
  },
  {
   "cell_type": "code",
   "execution_count": 5,
   "metadata": {},
   "outputs": [
    {
     "name": "stdout",
     "output_type": "stream",
     "text": [
      "Renda total da família: R$ 15000.00\n",
      "Número de indivíduos: 2\n",
      "Renda familiar média: R$ 7500.00\n",
      "\n",
      "Renda total da família: R$ 1100.00\n",
      "Número de indivíduos: 2\n",
      "Renda familiar média: R$ 550.00\n",
      "\n",
      "Renda total da família: R$ 15000.00\n",
      "Número de indivíduos: 1\n",
      "Renda familiar média: R$ 15000.00\n",
      "\n",
      "---------------Resultados---------------\n",
      "Renda familiar média da cidade: R$ 10366.67\n",
      "Percentual de famílias com renda inferior a 1 salário mínimo: 33.33 %\n",
      "Quantidade de famílias com renda superior a 10 salários mínimos: 1\n"
     ]
    }
   ],
   "source": [
    "city_income = 0\n",
    "families_count = 0\n",
    "families_below_minimum_count = 0\n",
    "families_above_10_minimums_count = 0\n",
    "\n",
    "MINIMUM_WAGE = 1212\n",
    "\n",
    "while True:\n",
    "    num_individuals = int(input('Digite a quantidade de indivíduos na família: '))\n",
    "    family_income = 0\n",
    "\n",
    "    for i in range(num_individuals):\n",
    "        individual_income = float(input(f'Digite a renda mensal do indivíduo {i+1}: '))\n",
    "        family_income += individual_income\n",
    "    print(f'Renda total da família: R$ {family_income:.2f}')\n",
    "    print(f'Número de indivíduos: {num_individuals}')\n",
    "    print(f'Renda familiar média: R$ {family_income/num_individuals:.2f}\\n')\n",
    "\n",
    "    city_income += family_income\n",
    "    families_count += 1\n",
    "\n",
    "    if family_income/num_individuals < MINIMUM_WAGE:\n",
    "        families_below_minimum_count += 1\n",
    "\n",
    "    if family_income/num_individuals > 10*MINIMUM_WAGE:\n",
    "        families_above_10_minimums_count += 1\n",
    "\n",
    "    opcao = input('Deseja calcular a renda de outra família? (S/N) ')\n",
    "    if opcao.upper() != 'S':\n",
    "        break\n",
    "\n",
    "average_family_income = city_income / families_count\n",
    "lower_income_percentage = (families_below_minimum_count / families_count) * 100\n",
    "\n",
    "print(15*'-' + 'Resultados' + 15*'-')\n",
    "print(f'Renda familiar média da cidade: R$ {average_family_income:.2f}')\n",
    "print(f'Percentual de famílias com renda inferior a 1 salário mínimo: {lower_income_percentage:.2f} %')\n",
    "print(f'Quantidade de famílias com renda superior a 10 salários mínimos: {families_above_10_minimums_count}')"
   ]
  },
  {
   "attachments": {},
   "cell_type": "markdown",
   "metadata": {},
   "source": [
    "**7. Faça um programa que solicite uma string ao usuário e em seguida a imprima em formato de escada e no formato de escada invertida.** \n",
    "\n",
    "- Exemplo:\n",
    "\n",
    "<div align=\"center\">\n",
    "    <img src=./images/015_4.png width=\"20%\">\n",
    "</div>"
   ]
  },
  {
   "cell_type": "code",
   "execution_count": 7,
   "metadata": {},
   "outputs": [
    {
     "name": "stdout",
     "output_type": "stream",
     "text": [
      "G\n",
      "Ga\n",
      "Gar\n",
      "Gara\n",
      "Garan\n",
      "Garanh\n",
      "Garanhu\n",
      "Garanhun\n",
      "Garanhuns\n",
      "Garanhuns\n",
      "aranhuns\n",
      "ranhuns\n",
      "anhuns\n",
      "nhuns\n",
      "huns\n",
      "uns\n",
      "ns\n",
      "s\n"
     ]
    }
   ],
   "source": [
    "word = input('Digite uma palavra pra impressão: ')\n",
    "for i in range(len(word)): print(word[:i+1])\n",
    "for i in range(len(word)): print(word[i:])"
   ]
  },
  {
   "attachments": {},
   "cell_type": "markdown",
   "metadata": {},
   "source": [
    "**8. Escreva um programa que compare duas listas e imprima:**\n",
    "\n",
    "a) os valores comuns às duas listas;\n",
    "\n",
    "b) os valores que só existem na primeira lista;\n",
    "\n",
    "c) os valores que existem apenas na segunda lista;\n",
    "\n",
    "d) uma lista com os elementos não repetidos das duas listas;\n",
    "\n",
    "- Obs: O seu programa não deve ser case sensitive. Exemplo A=a, a=A, x=X,\n",
    "etc."
   ]
  },
  {
   "cell_type": "code",
   "execution_count": 8,
   "metadata": {},
   "outputs": [
    {
     "name": "stdout",
     "output_type": "stream",
     "text": [
      "a) Valores comuns às duas listas: ['c', 'd', 'e']\n",
      "b) Valores que só existem na primeira lista: ['a', 'b']\n",
      "c) Valores que existem apenas na segunda lista: ['f', 'g']\n",
      "d) Lista com elementos não repetidos das duas listas: ['a', 'b', 'f', 'g']\n"
     ]
    }
   ],
   "source": [
    "list_1 = ['A', 'b', 'C', 'd', 'e']\n",
    "list_2 = ['c', 'D', 'E', 'F', 'g']\n",
    "\n",
    "list_1 = [element.lower() for element in list_1]\n",
    "list_2 = [element.lower() for element in list_2]\n",
    "    \n",
    "common_characters = []\n",
    "for element in list_1:\n",
    "    if element in list_2 and element not in common_characters:\n",
    "        common_characters.append(element)\n",
    "print(f'a) Valores comuns às duas listas: {common_characters}')\n",
    "    \n",
    "unique_list_1 = []\n",
    "for element in list_1:\n",
    "    if element not in list_2 and element not in unique_list_1:\n",
    "        unique_list_1.append(element)\n",
    "print(f'b) Valores que só existem na primeira lista: {unique_list_1}')\n",
    "    \n",
    "unique_list_2 = []\n",
    "for element in list_2:\n",
    "    if element not in list_1 and element not in unique_list_2:\n",
    "        unique_list_2.append(element) \n",
    "print(f'c) Valores que existem apenas na segunda lista: {unique_list_2}')\n",
    "    \n",
    "print(f'd) Lista com elementos não repetidos das duas listas: {unique_list_1 + unique_list_2}')"
   ]
  },
  {
   "attachments": {},
   "cell_type": "markdown",
   "metadata": {},
   "source": [
    "**9. Um número é dito perfeito quando ele é igual a soma de seus fatores. Por exemplo, os fatores de 6 são 1, 2 e 3 (ou seja, podemos dividir 6 por 1, por 2 e por 3) e 6=1+2+3, logo 6 é um número perfeito. Escreva um programa que recebe um número inteiro “n” e imprime se ele é perfeito ou não. Este mesmo programa também deve imprimir todos os números perfeitos até “n”.**"
   ]
  },
  {
   "cell_type": "code",
   "execution_count": 9,
   "metadata": {},
   "outputs": [
    {
     "name": "stdout",
     "output_type": "stream",
     "text": [
      "700 não é um número perfeito!\n",
      "Números perfeitos encontrados até o número 700:\n",
      "[6, 28, 496]\n"
     ]
    }
   ],
   "source": [
    "n = int(input('Digite um número: '))\n",
    "perfect_numbers = []\n",
    "for number in range(1, n+1):\n",
    "    dividers = []\n",
    "    for i in range(1, number):\n",
    "        if number % i == 0:\n",
    "            dividers.append(i)\n",
    "    if sum(dividers) == number:\n",
    "        perfect_numbers.append(number)\n",
    "if n in perfect_numbers: print(f'{n} é um número perfeito!')\n",
    "else: print(f'{n} não é um número perfeito!')\n",
    "    \n",
    "print(f'Números perfeitos encontrados até o número {n}:')\n",
    "print(perfect_numbers)"
   ]
  },
  {
   "attachments": {},
   "cell_type": "markdown",
   "metadata": {},
   "source": [
    "**10. Você foi contratado por uma equipe de pesquisa para construir um programa em Python. Esta equipe precisará coletar dados sobre a evolução do número de casos de COVID-19 em diferentes cidades de Pernambuco. Os dados serão diários e precisarão ser armazenados em uma lista chamada \"casos_diarios\". A cada coleta, um novo elemento da lista é criado com o número de novos casos, o dia e a cidade do registro. A cada novo registro, os dados devem ser impressos e o usuário deve informar se deseja continuar com a coleta. Ao final da coleta, seu programa deve exibir:**\n",
    "\n",
    "- O número total de casos de COVID-19 em cada cidade, acumulando os valores da lista \"casos_diarios\" ao longo do tempo.\n",
    "- O dia com o maior número de casos em cada cidade.\n",
    "- A média de casos diários em cada cidade.\n",
    "- A cidade com o maior número acumulado de casos até o momento."
   ]
  },
  {
   "cell_type": "code",
   "execution_count": 2,
   "metadata": {},
   "outputs": [
    {
     "name": "stdout",
     "output_type": "stream",
     "text": [
      "\n",
      "Registro adicionado:\n",
      "Cidade: Garanhuns\n",
      "Casos: 499\n",
      "Dia: 01/01/2022\n",
      "\n",
      "Registro adicionado:\n",
      "Cidade: Recife\n",
      "Casos: 1099\n",
      "Dia: 01/01/2022\n",
      "\n",
      "Registro adicionado:\n",
      "Cidade: Recife\n",
      "Casos: 1500\n",
      "Dia: 02/02/2022\n",
      "===============Resultados===============\n",
      "---------------Garanhuns---------------\n",
      "Número total de casos: 499\n",
      "Dia com o maior número de casos: 01/01/2022\n",
      "Média de casos diários: 499.0\n",
      "---------------Recife---------------\n",
      "Número total de casos: 2599\n",
      "Dia com o maior número de casos: 02/02/2022\n",
      "Média de casos diários: 1299.5\n",
      "\n",
      "Cidade com maior número acumulado de casos: Recife\n"
     ]
    }
   ],
   "source": [
    "daily_cases = []\n",
    "\n",
    "while True:\n",
    "    city = input('Digite o nome da cidade: ')\n",
    "    cases = int(input('Digite o número de casos diários: '))\n",
    "    day = input('Digite o dia do registro: ')\n",
    "\n",
    "    daily_cases.append([city, cases, day])\n",
    "    print('\\nRegistro adicionado:')\n",
    "    print(f'Cidade: {city}')\n",
    "    print(f'Casos: {cases}')\n",
    "    print(f'Dia: {day}')\n",
    "\n",
    "    answer = input('Deseja continuar a coleta? (S/N): ')\n",
    "    if answer.upper() != 'S':\n",
    "        break\n",
    "\n",
    "print(15*'=' + 'Resultados' + 15*'=')\n",
    "cities = []\n",
    "highest_amount_city = \"\"\n",
    "highest_accumulated = 0\n",
    "\n",
    "for record in daily_cases:\n",
    "    city = record[0]\n",
    "    if city not in cities:\n",
    "        cities.append(city)\n",
    "\n",
    "for city in cities:\n",
    "    total_cases = 0\n",
    "    days = 0\n",
    "    highest_number_cases = 0\n",
    "    highest_number_cases_day = \"\"\n",
    "    \n",
    "    for record in daily_cases:\n",
    "        if record[0] == city:\n",
    "            total_cases += record[1]\n",
    "            days += 1\n",
    "            if record[1] > highest_number_cases:\n",
    "                highest_number_cases = record[1]\n",
    "                highest_number_cases_day = record[2]\n",
    "    \n",
    "    average_daily_cases = total_cases / days\n",
    "\n",
    "    print(15*'-' + city + 15*'-')\n",
    "    print(f'Número total de casos: {total_cases}')\n",
    "    print(f'Dia com o maior número de casos: {highest_number_cases_day}')\n",
    "    print(f'Média de casos diários: {average_daily_cases}')\n",
    "\n",
    "    if total_cases > highest_accumulated:\n",
    "        highest_accumulated = total_cases\n",
    "        highest_amount_city = city\n",
    "\n",
    "print(f'\\nCidade com maior número acumulado de casos: {highest_amount_city}')"
   ]
  },
  {
   "cell_type": "markdown",
   "metadata": {},
   "source": [
    "**11. Suponha que você esteja trabalhando em um projeto para uma empresa do ramo imobiliário que precisa fazer um levantamento sobre os seus empreendimentos. Você foi designado para escrever um programa em Python que leia o código de cada empreendimento (formato NNN, onde cada N é um dígito 0-9), sua área (em m²), o valor do empreendimento, o valor do aluguel e o status do empreendimento (se está alugado ou não). Os dados deverão ser armazenados em uma estrutura de lista. A cada inserção, os dados do empreendimento devem ser impressos e o usuário deve inserir os dados do próximo empreendimento. A condição de saída do programa é a inserção de um empreendimento de código 000. Ao término da inserção, seu programa deverá iterar sobre a lista para imprimir o patrimônio total da imobiliária (soma dos valores de todos os empreendimentos, independente do status), o número de empreendimentos alugados, o valor total mensal arrecadado, além do empreendimento de menor e maior valor mensal disponível para aluguel.**"
   ]
  },
  {
   "cell_type": "code",
   "execution_count": 12,
   "metadata": {},
   "outputs": [
    {
     "name": "stdout",
     "output_type": "stream",
     "text": [
      "\n",
      "Código: 001\n",
      "Área: 545.0 m²\n",
      "Valor do empreendimento: 800000.00\n",
      "Valor do aluguel: 3500.00\n",
      "Status: alugado\n",
      "\n",
      "\n",
      "Código: 002\n",
      "Área: 45.0 m²\n",
      "Valor do empreendimento: 150000.00\n",
      "Valor do aluguel: 900.00\n",
      "Status: alugado\n",
      "\n",
      "\n",
      "Código: 003\n",
      "Área: 90.0 m²\n",
      "Valor do empreendimento: 240000.00\n",
      "Valor do aluguel: 1500.00\n",
      "Status: disponível\n",
      "\n",
      "\n",
      "Código: 004\n",
      "Área: 150.0 m²\n",
      "Valor do empreendimento: 540000.00\n",
      "Valor do aluguel: 2600.00\n",
      "Status: disponível\n",
      "\n",
      "\n",
      "Código: 005\n",
      "Área: 200.0 m²\n",
      "Valor do empreendimento: 600000.00\n",
      "Valor do aluguel: 2600.00\n",
      "Status: disponível\n",
      "\n",
      "\n",
      "Patrimônio total: 2330000.0\n",
      "Valor total mensal arrecadado: 4400.0\n",
      "Total de empreendimentos alugados: 2\n",
      "\n",
      "Empreendimento(s) de menor valor disponível para aluguel: \n",
      "Código: 003\n",
      "Área: 90.0\n",
      "Valor do empreendimento: 240000.00\n",
      "Valor do aluguel: 1500.00\n",
      "\n",
      "Empreendimento(s) de maior valor disponível para aluguel: \n",
      "Código: 004\n",
      "Área: 150.0\n",
      "Valor do empreendimento: 540000.00\n",
      "Valor do aluguel: 2600.00\n",
      "\n",
      "Código: 005\n",
      "Área: 200.0\n",
      "Valor do empreendimento: 600000.00\n",
      "Valor do aluguel: 2600.00\n",
      "\n"
     ]
    }
   ],
   "source": [
    "properties = []\n",
    "\n",
    "while True:\n",
    "    code = input('Digite o código do empreendimento: ')\n",
    "    if code == '000': break\n",
    "    area = float(input('Digite a area: '))\n",
    "    asset_price = float(input('Digite o valor do empreendimento: '))\n",
    "    rental_price = float(input('Digite o valor do aluguel: '))\n",
    "    status = input('O empreendimento está alugado? (s/n) ').upper()\n",
    "\n",
    "    print(f'''\\nCódigo: {code}\n",
    "Área: {area} m²\n",
    "Valor do empreendimento: {asset_price:.2f}\n",
    "Valor do aluguel: {rental_price:.2f}''')\n",
    "    if status == 'S': print((f'Status: alugado\\n'))\n",
    "    else: print((f'Status: disponível\\n'))\n",
    "    \n",
    "    properties.append([code, area, asset_price, rental_price, status])\n",
    "\n",
    "total_assets = 0\n",
    "total_rental = 0\n",
    "monthly_amount_collected = 0\n",
    "higher_rental_price = [-1.0, []]\n",
    "lower_rental_price = [float('inf'), []]\n",
    "\n",
    "for prop in properties: \n",
    "    total_assets += prop[2]\n",
    "    if prop[4] == 'S': \n",
    "        total_rental += 1\n",
    "        monthly_amount_collected += prop[3]\n",
    "    else:\n",
    "        if prop[3] > higher_rental_price[0]: higher_rental_price = [prop[3], [prop]]\n",
    "        elif prop[3] == higher_rental_price[0]: higher_rental_price[1].append(prop) \n",
    "        \n",
    "        if prop[3] < lower_rental_price[0]: lower_rental_price = [prop[3], [prop]]\n",
    "        elif prop[3] == lower_rental_price[0]: lower_rental_price[1].append(prop) \n",
    "        \n",
    "print('\\nPatrimônio total:', total_assets)\n",
    "print('Valor total mensal arrecadado:', monthly_amount_collected)\n",
    "print('Total de empreendimentos alugados:', total_rental)\n",
    "\n",
    "print('\\nEmpreendimento(s) de menor valor disponível para aluguel: ')\n",
    "for props in lower_rental_price[1]: \n",
    "    print(f'''Código: {props[0]}\n",
    "Área: {props[1]}\n",
    "Valor do empreendimento: {props[2]:.2f}\n",
    "Valor do aluguel: {props[3]:.2f}\\n''')\n",
    "\n",
    "print('Empreendimento(s) de maior valor disponível para aluguel: ')\n",
    "for props in higher_rental_price[1]: \n",
    "    print(f'''Código: {props[0]}\n",
    "Área: {props[1]:}\n",
    "Valor do empreendimento: {props[2]:.2f}\n",
    "Valor do aluguel: {props[3]:.2f}\\n''')"
   ]
  }
 ],
 "metadata": {
  "kernelspec": {
   "display_name": "Python 3",
   "language": "python",
   "name": "python3"
  },
  "language_info": {
   "codemirror_mode": {
    "name": "ipython",
    "version": 3
   },
   "file_extension": ".py",
   "mimetype": "text/x-python",
   "name": "python",
   "nbconvert_exporter": "python",
   "pygments_lexer": "ipython3",
   "version": "3.10.12"
  },
  "orig_nbformat": 4
 },
 "nbformat": 4,
 "nbformat_minor": 2
}
