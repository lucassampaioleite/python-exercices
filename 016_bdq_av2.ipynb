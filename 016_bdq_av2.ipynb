{
 "cells": [
  {
   "attachments": {},
   "cell_type": "markdown",
   "metadata": {},
   "source": [
    "### Banco de questões utilizadas em AV2."
   ]
  },
  {
   "attachments": {},
   "cell_type": "markdown",
   "metadata": {},
   "source": [
    "**1.Crie uma função iterativa e outra função recursiva para verificar se uma lista está ordenada no formato ascendente.**\n",
    "\n",
    "- Obs: Não é permitida a chamada de outras funções a partir das funções implementadas."
   ]
  },
  {
   "cell_type": "code",
   "execution_count": 6,
   "metadata": {},
   "outputs": [
    {
     "name": "stdout",
     "output_type": "stream",
     "text": [
      "True\n",
      "True\n"
     ]
    }
   ],
   "source": [
    "def iterative_up(numbers_list):\n",
    "    for i in range (len(numbers_list)-1):\n",
    "        if numbers_list[i] > numbers_list[i+1]: return False\n",
    "    return True\n",
    "\n",
    "def recursive_up(numbers_list):\n",
    "    if len(numbers_list)<2: return True\n",
    "    elif numbers_list[0]>numbers_list[1]: return False\n",
    "    else: return recursive_up(numbers_list[1:])\n",
    "\n",
    "print(iterative_up([-2, 1, 2, 2, 3, 4, 100]))\n",
    "print(recursive_up([-2, 1, 2, 2, 3, 4, 100]))"
   ]
  },
  {
   "attachments": {},
   "cell_type": "markdown",
   "metadata": {},
   "source": [
    "**3.Considere um sistema de cadastro de pessoas onde os dados de nome, apelido, idade e cpf são armazenados. Nesse sistema existe um dicionário principal e um arquivo de backup. Cada vez que o dicionário principal atinge tamanho 5, ele imprime os dados na tela (formato especificado na letra c), apaga o seu conteúdo e armazena os dados em um arquivo. Este armazenamento em arquivo é cumulativo, ou seja, ao salvar os últimos 5 contatos no backup, os dados anteriores não são apagados do arquivo.**\n",
    "\n",
    "a)(1,0 pts). Crie uma função para solicitar os dados do usuário e armazene-os no dicionário. Apelido é um atributo opcional. Caso ele não seja fornecido, o valor armazenado deve ser a string ‘n/a’. \n",
    "\n",
    "b)(2,0 pts). Escreva uma função que realize o backup, escrevendo no arquivo de acordo com as regras do negócio. Esta função deve ser chamada toda vez que o dicionário atingir o tamanho 5 efetuando as demais operações da regra de negócio.\n",
    "\n",
    "c)(1,0 pts). Implemente uma função que imprima os dados armazenados no dicionário no formato:\n",
    "Nome: ‘valor’, apelido: ‘valor’, idade: ‘valor’, cpf: ‘valor’. \n",
    "- Exemplo: Nome: Lucas, apelido: n/a, idade: 18, cpf: 999.999.999-99.\n",
    "\n",
    "d)(1,0 pts). Escreva uma função que leia os valores de backup e imprima-os no mesmo formato do dicionário.\n",
    "\n",
    "e)(1,0 pt). Crie uma função que apresente um menu para o usuário. A partir deste menu ele deve informar se quer inserir o cadastro de uma nova pessoa ou se quer visualizar todos os usuários cadastrados (dicionário + backup)."
   ]
  },
  {
   "cell_type": "code",
   "execution_count": 15,
   "metadata": {},
   "outputs": [
    {
     "name": "stdout",
     "output_type": "stream",
     "text": [
      "<1> Cadastrar usuário\n",
      "<2> Visualizar todos os usuários\n",
      "<3> Sair\n",
      "Nome: Fulano, apelido: n/a, idade: 72, cpf: 999.999.999-99\n",
      "<1> Cadastrar usuário\n",
      "<2> Visualizar todos os usuários\n",
      "<3> Sair\n",
      "Nome: Fulano, apelido: n/a, idade: 72, cpf: 999.999.999-99\n",
      "<1> Cadastrar usuário\n",
      "<2> Visualizar todos os usuários\n",
      "<3> Sair\n"
     ]
    }
   ],
   "source": [
    "def create_user(dic):\n",
    "    name = input('Digite o nome do usuário: ')\n",
    "    nickname = input('Digite o seu apelido ou tecle Enter: ')\n",
    "    age = input('Digite a sua idade: ')\n",
    "    cpf = input('Digite o seu CPF: ')\n",
    "    if nickname=='': nickname='n/a'\n",
    "    dic[cpf]=[name, nickname, age]\n",
    "    print(generateString(name, nickname, age, cpf))    \n",
    "\n",
    "def menu():\n",
    "    print('''<1> Cadastrar usuário\n",
    "<2> Visualizar todos os usuários\n",
    "<3> Sair''')\n",
    "\n",
    "def backup(dic, path_file):\n",
    "    with open(path_file, 'a') as file:\n",
    "        for chave in dic:\n",
    "            file.write(chave +\" \"+ dic[chave][0] +\" \"+ dic[chave][1] +\" \"+ dic[chave][2]+ '\\n')\n",
    "    dic.clear()\n",
    "\n",
    "def print_dictionary(dic):\n",
    "    for chave in dic:\n",
    "        print(generateString(dic[chave][0], dic[chave][1], dic[chave][2], chave))\n",
    "\n",
    "def print_file(path_file):\n",
    "    with open(path_file, 'r') as file:\n",
    "        for line in file:\n",
    "            data = line.split()\n",
    "            print(generateString(data[1], data[2], data[3], data[0]))\n",
    "            \n",
    "def print_data(dictionary, path_file):\n",
    "    print_dictionary(dictionary)\n",
    "    print_file(path_file)\n",
    "\n",
    "def generateString(nome, apelido, idade, cpf):\n",
    "    return 'Nome: ' + nome + ', apelido: ' + apelido + ', idade: ' + idade + ', cpf: ' + cpf\n",
    "\n",
    "dictionary = {}\n",
    "backup_path = './backup.txt'\n",
    "\n",
    "file = open (backup_path, 'a')\n",
    "file.close()\n",
    "\n",
    "while True:\n",
    "    menu();\n",
    "    option = int(input('Digite uma opção: '))\n",
    "    if option == 1: \n",
    "        create_user(dictionary)\n",
    "        if len(dictionary) == 5: backup(dictionary, backup_path)\n",
    "    elif option == 2: print_data(dictionary, backup_path)\n",
    "    else: break"
   ]
  }
 ],
 "metadata": {
  "kernelspec": {
   "display_name": "Python 3",
   "language": "python",
   "name": "python3"
  },
  "language_info": {
   "codemirror_mode": {
    "name": "ipython",
    "version": 3
   },
   "file_extension": ".py",
   "mimetype": "text/x-python",
   "name": "python",
   "nbconvert_exporter": "python",
   "pygments_lexer": "ipython3",
   "version": "3.10.6"
  },
  "orig_nbformat": 4
 },
 "nbformat": 4,
 "nbformat_minor": 2
}
