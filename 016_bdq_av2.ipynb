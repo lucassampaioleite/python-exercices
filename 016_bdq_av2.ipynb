{
 "cells": [
  {
   "cell_type": "code",
   "execution_count": null,
   "metadata": {},
   "outputs": [],
   "source": []
  },
  {
   "attachments": {},
   "cell_type": "markdown",
   "metadata": {},
   "source": [
    "2.Crie uma função iterativa e outra função recursiva para verificar se uma lista está ordenada no formato ascendente. \n",
    "- Obs: Não é permitida a chamada de outras funções a partir das funções implementadas."
   ]
  },
  {
   "attachments": {},
   "cell_type": "markdown",
   "metadata": {},
   "source": [
    "3.Considere um sistema de cadastro de pessoas onde os dados de nome, apelido, idade e cpf são armazenados. Nesse sistema existe um dicionário principal e um arquivo de backup. Cada vez que o dicionário principal atinge tamanho 5, ele imprime os dados na tela (formato especificado na letra c), apaga o seu conteúdo e armazena os dados em um arquivo. Este armazenamento em arquivo é cumulativo, ou seja, ao salvar os últimos 5 contatos no backup, os dados anteriores não são apagados do arquivo.\n",
    "a)(1,0 pts). Crie uma função para solicitar os dados do usuário e armazene-os no dicionário. Apelido é um atributo opcional. Caso ele não seja fornecido, o valor armazenado deve ser a string ‘n/a’. \n",
    "b)(2,0 pts). Escreva uma função que realize o backup, escrevendo no arquivo de acordo com as regras do negócio. Esta função deve ser chamada toda vez que o dicionário atingir o tamanho 5 efetuando as demais operações da regra de negócio.\n",
    "c)(1,0 pts). Implemente uma função que imprima os dados armazenados no dicionário no formato:\n",
    "Nome: ‘valor’, apelido: ‘valor’, idade: ‘valor’, cpf: ‘valor’. \n",
    "- Exemplo: Nome: Lucas, apelido: n/a, idade: 18, cpf: 999.999.999-99.\n",
    "d)(1,0 pts). Escreva uma função que leia os valores de backup e imprima-os no mesmo formato do dicionário.\n",
    "e)(1,0 pt). Crie uma função que apresente um menu para o usuário. A partir deste menu ele deve informar se quer inserir o cadastro de uma nova pessoa ou se quer visualizar todos os usuários cadastrados (dicionário + backup)."
   ]
  }
 ],
 "metadata": {
  "language_info": {
   "name": "python"
  },
  "orig_nbformat": 4
 },
 "nbformat": 4,
 "nbformat_minor": 2
}
