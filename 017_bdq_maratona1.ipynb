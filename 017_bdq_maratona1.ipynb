{
 "cells": [
  {
   "cell_type": "markdown",
   "metadata": {},
   "source": [
    "### Banco de questões utilizadas em maratonas de programação antes da AV1."
   ]
  },
  {
   "cell_type": "markdown",
   "metadata": {},
   "source": [
    "**1. Distância entre dois pontos.** \n",
    "- Fonte e descrição: [beecrowd | 1015](https://www.beecrowd.com.br/judge/pt/problems/view/1015)"
   ]
  },
  {
   "cell_type": "code",
   "execution_count": 6,
   "metadata": {},
   "outputs": [
    {
     "name": "stdout",
     "output_type": "stream",
     "text": [
      "4.4721\n"
     ]
    }
   ],
   "source": [
    "p1 = input().split()\n",
    "p2 = input().split()\n",
    "dist = (((float(p2[0])-float(p1[0]))**2.0)+((float(p2[1])-float(p1[1])))**2.0)**0.5\n",
    "print('{:.4f}'.format(dist))"
   ]
  },
  {
   "cell_type": "markdown",
   "metadata": {},
   "source": [
    "**2. Leitura Ótica.** \n",
    "- Fonte e descrição: [beecrowd | 1129](https://www.beecrowd.com.br/repository/UOJ_1129.html)"
   ]
  },
  {
   "cell_type": "code",
   "execution_count": 6,
   "metadata": {},
   "outputs": [
    {
     "name": "stdout",
     "output_type": "stream",
     "text": [
      "A\n",
      "E\n",
      "C\n",
      "D\n",
      "*\n",
      "*\n",
      "B\n"
     ]
    }
   ],
   "source": [
    "while True:\n",
    "    number = int(input())\n",
    "    if number==0: break\n",
    "    for i in range(number):\n",
    "        resp = input().split()  \n",
    "        if int(resp[0])<=127 and int(resp[1])>127 and int(resp[2])>127 and int(resp[3])>127 and int(resp[4])>127:\n",
    "            print (\"A\")\n",
    "        elif int(resp[0])>127 and int(resp[1])<=127 and int(resp[2])>127 and int(resp[3])>127 and int(resp[4])>127:\n",
    "            print (\"B\")\n",
    "        elif int(resp[0])>127 and int(resp[1])>127 and int(resp[2])<=127 and int(resp[3])>127 and int(resp[4])>127:\n",
    "            print (\"C\")\n",
    "        elif int(resp[0])>127 and int(resp[1])>127 and int(resp[2])>127 and int(resp[3])<=127 and int(resp[4])>127:    \n",
    "            print (\"D\")\n",
    "        elif int(resp[0])>127 and int(resp[1])>127 and int(resp[2])>127 and int(resp[3])>127 and int(resp[4])<=127:    \n",
    "            print (\"E\")    \n",
    "        else: print (\"*\")"
   ]
  },
  {
   "cell_type": "markdown",
   "metadata": {},
   "source": [
    "**3. Linha na Matriz.** \n",
    "- Fonte e descrição: [beecrowd | 1181](https://www.beecrowd.com.br/repository/UOJ_1181.html)"
   ]
  },
  {
   "cell_type": "code",
   "execution_count": 17,
   "metadata": {},
   "outputs": [],
   "source": [
    "line_op=int(input())\n",
    "operation=input()\n",
    "\n",
    "matrix=[]\n",
    "for line in range(12):\n",
    "    list=[]\n",
    "    for column in range(12):\n",
    "        list.append(float(input()))\n",
    "    matrix.append(list)\n",
    "\n",
    "if operation=='S': print(sum(matrix[line_op]))\n",
    "elif operation=='M': print('{:.1f}'.format(sum(matrix[line_op])/12))"
   ]
  },
  {
   "cell_type": "markdown",
   "metadata": {},
   "source": [
    "**4. Cifra de César.** \n",
    "- Fonte e descrição: [beecrowd | 1253](https://www.beecrowd.com.br/repository/UOJ_1253.html)"
   ]
  },
  {
   "cell_type": "code",
   "execution_count": 19,
   "metadata": {},
   "outputs": [
    {
     "name": "stdout",
     "output_type": "stream",
     "text": [
      "TOPCODER\n",
      "QRSTUVWXYZABCDEFGHIJKLMNOP\n",
      "TOPCODER\n",
      "AXCHMA\n",
      "CAMOBAP\n",
      "HELLOWORLD\n"
     ]
    }
   ],
   "source": [
    "alphabet = ['A', 'B', 'C', 'D', 'E', 'F', 'G', 'H', 'I', 'J', 'K', 'L', 'M', 'N', 'O', 'P', 'Q', 'R', 'S', 'T', 'U', 'V', 'W', 'X', 'Y', 'Z']\n",
    "cases = int(input())\n",
    "for case in range(cases):\n",
    "    word = input()\n",
    "    rotation = int(input())\n",
    "    for char in word:\n",
    "        index = alphabet.index(char)\n",
    "        print(alphabet[index - rotation], end=\"\")\n",
    "    print()   "
   ]
  },
  {
   "cell_type": "code",
   "execution_count": 27,
   "metadata": {},
   "outputs": [
    {
     "name": "stdout",
     "output_type": "stream",
     "text": [
      "TOPCODER\n",
      "QRSTUVWXYZABCDEFGHIJKLMNOP\n",
      "TOPCODER\n",
      "AXCHMA\n",
      "CAMOBAP\n",
      "HELLOWORLD\n"
     ]
    }
   ],
   "source": [
    "cases = int(input())\n",
    "\n",
    "for case in range(cases):\n",
    "    word = input()\n",
    "    rotation = int(input())\n",
    "    for char in word:\n",
    "        position = ord(char)-rotation\n",
    "        if(position < 65): print(chr(91-(65-position)), end='')\n",
    "        else: print(chr(position), end='')\n",
    "    print()"
   ]
  },
  {
   "cell_type": "markdown",
   "metadata": {},
   "source": [
    "**5. Entrada e Saída CPF.** \n",
    "- Fonte e descrição: [beecrowd | 2763](https://www.beecrowd.com.br/repository/UOJ_2763.html)"
   ]
  },
  {
   "cell_type": "code",
   "execution_count": 32,
   "metadata": {},
   "outputs": [
    {
     "name": "stdout",
     "output_type": "stream",
     "text": [
      "000\n",
      "000\n",
      "000\n",
      "00\n"
     ]
    }
   ],
   "source": [
    "cpf = input()\n",
    "print('''{}\n",
    "{}\n",
    "{}\n",
    "{}'''.format(cpf[:3], cpf[4:7], cpf[8:11], cpf[12:]))"
   ]
  },
  {
   "cell_type": "markdown",
   "metadata": {},
   "source": [
    "**6. Basquete de Robôs.** \n",
    "- Fonte e descrição: [beecrowd | 2780](https://www.beecrowd.com.br/repository/UOJ_2780.html)"
   ]
  },
  {
   "cell_type": "code",
   "execution_count": 35,
   "metadata": {},
   "outputs": [
    {
     "name": "stdout",
     "output_type": "stream",
     "text": [
      "2\n"
     ]
    }
   ],
   "source": [
    "point = int(input())\n",
    "if point <= 800: print(1)\n",
    "elif 800<point<=1400: print(2)\n",
    "elif 1400<point<=2000: print(3) "
   ]
  },
  {
   "cell_type": "markdown",
   "metadata": {},
   "source": [
    "**7. Quanta Mandioca?** \n",
    "- Fonte e descrição: [beecrowd | 2936](https://www.beecrowd.com.br/repository/UOJ_2936.html)"
   ]
  },
  {
   "cell_type": "code",
   "execution_count": 39,
   "metadata": {},
   "outputs": [
    {
     "name": "stdout",
     "output_type": "stream",
     "text": [
      "7325\n"
     ]
    }
   ],
   "source": [
    "list = [300, 1500, 600, 1000, 150]\n",
    "amount = 225\n",
    "for i in range(5): amount += int(input())*list[i]\n",
    "print(amount)"
   ]
  },
  {
   "cell_type": "markdown",
   "metadata": {},
   "source": [
    "**8. Nota Esquecida** \n",
    "- Fonte e descrição: [beecrowd | 3055](https://www.beecrowd.com.br/repository/UOJ_3055.html)"
   ]
  },
  {
   "cell_type": "code",
   "execution_count": 42,
   "metadata": {},
   "outputs": [
    {
     "name": "stdout",
     "output_type": "stream",
     "text": [
      "99\n"
     ]
    }
   ],
   "source": [
    "grade1 = int(input())\n",
    "avg = int(input())\n",
    "print(2*avg-grade1)"
   ]
  },
  {
   "cell_type": "markdown",
   "metadata": {},
   "source": [
    "**9. Desviando de Árvores de Natal** \n",
    "- Fonte e descrição: [beecrowd | 3042](https://www.beecrowd.com.br/repository/UOJ_3042.html)"
   ]
  },
  {
   "cell_type": "code",
   "execution_count": 3,
   "metadata": {},
   "outputs": [
    {
     "name": "stdout",
     "output_type": "stream",
     "text": [
      "2\n"
     ]
    }
   ],
   "source": [
    "number = int(input())\n",
    "while number > 0: \n",
    "    road = 2\n",
    "    count = 0\n",
    "    for i in range(number):\n",
    "        line = input()\n",
    "        if(line == '0 1 1') and road != 1: \n",
    "            count += abs(road-1)\n",
    "            road = 1\n",
    "        elif(line == '1 0 1') and road != 2: \n",
    "            count += abs(road-2)\n",
    "            road = 2\n",
    "        elif(line == '1 1 0') and road != 3: \n",
    "            count += abs(road-3)\n",
    "            road = 3\n",
    "    print(count)\n",
    "    number = int(input())    "
   ]
  },
  {
   "cell_type": "markdown",
   "metadata": {},
   "source": [
    "**10. Array Hash** \n",
    "- Fonte e descrição: [beecrowd | 1257](https://www.beecrowd.com.br/repository/UOJ_1257.html)"
   ]
  },
  {
   "cell_type": "code",
   "execution_count": 24,
   "metadata": {},
   "outputs": [
    {
     "name": "stdout",
     "output_type": "stream",
     "text": [
      "21\n",
      "25\n",
      "30\n",
      "4290\n",
      "295\n"
     ]
    }
   ],
   "source": [
    "cases = int(input())\n",
    "\n",
    "for case in range(cases):\n",
    "    value = 0\n",
    "    lines = int(input())\n",
    "    for i in range(line):\n",
    "        word = input()\n",
    "        for j in range(len(word)):\n",
    "            value += ord(word[j]) - 65 + i + j\n",
    "    print(value)"
   ]
  }
 ],
 "metadata": {
  "kernelspec": {
   "display_name": "Python 3",
   "language": "python",
   "name": "python3"
  },
  "language_info": {
   "codemirror_mode": {
    "name": "ipython",
    "version": 3
   },
   "file_extension": ".py",
   "mimetype": "text/x-python",
   "name": "python",
   "nbconvert_exporter": "python",
   "pygments_lexer": "ipython3",
   "version": "3.10.12"
  },
  "orig_nbformat": 4
 },
 "nbformat": 4,
 "nbformat_minor": 2
}
